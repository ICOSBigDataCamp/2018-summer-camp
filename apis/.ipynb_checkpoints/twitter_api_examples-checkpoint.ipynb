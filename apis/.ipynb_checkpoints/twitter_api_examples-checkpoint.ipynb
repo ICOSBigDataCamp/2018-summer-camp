{
 "cells": [
  {
   "cell_type": "markdown",
   "metadata": {},
   "source": [
    "# Twitter data collection\n",
    "\n",
    "Note that you will need to have an API key from twitter to use this. You can create one here: https://apps.twitter.com"
   ]
  },
  {
   "cell_type": "markdown",
   "metadata": {},
   "source": [
    "## Imports\n",
    "- `pandas` is a package for handling and manipulating data.\n",
    "- `tweepy` is a package that helps you use the Twitter API in python.\n",
    "- `time` is a package that lets you work with time in python. \n",
    "- `json` is a package for handling data in json format "
   ]
  },
  {
   "cell_type": "code",
   "execution_count": null,
   "metadata": {},
   "outputs": [],
   "source": [
    "import pandas as pd\n",
    "import tweepy\n",
    "import time\n",
    "import json"
   ]
  },
  {
   "cell_type": "markdown",
   "metadata": {},
   "source": [
    "## Keys\n",
    "- You'll need API keys from twitter to use their API. Once you have them, they can go here."
   ]
  },
  {
   "cell_type": "code",
   "execution_count": null,
   "metadata": {},
   "outputs": [],
   "source": [
    "keys = {'CONSUMER_KEY': 'xxx',\n",
    "        'CONSUMER_SECRET': 'xxx'}"
   ]
  },
  {
   "cell_type": "markdown",
   "metadata": {},
   "source": [
    "### Loading a key from a file\n",
    "- I already have a key saved in a file called `twitter_auth`. \n",
    "- This code reads that file and uses the key."
   ]
  },
  {
   "cell_type": "code",
   "execution_count": null,
   "metadata": {},
   "outputs": [],
   "source": [
    "with open('twitter_auth', 'r') as f:\n",
    "    keys = json.loads(f.read())    \n",
    "keys"
   ]
  },
  {
   "cell_type": "markdown",
   "metadata": {},
   "source": [
    "### Using keys\n",
    "- Once you have keys, you'll need to give them to `tweepy` so that it can use them to get the data you request."
   ]
  },
  {
   "cell_type": "code",
   "execution_count": null,
   "metadata": {},
   "outputs": [],
   "source": [
    "auth = tweepy.AppAuthHandler(keys['CONSUMER_KEY'], \n",
    "                                  keys['CONSUMER_SECRET'])\n",
    "\n",
    "api = tweepy.API(auth, wait_on_rate_limit=True, \n",
    "                 wait_on_rate_limit_notify=True)\n",
    "\n",
    "if not api:\n",
    "    print (\"Can't Authenticate :(\")\n",
    "else:\n",
    "    print('Authenticated successfully!')"
   ]
  },
  {
   "cell_type": "markdown",
   "metadata": {},
   "source": [
    "## User account names we want to get tweets for"
   ]
  },
  {
   "cell_type": "code",
   "execution_count": null,
   "metadata": {},
   "outputs": [],
   "source": [
    "users = ['nyctaxi', 'NYTWA', 'NYC_TMODA', 'YellowCabNYC', \n",
    "         'NYC_DOT', 'NYCTSubway']"
   ]
  },
  {
   "cell_type": "markdown",
   "metadata": {},
   "source": [
    "## Some functions to help us\n",
    "- Normally we wouldn't write code this repetitive, but it is here for example."
   ]
  },
  {
   "cell_type": "code",
   "execution_count": null,
   "metadata": {},
   "outputs": [],
   "source": [
    "# create a function that takes a username and the tweepy API as arguments\n",
    "def get_user_tweets(name, api):\n",
    "    \n",
    "    #make an empty list to save tweets in\n",
    "    tweets = []\n",
    "    \n",
    "    # ask python to try and do the following code.\n",
    "    # if the code breaks, python will instead do what's under \"except\"\n",
    "    try: \n",
    "        \n",
    "        # loop over each tweet tweepy finds\n",
    "        for status in tweepy.Cursor(api.user_timeline,  # the kind of data we want\n",
    "                                    screen_name=name,   # the user we want data for\n",
    "                                    count=200).items(): # the maximum number to get at once\n",
    "            try: \n",
    "                # try to convert this tweet to json and then add it to our list\n",
    "                tweets.append(status._json)\n",
    "            except:\n",
    "                # sometimes a tweet is broken or missing, so we can't get its json\n",
    "                # here we just ignore those tweets with \"pass\", which means \"do nothing\"\n",
    "                pass\n",
    "    except:\n",
    "        # sometimes we can't get anything for a user, perhaps because the user doesn't exist\n",
    "        # here we just skip them using \"pass\" \n",
    "        # you could do more complicated error handling if you wanted\n",
    "        pass\n",
    "    \n",
    "    # take the list of tweets we made, and give it back to whatever code asked for it\n",
    "    return tweets\n",
    "\n",
    "\n",
    "def get_user_followers(name, api):\n",
    "    followers = []\n",
    "    try: \n",
    "        for status in tweepy.Cursor(api.followers, \n",
    "                                    screen_name=name, \n",
    "                                    count=200).items():\n",
    "            try:\n",
    "                followers.append(status._json)\n",
    "            except:\n",
    "                pass\n",
    "            if len(followers) >= 5000:\n",
    "                print(name, \"has more than 5,000 followers. Stopping at 5,000.\")\n",
    "                break\n",
    "    except:\n",
    "        pass\n",
    "    return followers\n",
    "\n",
    "def get_user_followers_ids(name, api):\n",
    "    followers = []\n",
    "    try: \n",
    "        for status in tweepy.Cursor(api.followers_ids, \n",
    "                                    screen_name=name, \n",
    "                                    count=5000).items():\n",
    "            try:\n",
    "                followers.append(status)\n",
    "            except:\n",
    "                pass\n",
    "            if len(followers) >= 5000:\n",
    "                print(name, \"has more than 5,000 followers. Stopping at 5,000.\")\n",
    "                break\n",
    "            \n",
    "    except:\n",
    "        pass\n",
    "    return {'name':name, 'followers': followers}\n",
    "\n",
    "\n",
    "def get_user_friends(name, api):\n",
    "    friends = []\n",
    "    try: \n",
    "        for status in tweepy.Cursor(api.friends, \n",
    "                                    screen_name=name, \n",
    "                                    count=200).items():\n",
    "            try:\n",
    "                friends.append(status._json)\n",
    "            except:\n",
    "                pass\n",
    "            if len(friends) >= 5000:\n",
    "                print(name, \"has more than 5,000 friends. Stopping at 5,000.\")\n",
    "                break\n",
    "    except:\n",
    "        pass\n",
    "    return friends\n",
    "\n",
    "def get_user_friends_ids(name, api):\n",
    "    friends = []\n",
    "    try: \n",
    "        for status in tweepy.Cursor(api.friends_ids, \n",
    "                                    screen_name=name, \n",
    "                                    count=5000).items():\n",
    "            try:\n",
    "                friends.append(status)\n",
    "            except:\n",
    "                pass\n",
    "            if len(friends) >= 5000:\n",
    "                print(name, \"has more than 5,000 friends. Stopping at 5,000.\")\n",
    "                break\n",
    "    except:\n",
    "        pass\n",
    "    return {'name':name, 'friends': friends}"
   ]
  },
  {
   "cell_type": "code",
   "execution_count": null,
   "metadata": {},
   "outputs": [],
   "source": [
    "all_tweets = []\n",
    "\n",
    "for u in users:\n",
    "    print(\"Getting tweets for user\", u)\n",
    "    tweets = get_user_tweets(u, api)\n",
    "    print(\"Found\", len(tweets), 'tweets.')\n",
    "    all_tweets.extend(tweets)\n",
    "    \n",
    "print('Done!')"
   ]
  },
  {
   "cell_type": "markdown",
   "metadata": {},
   "source": [
    "## What's the data look like?"
   ]
  },
  {
   "cell_type": "code",
   "execution_count": null,
   "metadata": {},
   "outputs": [],
   "source": [
    "all_tweets[0]"
   ]
  },
  {
   "cell_type": "markdown",
   "metadata": {},
   "source": [
    "## Save our data"
   ]
  },
  {
   "cell_type": "code",
   "execution_count": null,
   "metadata": {},
   "outputs": [],
   "source": [
    "# open a file to save our tweets into\n",
    "with open('data/tweets_raw.json', 'w') as out_file:\n",
    "    #loop through all tweets\n",
    "    for t in all_tweets:\n",
    "        #save each tweet to the file as json\n",
    "        json.dump(t, out_file)\n",
    "        #write each tweet on its own line\n",
    "        out_file.write('\\n')"
   ]
  },
  {
   "cell_type": "markdown",
   "metadata": {},
   "source": [
    "## Convert it to pandas"
   ]
  },
  {
   "cell_type": "code",
   "execution_count": null,
   "metadata": {},
   "outputs": [],
   "source": [
    "df = pd.DataFrame(all_tweets)\n",
    "df.head()"
   ]
  },
  {
   "cell_type": "markdown",
   "metadata": {},
   "source": [
    "## Friends"
   ]
  },
  {
   "cell_type": "code",
   "execution_count": null,
   "metadata": {},
   "outputs": [],
   "source": [
    "all_friends = []\n",
    "\n",
    "for u in users:\n",
    "    print(\"Getting friends for user\", u)\n",
    "    friends = get_user_friends(u, api)\n",
    "    print(\"Found\", len(friends), 'friends.')\n",
    "    all_friends.extend(friends)\n",
    "    \n",
    "print('Done!')"
   ]
  },
  {
   "cell_type": "code",
   "execution_count": null,
   "metadata": {},
   "outputs": [],
   "source": [
    "all_friends[0]"
   ]
  },
  {
   "cell_type": "code",
   "execution_count": null,
   "metadata": {},
   "outputs": [],
   "source": [
    "with open('data/friends_raw.json', 'w') as out_file:\n",
    "    for t in all_friends:\n",
    "        json.dump(t, out_file)\n",
    "        out_file.write('\\n')"
   ]
  },
  {
   "cell_type": "markdown",
   "metadata": {},
   "source": [
    "## Followers"
   ]
  },
  {
   "cell_type": "code",
   "execution_count": null,
   "metadata": {},
   "outputs": [],
   "source": [
    "all_followers = []\n",
    "\n",
    "for u in users:\n",
    "    print(\"Getting followers for user\", u)\n",
    "    followers = get_user_followers(u, api)\n",
    "    print(\"Found\", len(followers), 'followers.')\n",
    "    all_followers.extend(followers)\n",
    "    \n",
    "print('Done!')"
   ]
  },
  {
   "cell_type": "code",
   "execution_count": null,
   "metadata": {},
   "outputs": [],
   "source": [
    "all_followers[0]"
   ]
  },
  {
   "cell_type": "code",
   "execution_count": null,
   "metadata": {},
   "outputs": [],
   "source": [
    "with open('data/followers_raw.json', 'w') as out_file:\n",
    "    for t in all_followers:\n",
    "        json.dump(t, out_file)\n",
    "        out_file.write('\\n')"
   ]
  },
  {
   "cell_type": "markdown",
   "metadata": {},
   "source": [
    "## Followers IDs only"
   ]
  },
  {
   "cell_type": "code",
   "execution_count": null,
   "metadata": {},
   "outputs": [],
   "source": [
    "all_followers_ids = []\n",
    "\n",
    "for u in users:\n",
    "    print(\"Getting follower IDs for user\", u)\n",
    "    followers = get_user_followers_ids(u, api)\n",
    "    print(\"Found\", len(followers['followers']), 'followers.')\n",
    "    all_followers_ids.append(followers)\n",
    "    \n",
    "print('Done!')"
   ]
  },
  {
   "cell_type": "code",
   "execution_count": null,
   "metadata": {},
   "outputs": [],
   "source": [
    "all_followers_ids[2]"
   ]
  },
  {
   "cell_type": "code",
   "execution_count": null,
   "metadata": {},
   "outputs": [],
   "source": [
    "with open('data/followers_ids_raw.json', 'w') as out_file:\n",
    "    for t in all_followers_ids:\n",
    "        json.dump(t, out_file)\n",
    "        out_file.write('\\n')"
   ]
  },
  {
   "cell_type": "code",
   "execution_count": null,
   "metadata": {},
   "outputs": [],
   "source": []
  }
 ],
 "metadata": {
  "kernelspec": {
   "display_name": "Python 3",
   "language": "python",
   "name": "python3"
  },
  "language_info": {
   "codemirror_mode": {
    "name": "ipython",
    "version": 3
   },
   "file_extension": ".py",
   "mimetype": "text/x-python",
   "name": "python",
   "nbconvert_exporter": "python",
   "pygments_lexer": "ipython3",
   "version": "3.6.5"
  }
 },
 "nbformat": 4,
 "nbformat_minor": 2
}
