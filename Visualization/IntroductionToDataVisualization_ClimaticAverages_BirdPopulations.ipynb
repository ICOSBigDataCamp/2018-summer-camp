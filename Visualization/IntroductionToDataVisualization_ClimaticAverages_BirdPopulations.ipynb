{
 "cells": [
  {
   "cell_type": "markdown",
   "metadata": {},
   "source": [
    "# Introduction to Basic Data Visualization With Python\n",
    "\n",
    "## *Analyzing the Global Temperatures Differences from Average from 1880 - 2017 Along with North American Bird Species Migratory Patterns*\n",
    "\n",
    "In this lecture we learn from reading in a text file, some basics of Python (the programming commands) for data analysis through utilizing the Jupyter environment (this display) to analyze data.\n",
    "\n",
    "You will learn how to: \n",
    "\n",
    "- Read in a CSV (comma seperated data file) into a data format for analysis\n",
    "- Plotting Basics (line plots, bar charts, and colors)\n",
    "- Indexing (simple, and boolean indexing)\n",
    "- Use Hex Codes for Colors\n",
    "- Use datetime objects\n",
    "- Use datetime objects as an index in a Pandas dataframe\n",
    "- Plot with error envelopes\n",
    "- Create simple legends\n",
    "- And best of all...create line, bar, and scatter plots.\n",
    "\n",
    "By the end of this lab you should be able to: read in simple data from CSV, use boolean indexing, and make a line plot / bar chart.\n",
    "\n",
    "Additional materials and resources on the data in this lesson for referencing: \n",
    "\n",
    "- The temperature dataset used in this lab is one of the highlighted datasets in the National Climate Asssesment (3rd edition circa 2014. See [Figure 2.2 / 2.3](https://nca2014.globalchange.gov/report/our-changing-climate/observed-change)). These are interactive, feel free to click around. The fourth edition part 1 came out recently in [2017](https://science2017.globalchange.gov/chapter/front-matter-about/). \n",
    "    \n",
    "- Similarly the same dataset is presented in this figure by [Huber and Knutti, 2011](https://www.nature.com/articles/ngeo1327.pdf) and look at Figure 3, note the similarities and differences in presentation dependent on audience between this paper and the NCA.  \n",
    "\n",
    "- The Audobon Society Bird Data can be found [here](https://www.epa.gov/climate-indicators/climate-change-indicators-bird-wintering-ranges) and the original report and compilation can be found at the Audobon Society [website](http://web4.audubon.org/bird/bacc/techreport.html).\n",
    "\n",
    "    \n"
   ]
  },
  {
   "cell_type": "markdown",
   "metadata": {},
   "source": [
    "### What is Matplotlib?\n",
    "\n",
    "Matplotlib is a package that enables visualization and graphics in Python. While we are using Jupyter to demonstrate this package, we will also be saving figures at publication ready formats so that you can see how to use this in your work. Matplotlib like most other Python packages has amazing documentation online. You can check it out at the [documentation] (https://matplotlib.org/) online.\n",
    "\n",
    "### Why are we using it? \n",
    "\n",
    "Matplotlib is the basic plotting package for Python. There are several other packages that are availible including the gaining popularity [Seaborn](https://seaborn.pydata.org/) package. Seaborn is useful if you are dealing with some basic stats that you want to show. If we have time in class we will see some of the types of things you can do with Seaborn.\n",
    "\n",
    "### Part 1: Reading In Required Packages and Data"
   ]
  },
  {
   "cell_type": "code",
   "execution_count": null,
   "metadata": {},
   "outputs": [],
   "source": [
    "#As a reminder, the hashtag we use to make a comment\n",
    "#this be used so that the computer skips reading this code\n",
    "\n",
    "#think of packages like enabling different levels of a game \n",
    "#importing packages\n",
    "import numpy as np               #for handling numbers w/ precision\n",
    "import pandas as pd              #for handling dataframes\n",
    "import datetime as dt            #this enables datetime object handling\n",
    "    \n",
    "###########THIS ENABLES MATPLOTLIB PLOTTING\n",
    "import matplotlib.pyplot as plt  #for plotting of datasets\n",
    "\n",
    "#setting up Jupyter environment so plots will be placed in the notebook\n",
    "%matplotlib inline\n"
   ]
  },
  {
   "cell_type": "code",
   "execution_count": null,
   "metadata": {},
   "outputs": [],
   "source": [
    "#Within the folder you all downloaded is a data subdirectory with global temperature \n",
    "#anomaly data from following comma seperated values (CSV)\n",
    "\n",
    "#this data is from the following website: \n",
    "#https://www.ncdc.noaa.gov/cag/time-series/global/globe/land/ytd/12/1880-2017\n",
    "\n",
    "#Provided by NOAA National Center for Environmental Information\n",
    "#Global temperature anomaly data come from the Global Historical Climatology \n",
    "#Network-Monthly (GHCN-M) data set and International Comprehensive Ocean-Atmosphere \n",
    "#Data Set (ICOADS), which have data from 1880 to the present. \n",
    "\n",
    "#This data is the timeseries of global-scale temperature anomalies calculated with respect to \n",
    "#the 20th century average.\n",
    "\n",
    "#the following command reads from a csv format into a pandas dataframe called temperVarGlobal\n",
    "#note the header = 4 command, this designates four skipped lines before assigned variables. \n",
    "\n",
    "temperVarGlobal = pd.read_csv('./Data/GlobalLandAndOcean_1880-2017_TempVariants.csv', \n",
    "                              header = 4)"
   ]
  },
  {
   "cell_type": "code",
   "execution_count": null,
   "metadata": {},
   "outputs": [],
   "source": [
    "#As always, you should make sure the data was\n",
    "#read in correctly, here are some methods you can use\n",
    "#to make sure\n",
    "\n",
    "#check the type - should be a dataframe\n",
    "print(type(temperVarGlobal))\n",
    "print(temperVarGlobal.columns)"
   ]
  },
  {
   "cell_type": "code",
   "execution_count": null,
   "metadata": {},
   "outputs": [],
   "source": [
    "#check the first 10 rows\n",
    "temperVarGlobal.head(n=10)\n",
    "\n",
    "#here you can see on the left hand side the index values, followed by the year, then Value. \n",
    "#This data did NOT provide a nice column name for the rows in the CSV file so we have the \n",
    "#'Value'.\n",
    "\n",
    "#given the information above and at the website we know that this is the temperature anomoly \n",
    "#for Earth for each year in Celcius"
   ]
  },
  {
   "cell_type": "markdown",
   "metadata": {},
   "source": [
    "### Part 2: Cleaning Data\n",
    "\n",
    "We noticed that it says Value, not what the data actually represents. Similarly while dealing in Celcius can be useful, it can also be useful to have these values represented in Farenheit."
   ]
  },
  {
   "cell_type": "code",
   "execution_count": null,
   "metadata": {},
   "outputs": [],
   "source": [
    "#let's rename the column so it's not a vague \"Value\"\n",
    "temperVarGlobal.rename(columns={'Value': 'AnomalyC'}, inplace=True)\n",
    "#inplace = True is to prevent redefining a NEW dataframe object\n",
    "\n",
    "#let's check the columns\n",
    "print(temperVarGlobal.columns)"
   ]
  },
  {
   "cell_type": "code",
   "execution_count": null,
   "metadata": {},
   "outputs": [],
   "source": [
    "#here we define a NEW columns based off the old column\n",
    "temperVarGlobal['AnomalyF'] = temperVarGlobal['AnomalyC'] * 1.8\n",
    "\n",
    "#let's make sure this did what we wanted\n",
    "print(temperVarGlobal.head(n=10))"
   ]
  },
  {
   "cell_type": "markdown",
   "metadata": {},
   "source": [
    "### Part 3: Create Super Basic Exploratory Graphic"
   ]
  },
  {
   "cell_type": "code",
   "execution_count": null,
   "metadata": {},
   "outputs": [],
   "source": [
    "#first pass plotting examples - \n",
    "plt.plot(temperVarGlobal['Year'], temperVarGlobal['AnomalyF'])\n",
    "\n",
    "#this creates a super simple plot - what if we want this as a part of a figure?"
   ]
  },
  {
   "cell_type": "code",
   "execution_count": null,
   "metadata": {},
   "outputs": [],
   "source": [
    "#define a figure (think of this as a page)\n",
    "fig = plt.figure(figsize=(10, 5))\n",
    "\n",
    "#let's give it a title\n",
    "fig.suptitle('Temperature Variants From 1800 - 2017 Global Averages', fontsize=20)\n",
    "\n",
    "#lets just make a line plot, worry about everything else later\n",
    "plt.plot(temperVarGlobal['Year'], temperVarGlobal['AnomalyF'])\n",
    "\n",
    "#and label some axis - note how the fontsize command\n",
    "#is incredibly useful? \n",
    "plt.ylabel('Anomaly $\\degree$F', fontsize = 20)\n",
    "plt.xlabel('Year', fontsize = 20)\n",
    "\n",
    "#SPECIAL NOTE using $COMMANDS$  in a text entry will enable symbols \n",
    "#through Latex - see special enabled commands here: \n",
    "#https://oeis.org/wiki/List_of_LaTeX_mathematical_symbols"
   ]
  },
  {
   "cell_type": "markdown",
   "metadata": {},
   "source": [
    "### So this is super basic matplotlib....\n",
    "...\n",
    "...\n",
    "\n",
    "\n",
    "And it's sorta...not so nice looking. \n",
    "1) the labels are small and hard to read \n",
    "2) it's also hard to tell if it's below or above zero which is really the main point of this chart...let's learn how to make this a publication ready chart by adding some nifty features"
   ]
  },
  {
   "cell_type": "markdown",
   "metadata": {},
   "source": [
    "### Part 4: Create Explanatory Graphic Demonstrating Trend"
   ]
  },
  {
   "cell_type": "code",
   "execution_count": null,
   "metadata": {},
   "outputs": [],
   "source": [
    "#Note anything within the comment bars are additions to the figure. \n",
    "\n",
    "\n",
    "fig = plt.figure(figsize=(10, 5))\n",
    "fig.suptitle('Temperature Variants From 1800 - 2017 Global Averages', fontsize=20)\n",
    "\n",
    "plt.plot(temperVarGlobal['Year'], temperVarGlobal['AnomalyF'])\n",
    "\n",
    "plt.ylabel('Anomaly $\\degree$F', fontsize = 20)\n",
    "plt.xlabel('Year', fontsize = 20)\n",
    "\n",
    "\n",
    "#----------------------------------------- we add the following to our code\n",
    "plt.xticks(fontsize=16) #make the xaxis labels larger\n",
    "plt.yticks(fontsize=16) #make the yaxis labels larger\n",
    "plt.axhline(y=0.0, color='k', linestyle='--') #add a horizontal line at 0\n",
    "plt.grid(color='gray', linestyle='dashed') #add a grid so it's easier to tell if at zero\n",
    "#-----------------------------------------\n"
   ]
  },
  {
   "cell_type": "markdown",
   "metadata": {},
   "source": [
    "\n",
    "...\n",
    "\n",
    "...\n",
    "\n",
    "\n",
    "...\n",
    "\n",
    "\n",
    "\n",
    "\n",
    "\n",
    "\n",
    "\n",
    "\n",
    "\n",
    "### Mmmmmm so this is getting better. But what we loose here is that we KNOW that each point has a definitive width of 1 year, it's an average over that year, the chaotic behavior of the line is more misleading than informative."
   ]
  },
  {
   "cell_type": "markdown",
   "metadata": {},
   "source": [
    "### Part 5: Iteration on Same Graphic"
   ]
  },
  {
   "cell_type": "code",
   "execution_count": null,
   "metadata": {},
   "outputs": [],
   "source": [
    "fig = plt.figure(figsize=(10, 5))\n",
    "fig.suptitle('Temperature Variants From 1800 - 2017 Global Averages', fontsize=20)\n",
    "\n",
    "#----------------------------------------- we have edited this into a bar chart\n",
    "\n",
    "#note we make it purple for fun ;)\n",
    "#also the align = 'edge' will align to the left side of the range\n",
    "#width = 0.8 rather than 1 simply to make it appear more interesting. Go ahead and play \n",
    "#with the width to see why it's at 0.8\n",
    "plt.bar(temperVarGlobal['Year'], temperVarGlobal['AnomalyF'], width = 0.8, align='edge', \n",
    "        color = 'purple')\n",
    "#----------------------------------------- \n",
    "plt.ylabel('Anomaly $\\degree$F', fontsize = 20)\n",
    "plt.xlabel('Year', fontsize = 20)\n",
    "\n",
    "plt.xticks(fontsize=16)\n",
    "plt.yticks(fontsize=16)\n",
    "plt.axhline(y=0.0, color='k', linestyle='--')\n",
    "\n",
    "plt.grid(color='gray', linestyle='dashed')\n"
   ]
  },
  {
   "cell_type": "markdown",
   "metadata": {},
   "source": [
    "### So while purple was fun, that's not really the point of this chart. We want to show when it's greater than zero, and less than zero. It would be best if these were actually different colors.\n",
    "\n",
    "Remember how we set this equal to purple? We can also assign a column JUST for colors in our dataframe so that each bar could have different colors when we plot it. There are two more obvious ways to go about this. In both ways our goal is to create a NEW column in the data frame with the colors of the bars where \n",
    "\n",
    "if less than zero we make blue ('b'), greater than we make red ('r').\n",
    "\n",
    "Way 1)\n",
    "\n",
    "- The tried and true method of using a for loop to loop over every data value in our array, create a new column, and fill with what color we want it to be. This would be a common way to deal with this issue. But what if you have so much data, this for loop takes forever to run?\n",
    "\n",
    "Way 2)\n",
    "\n",
    "- Slightly \"pythonic\" ie it uses the inbuilt methods of objects (in this case dataframes) to avoid writing extensive loop structures\n",
    "\n",
    "\n",
    "We are going to show you way 2 - however if way 1 makes more sense, it is availiable at the following [Github](https://github.com/astro-abby/data_vis_statistics_geosciences)."
   ]
  },
  {
   "cell_type": "code",
   "execution_count": null,
   "metadata": {},
   "outputs": [],
   "source": [
    "#First we set up what's called a Boolean Index.\n",
    "\n",
    "booleanIndex = temperVarGlobal['AnomalyF'] > 0 \n",
    "\n",
    "print(booleanIndex[0:10])\n",
    "\n"
   ]
  },
  {
   "cell_type": "code",
   "execution_count": null,
   "metadata": {},
   "outputs": [],
   "source": [
    "#the ~ symbol flips the value of the index\n",
    "print(booleanIndex[0:10])\n"
   ]
  },
  {
   "cell_type": "code",
   "execution_count": null,
   "metadata": {},
   "outputs": [],
   "source": [
    "#Next we set up the values for colors \n",
    "\n",
    "#we create a new column only of k, which is the Python code for color black\n",
    "#then if we set up the colors in this column incorrectly we will know\n",
    "temperVarGlobal['Colors'] = 'k'\n",
    "\n",
    "#next we set up using the .loc method, the colors we want. \n",
    "\n",
    "#remember how the ~ flips the value?\n",
    "temperVarGlobal.loc[booleanIndex, 'Colors'] = '#9F4E58' \n",
    "temperVarGlobal.loc[~booleanIndex, 'Colors'] = '#64ACEA'\n",
    "\n",
    "#and set the colors up here we use hex code - check out this website. \n",
    "#http://www.color-hex.com/color/90537c\n",
    "\n",
    "print(temperVarGlobal.loc[0:10, ['Colors']])\n"
   ]
  },
  {
   "cell_type": "code",
   "execution_count": null,
   "metadata": {},
   "outputs": [],
   "source": [
    "\n",
    "fig = plt.figure(figsize=(10, 5))\n",
    "fig.suptitle('Temperature Variants From 1800 - 2017 Global Averages', fontsize=20)\n",
    "\n",
    "#------------------------------------------------  we edited the following color statement \n",
    "#ONLY\n",
    "\n",
    "plt.bar(temperVarGlobal['Year'], temperVarGlobal['AnomalyF'], width = 0.8, align='edge', \n",
    "        color = temperVarGlobal['Colors'])\n",
    "#------------------------------------------------\n",
    "\n",
    "plt.ylabel('Anomaly $\\degree$F', fontsize = 20)\n",
    "plt.xlabel('Year', fontsize = 20)\n",
    "\n",
    "plt.xticks(fontsize=16)\n",
    "plt.yticks(fontsize=16)\n",
    "plt.axhline(y=0.0, color='k', linestyle='--')\n",
    "\n",
    "plt.grid(color='gray', linestyle='dashed')\n",
    "\n",
    "\n",
    "#note to save the figure you can do so as:\n",
    "\n",
    "plt.savefig('./Figures/TempVariants.png')"
   ]
  },
  {
   "cell_type": "markdown",
   "metadata": {},
   "source": [
    "### Part 6 - Dealing with Multiple Other Types of Data\n",
    "\n",
    "This has all been fine, but what if we want to deal with multiple datasets with different time cadences?"
   ]
  },
  {
   "cell_type": "code",
   "execution_count": null,
   "metadata": {},
   "outputs": [],
   "source": [
    "#Here we are importing two datasets - \n",
    "\n",
    "#this first dataset is the average wintering location for North American birds\n",
    "#bird ranges over the last 40 years since 1966\n",
    "\n",
    "#Data Summary Source - \n",
    "#https://www.epa.gov/climate-indicators/climate-change-indicators-bird-wintering-ranges\n",
    "#Original report and compilation can be found at the Audobon Society website\n",
    "#http://web4.audubon.org/bird/bacc/techreport.html\n",
    "\n",
    "#each winter (mid Dec - early January) the Audobon society collect bird count and location\n",
    "#of wintering habitats\n",
    "\n",
    "birdRangeAvrg = pd.read_csv('./Data/birdRanges_40yearAvrg.csv', \n",
    "                              header = 6)\n",
    "\n",
    "#the second dataset represents the bird species that went into the previous time series\n",
    "#analysis with each species and summary data over previous 40 years\n",
    "\n",
    "birdSpecies = pd.read_csv('./Data/birdSpecies.csv', \n",
    "                            header = 2)"
   ]
  },
  {
   "cell_type": "code",
   "execution_count": null,
   "metadata": {},
   "outputs": [],
   "source": [
    "\n",
    "#Let's check out data again - \n",
    "\n",
    "print(birdRangeAvrg.head())\n",
    "\n",
    "print(birdSpecies.columns)\n",
    "\n"
   ]
  },
  {
   "cell_type": "markdown",
   "metadata": {},
   "source": [
    "### Create Date Time Index\n",
    "\n",
    "Up to now our indexes of the Pandas dataframes have been numbers, what if instead we could have these be datetime objects? This let's us do matching with specific indexes by time. This can be super useful when plotting which is why we are showing this to you. "
   ]
  },
  {
   "cell_type": "code",
   "execution_count": null,
   "metadata": {},
   "outputs": [],
   "source": [
    "birdRangeAvrg.index   = pd.to_datetime(birdRangeAvrg['year'], infer_datetime_format = False, \n",
    "                                       format = '%Y')\n",
    "\n",
    "temperVarGlobal.index   = pd.to_datetime(temperVarGlobal['Year'], infer_datetime_format = False, \n",
    "                                       format = '%Y')"
   ]
  },
  {
   "cell_type": "code",
   "execution_count": null,
   "metadata": {},
   "outputs": [],
   "source": [
    "#now you can do such things as:\n",
    "\n",
    "birdRangeAvrg.index.year"
   ]
  },
  {
   "cell_type": "markdown",
   "metadata": {},
   "source": [
    "### What happens if we want to plot a datetime index now?\n",
    "\n",
    "Within the following plotting command block you can see some changes, we are still using plt.plot but you can also see we are plotting on the index with the to_pydatetime() command. If you just try and plot the index you will get an error. \n",
    "\n",
    "You can also see our use of alpha to turn things transparent. "
   ]
  },
  {
   "cell_type": "code",
   "execution_count": null,
   "metadata": {},
   "outputs": [],
   "source": [
    "fig = plt.figure(figsize=(10, 8))\n",
    "fig.suptitle('Change in Latitude of Bird Wintering Center Lower 48 United States' + \n",
    "             '\\n 1966 - 2013', fontsize=20)\n",
    "\n",
    "plt.plot(birdRangeAvrg.index.to_pydatetime(), \n",
    "         birdRangeAvrg['mean distance (miles)'], lw = 3, marker = 'o') # main line\n",
    "\n",
    "plt.plot(birdRangeAvrg.index.to_pydatetime(), birdRangeAvrg['upper confidence (miles)'], \n",
    "         lw = 3, alpha = 0.6, color = '#39AEC2')\n",
    "plt.plot(birdRangeAvrg.index.to_pydatetime(), birdRangeAvrg['lower confidence (miles)'], \n",
    "         lw = 3, alpha = 0.6, color = '#39AEC2')\n",
    "\n",
    "#fill in region between the two boundary lines - note the alpha command?\n",
    "plt.fill_between(birdRangeAvrg.index.to_pydatetime(), birdRangeAvrg['lower confidence (miles)'], \n",
    "                 birdRangeAvrg['upper confidence (miles)'], alpha = 0.2, color = '#39AEC2')\n",
    "\n",
    "plt.ylabel('Average Distance Moved North (miles)', fontsize = 20)\n",
    "plt.xlabel('Year', fontsize = 20)\n",
    "\n",
    "plt.xticks(fontsize=16) #make the xaxis labels larger\n",
    "plt.yticks(fontsize=16) #make the yaxis labels larger\n",
    "plt.axhline(y=0.0, color='k', linestyle='--') #add a horizontal line at 0\n",
    "\n",
    "plt.grid(color='gray', linestyle='dashed') #add a grid so it's easier to tell if at zero"
   ]
  },
  {
   "cell_type": "markdown",
   "metadata": {},
   "source": [
    "### Part 7: Making Mulitfigure Plot with Scatter and Datetime Indexing\n",
    "\n",
    "What if not only do we want to know at the same time, the global temperature anomaly data over the same period?\n",
    "\n",
    "The following plot is a pretty big jump from the previous one, in particular we added the use of gridspec to have multiplots and used indexing to match the same datetime indexes. This is mostly here for your use in the future and refer back to. "
   ]
  },
  {
   "cell_type": "code",
   "execution_count": null,
   "metadata": {},
   "outputs": [],
   "source": [
    "\n",
    "fig = plt.figure(figsize=(10, 8))\n",
    "#added newline character to make multilevel title\n",
    "fig.suptitle('Change in Latitude of Bird Wintering Center In North America \\n with '+ \n",
    "             'Global Temperature Anomalies', fontsize=20)\n",
    "\n",
    "#By using the gridspec command we can set up mutliple plotting objects on the \n",
    "#same figure\n",
    "gs = plt.GridSpec(2, 1, hspace=0.0, wspace=0.0, right = 0.8)\n",
    "\n",
    "#add axis to then plot out the data\n",
    "ax1 = fig.add_subplot(gs[0,:])\n",
    "ax2 = fig.add_subplot(gs[1,:])\n",
    "\n",
    "#plot the bird range\n",
    "ax1.plot(birdRangeAvrg.index.to_pydatetime(), birdRangeAvrg['mean distance (miles)'],    \n",
    "         lw = 3, marker = 'o') # main line\n",
    "ax1.plot(birdRangeAvrg.index.to_pydatetime(), birdRangeAvrg['upper confidence (miles)'], \n",
    "         lw = 3, alpha = 0.6, color = '#39AEC2')\n",
    "ax1.plot(birdRangeAvrg.index.to_pydatetime(), birdRangeAvrg['lower confidence (miles)'], \n",
    "         lw = 3, alpha = 0.6, color = '#39AEC2')\n",
    "\n",
    "\n",
    "#notice how our axis now can each have their own labels and how the command is different?\n",
    "ax1.set_ylabel('Avrg. Dist. \\n Moved North (miles)', fontsize = 20)\n",
    "\n",
    "ax1.axhline(y=0.0, color='k', linestyle='--') #add a horizontal line at 0\n",
    "\n",
    "ax1.fill_between(birdRangeAvrg.index.to_pydatetime(), \n",
    "                 birdRangeAvrg['lower confidence (miles)'], \n",
    "                 birdRangeAvrg['upper confidence (miles)'], alpha = 0.2)\n",
    "\n",
    "ax1.grid(color='gray', linestyle='dashed')\n",
    "ax1.tick_params(labelsize=16) #make the tick labels\n",
    "\n",
    "#now let's add to plot two - remember before how we had a super long date axis?\n",
    "#well now we are sharing the axis...how about we do just the same date range?\n",
    "\n",
    "#remember how we spent so long on the datetime indexing??\n",
    "\n",
    "#check out the following command with indexing - see how we are using the birdRangeAvrg.index? \n",
    "#to only get the years that are in the same range?\n",
    "\n",
    "#width in this case appears to be normalized to days\n",
    "ax2.bar(temperVarGlobal.loc[birdRangeAvrg.index, :].index.to_pydatetime(), \n",
    "        temperVarGlobal.loc[birdRangeAvrg.index, 'AnomalyF'], \n",
    "        width = 300, align='edge', \n",
    "        color = temperVarGlobal.loc[birdRangeAvrg.index, 'Colors'])\n",
    "\n",
    "ax2.set_ylabel('Global Anomaly $\\degree$F', fontsize = 20)\n",
    "ax2.set_xlabel('Year', fontsize = 20)\n",
    "\n",
    "ax2.grid(color='gray', linestyle='dashed')\n",
    "\n",
    "ax2.tick_params(labelsize=16)\n",
    "\n",
    "#IMPORTANT!!!!\n",
    "#when doing multiplots with hidden axis MAKE SURE to always set the limits of the axis for\n",
    "#all axis so that the plots don't un-sync - try switching out these datetime \n",
    "#objects for other dates can be misleading\n",
    "\n",
    "ax1.set_xlim([dt.datetime(1964, 1, 1), dt.datetime(2015, 1, 1)])\n",
    "ax2.set_xlim([dt.datetime(1964, 1, 1), dt.datetime(2015, 1, 1)])\n",
    "\n",
    "\n",
    "#note - if the axis on the upper plot starts to poke out - you can turn this off\n",
    "#with the following command\n",
    "ax1.set_xticklabels([])\n"
   ]
  },
  {
   "cell_type": "markdown",
   "metadata": {},
   "source": [
    "### Part 8: Making Mulitfigure Plot with Scatter and Datetime Indexing\n",
    "\n",
    "What if not only do we want to know at the same time how many species moved north and how many moved south? Here we are dealing with both continuous (time series of temperatures and bird migration patterns) and categorical data (bird species).\n",
    "\n",
    "Again this is a jump from the last plot - here we use two gridspec commands and a legend, and a scatterplot. We are showing you what is possible with Matplotlib - "
   ]
  },
  {
   "cell_type": "code",
   "execution_count": null,
   "metadata": {},
   "outputs": [],
   "source": [
    "fig = plt.figure(figsize=(10, 11))\n",
    "\n",
    "fig.suptitle('Change in Latitude of Bird Wintering Center In North America \\n with '+ \n",
    "             'Global Temperature Anomalies and Species', fontsize=20)\n",
    "\n",
    "\n",
    "#created two grids - one that divides into quarters and one by halfs\n",
    "#notice the different hspace\n",
    "gs_upper = plt.GridSpec(4, 1, hspace=0.0, wspace=0.0, right = 0.8)\n",
    "gs_lower = plt.GridSpec(2, 1, hspace=0.5, wspace=0.0, right = 0.8)\n",
    "\n",
    "#creating ax1 and ax2 for upper plots\n",
    "ax1 = fig.add_subplot(gs_upper[0,:])\n",
    "ax2 = fig.add_subplot(gs_upper[1,:])\n",
    "\n",
    "#creating ax3 for lower plot\n",
    "ax3 = fig.add_subplot(gs_lower[1,:])\n",
    "\n",
    "#this is all the same as the above plot again\n",
    "ax1.plot(birdRangeAvrg.index.to_pydatetime(), birdRangeAvrg['mean distance (miles)'],    \n",
    "         lw = 3, marker = 'o') # main line\n",
    "ax1.plot(birdRangeAvrg.index.to_pydatetime(), birdRangeAvrg['upper confidence (miles)'], \n",
    "         lw = 3, alpha = 0.6, color = '#39AEC2')\n",
    "ax1.plot(birdRangeAvrg.index.to_pydatetime(), birdRangeAvrg['lower confidence (miles)'], \n",
    "         lw = 3, alpha = 0.6, color = '#39AEC2')\n",
    "\n",
    "\n",
    "#notice how our axis now can each have their own labels and how the command is different?\n",
    "ax1.set_ylabel('Avrg. Dist. Moved \\n North (miles)', fontsize = 18)\n",
    "#ax1.set_xlabel('Year', fontsize = 20) - REMOVED\n",
    "\n",
    "ax1.axhline(y=0.0, color='k', linestyle='--') #add a horizontal line at 0\n",
    "\n",
    "ax1.fill_between(birdRangeAvrg.index.to_pydatetime(), \n",
    "                 birdRangeAvrg['lower confidence (miles)'], \n",
    "                 birdRangeAvrg['upper confidence (miles)'], alpha = 0.2)\n",
    "\n",
    "ax1.grid(color='gray', linestyle='dashed')\n",
    "ax1.tick_params(labelsize=16) #make the tick labels\n",
    "\n",
    "\n",
    "#add plot 2\n",
    "#width in this case appears to be normalized to days\n",
    "ax2.bar(temperVarGlobal.loc[birdRangeAvrg.index, :].index.to_pydatetime(), \n",
    "        temperVarGlobal.loc[birdRangeAvrg.index, 'AnomalyF'], \n",
    "        width = 300, align='edge', \n",
    "        color = temperVarGlobal.loc[birdRangeAvrg.index, 'Colors'])\n",
    "\n",
    "ax2.set_ylabel('Global \\n Anomaly $\\degree$F', fontsize = 20)\n",
    "ax2.set_xlabel('Year', fontsize = 20)\n",
    "\n",
    "\n",
    "ax2.grid(color='gray', linestyle='dashed')\n",
    "\n",
    "ax2.tick_params(labelsize=16)\n",
    "\n",
    "\n",
    "#IMPORTANT!!!!\n",
    "#when doing multiplots with hidden axis MAKE SURE to always set the limits of the axis for\n",
    "#all axis so that the plots don't un-sync - try switching out these \n",
    "#datetime objects for other dates can be misleading\n",
    "ax1.set_xlim([dt.datetime(1964, 1, 1), dt.datetime(2015, 1, 1)])\n",
    "ax2.set_xlim([dt.datetime(1964, 1, 1), dt.datetime(2015, 1, 1)])\n",
    "\n",
    "\n",
    "#note - if the axis on the upper plot starts to poke out - you can turn this off\n",
    "#with the following command\n",
    "ax1.set_xticklabels([])\n",
    "\n",
    "\n",
    "#AND NOW for the third axis\n",
    "\n",
    "#---------------ADDED COLORS AND LEGEND with indexing\n",
    "#the label command syncs to the legend\n",
    "\n",
    "indexN = (birdSpecies['Lat. direction moved'] == 'N')\n",
    "\n",
    "ax3.scatter(birdSpecies.loc[indexN, 'Latitudinal distance moved (miles)'], \n",
    "            birdSpecies.loc[indexN, 'Mean latitude (40-year ave from regression)'], \n",
    "            color = '#B570D4', \n",
    "            label = 'Northward')\n",
    "\n",
    "ax3.scatter(birdSpecies.loc[~indexN, 'Latitudinal distance moved (miles)'], \n",
    "            birdSpecies.loc[~indexN, 'Mean latitude (40-year ave from regression)'], \n",
    "            color = '#12B884',\n",
    "            label = 'Southward')\n",
    "\n",
    "ax3.set_xlabel('Latitudinal Distance Moved \\n (miles)', fontsize = 18)\n",
    "ax3.set_ylabel('Mean Latitude $\\degree$ \\n (40 Year Avrg.)', fontsize = 18)\n",
    "\n",
    "#note how we set the limits\n",
    "ax3.set_xlim([-400, 500])\n",
    "ax3.set_ylim([25, 60])\n",
    "\n",
    "#and setting up legend\n",
    "\n",
    "#command in here is where the legend is placed.\n",
    "#more info here: https://matplotlib.org/api/_as_gen/matplotlib.pyplot.legend.html\n",
    "\n",
    "#bbox sets location\n",
    "#prop sets fontsize\n",
    "\n",
    "#make sure to never overplot legend on data\n",
    "\n",
    "#x and yin inches - requires labels in the plotting\n",
    "#commands to label \n",
    "ax3.legend(bbox_to_anchor=(1, 1.14), prop={'size':14})\n",
    "\n",
    "ax3.grid(color='gray', linestyle='dashed')\n",
    "ax3.tick_params(labelsize=16) "
   ]
  },
  {
   "cell_type": "markdown",
   "metadata": {},
   "source": [
    "# SUMMARY\n",
    "\n",
    "From this lab you have learned the basics of python packages including: numpy, pandas, and matplotlib.pyplt, datetime, boolean indexing, and legends. \n",
    "\n",
    "In Python you can create exploratory graphics pretty quickly with simply doing plt.plot(). As you get better at creating explanatory graphics you can begin to do what we demonstrated at the end of the lecture and even more! Matplotlib has tons of uses we didn't even touch in this lecture. Have fun exploring!  \n",
    "\n",
    "\n",
    "\n",
    "-\n",
    "\n",
    "\n",
    "-\n",
    "\n",
    "\n",
    "-\n",
    "\n",
    "\n",
    "-"
   ]
  },
  {
   "cell_type": "markdown",
   "metadata": {},
   "source": [
    "### BONUS -  Some quick plots of what you can do with Seaborn"
   ]
  },
  {
   "cell_type": "code",
   "execution_count": null,
   "metadata": {},
   "outputs": [],
   "source": [
    "import seaborn as sns\n",
    "import matplotlib.ticker as ticker\n",
    "#seaborn is a stats/graphic package based off of Matplotlib - \n",
    "#more can be found here https://seaborn.pydata.org/examples/index.html"
   ]
  },
  {
   "cell_type": "code",
   "execution_count": null,
   "metadata": {},
   "outputs": [],
   "source": [
    "#Example of similar bar plot - we do not set up any of the xtick axis for example \n",
    "#but you can see quickly how seaborn works like an add on to matplotlib\n",
    "\n",
    "#set up location of axis plotter\n",
    "\n",
    "fig = plt.figure(figsize=(10, 6))\n",
    "\n",
    "fig.suptitle('Temperature Variants From 1800 - 2017 Global Averages', fontsize=20)\n",
    "\n",
    "g = sns.barplot(temperVarGlobal['Year'], temperVarGlobal['AnomalyF'], palette=\"coolwarm\")\n",
    "\n",
    "plt.xticks([0, 20, 40, 60, 80, 100, 120, 140], ['1880', '1900', '1920', '1940', \n",
    "                                           '1960', '1980', '2000', '2020'])\n",
    "\n",
    "g.tick_params(labelsize=16) \n",
    "\n",
    "plt.ylabel('Anomaly $\\degree$F', fontsize = 20)\n",
    "plt.xlabel('Year', fontsize = 20)\n",
    "plt.xticks(rotation=-45) # rotate the x ticks\n",
    "plt.axhline(y=0.0, color='k', linestyle='--') #add a horizontal line at 0\n",
    "plt.grid(color='gray', linestyle='dashed')\n",
    "plt.show()\n",
    "temperVarGlobal.index\n"
   ]
  },
  {
   "cell_type": "code",
   "execution_count": null,
   "metadata": {},
   "outputs": [],
   "source": [
    "# Count Plot\n",
    "sns.countplot(x ='Shifted inland or to coast', data = birdSpecies)"
   ]
  },
  {
   "cell_type": "code",
   "execution_count": null,
   "metadata": {},
   "outputs": [],
   "source": [
    "sns.countplot(x ='Habitat Guild (5 classes)', data = birdSpecies)"
   ]
  },
  {
   "cell_type": "code",
   "execution_count": null,
   "metadata": {},
   "outputs": [],
   "source": [
    "sns.countplot(x ='Habitat Guild (5 classes)', hue = 'Lat. direction moved', \n",
    "              data = birdSpecies, palette = 'BrBG')\n",
    "\n",
    "birdSpecies.columns\n"
   ]
  }
 ],
 "metadata": {
  "kernelspec": {
   "display_name": "Python 3",
   "language": "python",
   "name": "python3"
  },
  "language_info": {
   "codemirror_mode": {
    "name": "ipython",
    "version": 3
   },
   "file_extension": ".py",
   "mimetype": "text/x-python",
   "name": "python",
   "nbconvert_exporter": "python",
   "pygments_lexer": "ipython3",
   "version": "3.5.4"
  }
 },
 "nbformat": 4,
 "nbformat_minor": 2
}
