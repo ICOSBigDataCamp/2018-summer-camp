{
 "cells": [
  {
   "cell_type": "markdown",
   "metadata": {},
   "source": [
    "# Module 4 - Data Structure and Pandas Dataframe in Python\n",
    "\n",
    "* **Instructor**: Ronnie (Saerom) Lee \n",
    "* **E-mail**: saerom@umich.edu (for any questions)\n",
    "* **Date**: May 15th (Tuesday), 2018"
   ]
  },
  {
   "cell_type": "markdown",
   "metadata": {},
   "source": [
    "## \\*** Import relevant packages\n",
    "> **Q. How do you import packages?**\n",
    "* **import**\n",
    "    - Call a package of useful tools and functions\n",
    "* **import** (package_name) **as** (abbreviation) \n",
    "    - Call a package and abbreviate its name\n",
    "* **from** (package_name) **import** (class or function)\n",
    "    - Call a specific class or function in the package\n",
    "* **from** (package_name) **import** (class or function) **as** (abbreviation)\n",
    "    - Call a specific class or function from a package and abbreviate its name"
   ]
  },
  {
   "cell_type": "code",
   "execution_count": null,
   "metadata": {},
   "outputs": [],
   "source": [
    "import numpy as np\n",
    "import pandas as pd\n",
    "\n",
    "from IPython.core.display import HTML\n",
    "from IPython.display import Image as img\n",
    "\n",
    "# This makes it so that plots show up here in the notebook.\n",
    "# You do not need it if you are not using a notebook.\n",
    "%matplotlib inline"
   ]
  },
  {
   "cell_type": "markdown",
   "metadata": {},
   "source": [
    "## \\*** To motivate this session"
   ]
  },
  {
   "cell_type": "code",
   "execution_count": null,
   "metadata": {},
   "outputs": [],
   "source": [
    "img(url='https://i.pinimg.com/736x/ca/47/94/ca4794cfada458717c7aa99093a1f425--computer-humor-computer-science.jpg')"
   ]
  },
  {
   "cell_type": "markdown",
   "metadata": {},
   "source": [
    "> In many (if not, most) cases, errors occur because you specified **the wrong data structure or its parameters**!"
   ]
  },
  {
   "cell_type": "markdown",
   "metadata": {},
   "source": [
    "## \\*** Overview of this session's topics\n",
    "#### 1. 'General' data structure\n",
    "* Primitive data structures: int, float, str, bool\n",
    "* Non-primitive data structures: list, tuple, set, dict\n",
    "\n",
    "#### 2. Pandas' data structure: DataFrame (and its manipulation)\n",
    "\n",
    "#### 3. Application using MLB data\n",
    "\n",
    "\n",
    "\n",
    "\n"
   ]
  },
  {
   "cell_type": "markdown",
   "metadata": {},
   "source": [
    "## 1. 'General' data structures\n",
    "### 1.1. Primitive data structures\n",
    "- (1) Integer: int()\n",
    "- (2) Float: float()\n",
    "- (3) String: str() or \"\"\n",
    "- (4) Boolean: True or False\n",
    "\n",
    "### 1.2. Non-primitive data structures\n",
    "- (1) List: list() or []\n",
    "- (2) Tuples: tuple() or ()\n",
    "- (3) Set: set() or {}\n",
    "- (4) Dictionary: dict()\n",
    "\n",
    "> _Note_. There are many other structures specific to each packages (e.g., numpy array, pandas dataframe)\n",
    "\n",
    "> **Examples.**\n",
    "- Primitive data structures"
   ]
  },
  {
   "cell_type": "code",
   "execution_count": null,
   "metadata": {},
   "outputs": [],
   "source": [
    "# Integer\n",
    "a = 3\n",
    "print(a)\n",
    "type(a)"
   ]
  },
  {
   "cell_type": "code",
   "execution_count": null,
   "metadata": {},
   "outputs": [],
   "source": [
    "# Float\n",
    "b = 3.\n",
    "print(b)\n",
    "type(b)"
   ]
  },
  {
   "cell_type": "code",
   "execution_count": null,
   "metadata": {},
   "outputs": [],
   "source": [
    "# String\n",
    "c = \"Go Blue!\"\n",
    "print(c)\n",
    "type(c)"
   ]
  },
  {
   "cell_type": "code",
   "execution_count": null,
   "metadata": {},
   "outputs": [],
   "source": [
    "# Boolean\n",
    "d = False\n",
    "print(d)\n",
    "type(d)"
   ]
  },
  {
   "cell_type": "markdown",
   "metadata": {},
   "source": [
    "> - Non-primitive data structures"
   ]
  },
  {
   "cell_type": "code",
   "execution_count": null,
   "metadata": {},
   "outputs": [],
   "source": [
    "# List\n",
    "e = [1, 2, 2]\n",
    "print(e)\n",
    "type(e)"
   ]
  },
  {
   "cell_type": "code",
   "execution_count": null,
   "metadata": {},
   "outputs": [],
   "source": [
    "# Tuple\n",
    "f = (1, 2)\n",
    "print(f)\n",
    "type(f)"
   ]
  },
  {
   "cell_type": "code",
   "execution_count": null,
   "metadata": {},
   "outputs": [],
   "source": [
    "# Set\n",
    "g = {2, 1}\n",
    "print(g)\n",
    "type(g)"
   ]
  },
  {
   "cell_type": "code",
   "execution_count": null,
   "metadata": {},
   "outputs": [],
   "source": [
    "# Dictionary\n",
    "h = {'Donald': 'Male', 'Melania': 'Female'}\n",
    "print(h)\n",
    "type(h)"
   ]
  },
  {
   "cell_type": "markdown",
   "metadata": {},
   "source": [
    "> **Q. (5 mins)**\n",
    "- (E1) Change *a* into a float and *b* into an integer\n",
    "- (E2) Divide *a* by *b* and check the type (Note that *a* is an integer and *b* is a float)\n",
    "- (E3) Get *'Go Blue!Go Blue!Go Blue!'* using a and c (DON'T type this yourself!)\n",
    "- (E4) Get *'Go Blue!3'* using a and c\n",
    "- (E5) Check whether *a* is larger than *b*. Save the result as *t* and see whether t is the same as d.\n",
    "- (E6) Change *e* into a set and check what has changed.\n",
    "- (E7) Make a list, a tuple, and a set with the following inputs: *6, \"Hello\", [3, 4, 5]*"
   ]
  },
  {
   "cell_type": "code",
   "execution_count": null,
   "metadata": {},
   "outputs": [],
   "source": [
    "# Write your answers below\n",
    "# E1\n",
    "\n",
    "\n",
    "# E2\n",
    "\n",
    "\n",
    "# E3\n",
    "\n",
    "\n",
    "# E4\n",
    "\n",
    "\n",
    "# E5\n",
    "\n",
    "\n",
    "# E6\n",
    "\n",
    "\n",
    "# E7\n"
   ]
  },
  {
   "cell_type": "markdown",
   "metadata": {},
   "source": [
    "### 2-2-1. Changing non-primitive data structures\n",
    "- List"
   ]
  },
  {
   "cell_type": "code",
   "execution_count": null,
   "metadata": {},
   "outputs": [],
   "source": [
    "# To call an item in a specific position in a list\n",
    "e[1]"
   ]
  },
  {
   "cell_type": "code",
   "execution_count": null,
   "metadata": {},
   "outputs": [],
   "source": [
    "# To call an item in a range of positions in a list\n",
    "e[1:3]"
   ]
  },
  {
   "cell_type": "code",
   "execution_count": null,
   "metadata": {},
   "outputs": [],
   "source": [
    "# To change an item in a specific position in a list\n",
    "e[1] = 8\n",
    "print(e)"
   ]
  },
  {
   "cell_type": "code",
   "execution_count": null,
   "metadata": {},
   "outputs": [],
   "source": [
    "# To add an item to the end of a list\n",
    "e.append(3)\n",
    "print(e)"
   ]
  },
  {
   "cell_type": "code",
   "execution_count": null,
   "metadata": {},
   "outputs": [],
   "source": [
    "# To add an item to a specific position\n",
    "e.insert(0, 3)\n",
    "print(e)"
   ]
  },
  {
   "cell_type": "code",
   "execution_count": null,
   "metadata": {},
   "outputs": [],
   "source": [
    "# To remove an item (*** THE FIRST OCCURENCE)\n",
    "e.remove(3)\n",
    "print(e)"
   ]
  },
  {
   "cell_type": "code",
   "execution_count": null,
   "metadata": {},
   "outputs": [],
   "source": [
    "# To sort the items in ascending order\n",
    "e.sort()\n",
    "print(e)"
   ]
  },
  {
   "cell_type": "code",
   "execution_count": null,
   "metadata": {},
   "outputs": [],
   "source": [
    "# To sort the items in descending order\n",
    "e.sort(reverse=True)\n",
    "print(e)"
   ]
  },
  {
   "cell_type": "code",
   "execution_count": null,
   "metadata": {},
   "outputs": [],
   "source": [
    "# List-in-list\n",
    "x = [1, [2, 3], 4, 5]\n",
    "x"
   ]
  },
  {
   "cell_type": "markdown",
   "metadata": {},
   "source": [
    "- Tuple"
   ]
  },
  {
   "cell_type": "code",
   "execution_count": null,
   "metadata": {},
   "outputs": [],
   "source": [
    "# To call an item in a tuple\n",
    "f[0]"
   ]
  },
  {
   "cell_type": "markdown",
   "metadata": {},
   "source": [
    "> **Q. Try to change the value 2 to 4 in *f* **"
   ]
  },
  {
   "cell_type": "code",
   "execution_count": null,
   "metadata": {},
   "outputs": [],
   "source": [
    "print(f)\n",
    "# Write your answer below\n"
   ]
  },
  {
   "cell_type": "markdown",
   "metadata": {},
   "source": [
    "- Set\n",
    "\n",
    "> **Q. Try to call the first item in set g **"
   ]
  },
  {
   "cell_type": "code",
   "execution_count": null,
   "metadata": {},
   "outputs": [],
   "source": [
    "print(g)\n",
    "# Write your answer below\n"
   ]
  },
  {
   "cell_type": "code",
   "execution_count": null,
   "metadata": {},
   "outputs": [],
   "source": [
    "# To add an item to a set\n",
    "g.add(3)\n",
    "print(g)"
   ]
  },
  {
   "cell_type": "code",
   "execution_count": null,
   "metadata": {},
   "outputs": [],
   "source": [
    "# To remove an item in a set\n",
    "g.remove(3)\n",
    "print(g)"
   ]
  },
  {
   "cell_type": "markdown",
   "metadata": {},
   "source": [
    "- Dictionary\n",
    "\n",
    "> **Q. Try to call the first item in dictionary h**"
   ]
  },
  {
   "cell_type": "code",
   "execution_count": null,
   "metadata": {},
   "outputs": [],
   "source": [
    "print(h)\n",
    "# Write your answer below\n"
   ]
  },
  {
   "cell_type": "code",
   "execution_count": null,
   "metadata": {},
   "outputs": [],
   "source": [
    "# To see the keys\n",
    "h.keys()"
   ]
  },
  {
   "cell_type": "code",
   "execution_count": null,
   "metadata": {},
   "outputs": [],
   "source": [
    "# To see the values of keys\n",
    "h.values()"
   ]
  },
  {
   "cell_type": "code",
   "execution_count": null,
   "metadata": {},
   "outputs": [],
   "source": [
    "# To call the value of a key\n",
    "h['Donald']"
   ]
  },
  {
   "cell_type": "code",
   "execution_count": null,
   "metadata": {},
   "outputs": [],
   "source": [
    "# To add a key and its value\n",
    "h['Barack'] = 'Male'\n",
    "print(h)"
   ]
  },
  {
   "cell_type": "code",
   "execution_count": null,
   "metadata": {
    "scrolled": true
   },
   "outputs": [],
   "source": [
    "# To remove a key and its value\n",
    "h.pop('Barack', None)\n",
    "print(h)"
   ]
  },
  {
   "cell_type": "code",
   "execution_count": null,
   "metadata": {},
   "outputs": [],
   "source": [
    "# Dict-in-dict\n",
    "y = {'Ronnie': {'Age': 20, 'Monthly income ($)': 0, 'Gender': 'M', 'Friends': None},\n",
    "    'Mana': {'Age': 28, 'Monthly income ($)': 1000000, 'Gender': 'F', 'Friends': ('Teddy', 'Jeff', 'Abby', 'Patrick'),  'Pets': ['1 dog', '1 cat']}}\n",
    "y"
   ]
  },
  {
   "cell_type": "markdown",
   "metadata": {},
   "source": [
    "# *** BREAK TIME FOR 5 MINS! ***"
   ]
  },
  {
   "cell_type": "code",
   "execution_count": null,
   "metadata": {},
   "outputs": [],
   "source": [
    "img(url='https://i.pinimg.com/originals/63/da/8b/63da8b38a240b71f8dfbe6b0b9b18036.png')"
   ]
  },
  {
   "cell_type": "markdown",
   "metadata": {},
   "source": [
    "## 2. Pandas' data structure: DataFrame (and its manipulation)\n",
    "- **pandas**: an open source library providing high-performance, easy-to-use data structures and data analysis tools for the Python programming language.\n",
    "\n",
    "> **Q. What is a pandas dataframe?**\n",
    "- In a nutshell, **an Excel sheet**!\n",
    "\n",
    "> **Q. Why not use Excel then?**\n",
    "- Excel is **SUPER**-slow and very memory-intense---i.e., impossible to handle big data!\n",
    "- Pandas (along with other Python packages) allows you to efficiently handle big data!"
   ]
  },
  {
   "cell_type": "code",
   "execution_count": null,
   "metadata": {},
   "outputs": [],
   "source": [
    "img(url='https://www.askideas.com/media/30/Cause-OF-Death-Microsoft-Excel-Funny-Image.jpg')"
   ]
  },
  {
   "cell_type": "markdown",
   "metadata": {},
   "source": [
    "### 2.1. How to create, save, and read a dataframe\n",
    "\n",
    "#### (1) Create a dataframe"
   ]
  },
  {
   "cell_type": "code",
   "execution_count": null,
   "metadata": {
    "scrolled": true
   },
   "outputs": [],
   "source": [
    "# data = dictionary{key: value}\n",
    "data = {'Course'  : 'Intro to Big Data', # Strings\n",
    "        'Section' : 4, # Int\n",
    "        'Names'   : ['Abigail', 'Jeff', 'Mana', 'Patrick'], # List\n",
    "        'Group'   : ['1'] * 2 + ['2'] * 2,\n",
    "        'Date'    : pd.Timestamp.today().date()} # Time stamps\n",
    "\n",
    "df1 = pd.DataFrame(data)\n",
    "df1"
   ]
  },
  {
   "cell_type": "markdown",
   "metadata": {},
   "source": [
    "> **Q.** Create the following dataframe using pandas and save it as a variable 'df'."
   ]
  },
  {
   "cell_type": "markdown",
   "metadata": {},
   "source": [
    "Name      | Depart\n",
    ":--------:| -----:\n",
    "  Abigail |  CLASP \n",
    "     Jeff |  SOCIO \n",
    "     Mana |  STRAT \n",
    "  Patrick |     MO \n",
    "   Ronnie |  STRAT \n",
    "    Teddy |     MO \n"
   ]
  },
  {
   "cell_type": "code",
   "execution_count": null,
   "metadata": {},
   "outputs": [],
   "source": [
    "# Write your answer below\n"
   ]
  },
  {
   "cell_type": "markdown",
   "metadata": {},
   "source": [
    "#### (2) Save the dataframe into a file (Note. We will learn how to save first, since we don't have a file to read yet!)\n",
    "* csv/tsv/txt file\n",
    "\n",
    "> *Note*. Don't forget to specify the **separator**!"
   ]
  },
  {
   "cell_type": "code",
   "execution_count": null,
   "metadata": {},
   "outputs": [],
   "source": [
    "df.to_csv('data.csv', sep = ',',  index = False) # if comma separated (csv)\n",
    "df.to_csv('data.tsv', sep = '\\t', index = False) # if tab separated (tsv)\n",
    "df.to_csv('data.txt', sep = '\\t', index = False) # you can also use sep = ',' as in csv files"
   ]
  },
  {
   "cell_type": "markdown",
   "metadata": {},
   "source": [
    "> *Note*. Better to use **TSV** than CSV!\n",
    "- Why? There may be commas(,) in the values (e.g., \"Lee, Ronnie\")"
   ]
  },
  {
   "cell_type": "markdown",
   "metadata": {},
   "source": [
    "* Excel file"
   ]
  },
  {
   "cell_type": "code",
   "execution_count": null,
   "metadata": {},
   "outputs": [],
   "source": [
    "df.to_excel('data.xlsx', index_label='label')"
   ]
  },
  {
   "cell_type": "markdown",
   "metadata": {},
   "source": [
    "- Other formats you can save to\n",
    "    - **LaTeX**: df.to_latex()\n",
    "    - **JSON**: df.to_json()\n",
    "    - **Stata**: df.to_stata(name='file_name')\n",
    "    - **SQL**: df.to_sql(name='file_name', con='engine_name')\n",
    "    - and many more."
   ]
  },
  {
   "cell_type": "markdown",
   "metadata": {},
   "source": [
    "#### (3) Read a file into a dataframe\n",
    "* csv/tsv/txt file\n",
    "\n",
    "> Note: Don't forget to specify the **separator**!"
   ]
  },
  {
   "cell_type": "code",
   "execution_count": null,
   "metadata": {},
   "outputs": [],
   "source": [
    "df_csv = pd.read_csv('data.csv', sep = ',')\n",
    "df_csv"
   ]
  },
  {
   "cell_type": "code",
   "execution_count": null,
   "metadata": {},
   "outputs": [],
   "source": [
    "df_tsv = pd.read_csv('data.tsv', sep = '\\t')\n",
    "df_tsv"
   ]
  },
  {
   "cell_type": "markdown",
   "metadata": {},
   "source": [
    "* Excel file"
   ]
  },
  {
   "cell_type": "code",
   "execution_count": null,
   "metadata": {},
   "outputs": [],
   "source": [
    "with pd.ExcelFile('data.xlsx') as xlsx:\n",
    "    df_excel = pd.read_excel(xlsx, sheet_name = 'Sheet1')\n",
    "df_excel\n",
    "\n",
    "### If there are multiple sheets to read from\n",
    "# with pd.ExcelFile('data.xlsx') as xlsx:\n",
    "#    df_sheet1 = pd.read_excel(xlsx, sheet_name = 'Sheet1')\n",
    "#    df_sheet2 = pd.read_excel(xlsx, sheet_name = 'Sheet2')"
   ]
  },
  {
   "cell_type": "markdown",
   "metadata": {},
   "source": [
    "* Other formats you can read\n",
    "    - **Stata**: pd.read_stata()     \n",
    "    - **SAS**: pd.read_sas()         \n",
    "    - **SQL**: pd.read_sql_table()   \n",
    "    - **JSON**: pd.read_json()      \n",
    "        - Especially useful when using **API**'s (tomorrow's session)\n",
    "    - **HTML**: pd.read_html()       \n",
    "        - Especially useful when scraping html (tomorrow's session)\n",
    "    - and many more."
   ]
  },
  {
   "cell_type": "markdown",
   "metadata": {},
   "source": [
    "### 2.2. How to rename, add, and remove row/column(s) in the dateframe\n"
   ]
  },
  {
   "cell_type": "markdown",
   "metadata": {},
   "source": [
    "#### (1) Rename a column"
   ]
  },
  {
   "cell_type": "code",
   "execution_count": null,
   "metadata": {},
   "outputs": [],
   "source": [
    "df1 = df1.rename(index=str, columns={\"Names\": \"Name\"})\n",
    "df1"
   ]
  },
  {
   "cell_type": "markdown",
   "metadata": {},
   "source": [
    "#### (2) Add row/column(s)\n",
    "* Rows: *.append()*"
   ]
  },
  {
   "cell_type": "code",
   "execution_count": null,
   "metadata": {},
   "outputs": [],
   "source": [
    "# First, create a new dataframe\n",
    "new_data = {'Course'  : 'Intro to Big Data',\n",
    "            'Section' : 4,\n",
    "            'Name'    : ['Ronnie', 'Teddy'],\n",
    "            'Group'   : '5',\n",
    "            'Date'    : pd.Timestamp.today().date()}\n",
    "\n",
    "df2 = pd.DataFrame(new_data)\n",
    "df2"
   ]
  },
  {
   "cell_type": "code",
   "execution_count": null,
   "metadata": {},
   "outputs": [],
   "source": [
    "# Append the new dataframe to the existing dataframe\n",
    "df1 = df1.append(df2, ignore_index=True)\n",
    "df1"
   ]
  },
  {
   "cell_type": "markdown",
   "metadata": {},
   "source": [
    "* Or an alternative way to add row(s) is to use *pd.concat()*"
   ]
  },
  {
   "cell_type": "code",
   "execution_count": null,
   "metadata": {},
   "outputs": [],
   "source": [
    "df1 = pd.concat([df1, df2], axis = 0, ignore_index = True)    # If axis = 1, then add column\n",
    "df1"
   ]
  },
  {
   "cell_type": "markdown",
   "metadata": {},
   "source": [
    "* Columns"
   ]
  },
  {
   "cell_type": "code",
   "execution_count": null,
   "metadata": {},
   "outputs": [],
   "source": [
    "df1['Assignment'] = [95, 85, 90, 75, 10, 80, 10, 80]\n",
    "df1"
   ]
  },
  {
   "cell_type": "markdown",
   "metadata": {},
   "source": [
    "#### (3) Remove rows, columns, and duplicates\n",
    "* Rows (by index)"
   ]
  },
  {
   "cell_type": "code",
   "execution_count": null,
   "metadata": {},
   "outputs": [],
   "source": [
    "df1.drop(0)"
   ]
  },
  {
   "cell_type": "markdown",
   "metadata": {},
   "source": [
    "* Columns\n",
    "> *Note*. axis = 1 denotes that we are referring to a column, not a row"
   ]
  },
  {
   "cell_type": "code",
   "execution_count": null,
   "metadata": {},
   "outputs": [],
   "source": [
    "df1 = df1.drop('Date', axis = 1)\n",
    "df1"
   ]
  },
  {
   "cell_type": "markdown",
   "metadata": {},
   "source": [
    "* Duplicates"
   ]
  },
  {
   "cell_type": "code",
   "execution_count": null,
   "metadata": {},
   "outputs": [],
   "source": [
    "# First, in order to check whether there are any duplicates\n",
    "df1.duplicated()"
   ]
  },
  {
   "cell_type": "code",
   "execution_count": null,
   "metadata": {},
   "outputs": [],
   "source": [
    "# If there are duplicates, then run the following code\n",
    "df1 = df1.drop_duplicates()\n",
    "df1"
   ]
  },
  {
   "cell_type": "markdown",
   "metadata": {},
   "source": [
    "### 2.3. Merge two dataframes\n",
    "\n",
    "> **Q.** Create a dataframe with the following information:\n",
    "- Group 1: \n",
    "    - Presentation: 80\n",
    "    - Report: 60\n",
    "- Group 2:\n",
    "    - Presentation: 90\n",
    "    - Report: 80\n",
    "- Group 3:\n",
    "    - Presentation: 100\n",
    "    - Report: 70\n",
    "- Group 4:\n",
    "    - Presentation: 50\n",
    "    - Report: 30"
   ]
  },
  {
   "cell_type": "code",
   "execution_count": null,
   "metadata": {},
   "outputs": [],
   "source": [
    "# Write your answer below\n"
   ]
  },
  {
   "cell_type": "code",
   "execution_count": null,
   "metadata": {},
   "outputs": [],
   "source": [
    "# Recall df1\n",
    "df1"
   ]
  },
  {
   "cell_type": "markdown",
   "metadata": {},
   "source": [
    "> **Q.** How can we input the grades for each individual's presentation and report without putting in the scores one by one?\n",
    "- Use **merge**"
   ]
  },
  {
   "cell_type": "code",
   "execution_count": null,
   "metadata": {},
   "outputs": [],
   "source": [
    "df1.merge(df3, on='Group')"
   ]
  },
  {
   "cell_type": "markdown",
   "metadata": {},
   "source": [
    "> **OOPS! We lost Ronnie and Teddy! What went wrong?**\n",
    "\n",
    "\n",
    "> - **Important parameter**: how = {'left', 'right', 'outer', 'inner'}\n",
    "    - **inner** (*default*): use intersection of keys from both frames, similar to a SQL inner join; preserve the order of the left keys\n",
    "    - **outer**: use union of keys from both frames, similar to a SQL full outer join; sort keys lexicographically\n",
    "    - **left**: use only keys from left frame, similar to a SQL left outer join; preserve key order\n",
    "    - **right**: use only keys from right frame, similar to a SQL right outer join; preserve key order\n",
    "    \n",
    "> **Q.** Which one of these should we set *how* as?\n",
    "- Try the other three parameters and find the right one!"
   ]
  },
  {
   "cell_type": "code",
   "execution_count": null,
   "metadata": {
    "scrolled": true
   },
   "outputs": [],
   "source": [
    "# (1) Left\n"
   ]
  },
  {
   "cell_type": "code",
   "execution_count": null,
   "metadata": {},
   "outputs": [],
   "source": [
    "# (2) Right\n"
   ]
  },
  {
   "cell_type": "code",
   "execution_count": null,
   "metadata": {},
   "outputs": [],
   "source": [
    "# (3) Outer\n"
   ]
  },
  {
   "cell_type": "markdown",
   "metadata": {},
   "source": [
    "* Thus, the right parameter to merge the two dataframes is"
   ]
  },
  {
   "cell_type": "code",
   "execution_count": null,
   "metadata": {},
   "outputs": [],
   "source": [
    "# Write your answer below\n"
   ]
  },
  {
   "cell_type": "markdown",
   "metadata": {},
   "source": [
    "> **Q.** Recall that we created dateframe df, which has the information on each student's department. Merge df with df1. Which of the parameters should you use for how?"
   ]
  },
  {
   "cell_type": "code",
   "execution_count": null,
   "metadata": {},
   "outputs": [],
   "source": [
    "df\n",
    "# Write your answer below\n"
   ]
  },
  {
   "cell_type": "markdown",
   "metadata": {},
   "source": [
    "### 2.4. Check what's in the dataframe\n",
    "#### (1) See the top and bottom rows of the dataframe"
   ]
  },
  {
   "cell_type": "code",
   "execution_count": null,
   "metadata": {},
   "outputs": [],
   "source": [
    "df1.head() # put the number of rows to see a certain number of rows (e.g., df1.head(2))"
   ]
  },
  {
   "cell_type": "code",
   "execution_count": null,
   "metadata": {},
   "outputs": [],
   "source": [
    "df1.tail() # put the number of rows to see a certain number of rows (e.g., df1.tail(2))"
   ]
  },
  {
   "cell_type": "markdown",
   "metadata": {},
   "source": [
    "#### (2) Display the index, columns, and the underlying data"
   ]
  },
  {
   "cell_type": "code",
   "execution_count": null,
   "metadata": {},
   "outputs": [],
   "source": [
    "df1.index"
   ]
  },
  {
   "cell_type": "code",
   "execution_count": null,
   "metadata": {},
   "outputs": [],
   "source": [
    "df1.columns"
   ]
  },
  {
   "cell_type": "code",
   "execution_count": null,
   "metadata": {},
   "outputs": [],
   "source": [
    "df1.values"
   ]
  },
  {
   "cell_type": "markdown",
   "metadata": {},
   "source": [
    "#### (3) Sort by values"
   ]
  },
  {
   "cell_type": "code",
   "execution_count": null,
   "metadata": {},
   "outputs": [],
   "source": [
    "df1.sort_values(by='Assignment')   # Ascending order"
   ]
  },
  {
   "cell_type": "code",
   "execution_count": null,
   "metadata": {},
   "outputs": [],
   "source": [
    "df1.sort_values(by='Assignment', ascending=False)    # Descending order"
   ]
  },
  {
   "cell_type": "markdown",
   "metadata": {},
   "source": [
    "> **Q.** What would happen if we sort a column which has a missing value (i.e., NaN)?"
   ]
  },
  {
   "cell_type": "code",
   "execution_count": null,
   "metadata": {},
   "outputs": [],
   "source": [
    "df1.sort_values(by='Report', ascending=False)    # Descending order"
   ]
  },
  {
   "cell_type": "markdown",
   "metadata": {},
   "source": [
    "#### (4) Search for a value"
   ]
  },
  {
   "cell_type": "code",
   "execution_count": null,
   "metadata": {},
   "outputs": [],
   "source": [
    "df1.where(df1['Assignment'] > 90)"
   ]
  },
  {
   "cell_type": "markdown",
   "metadata": {},
   "source": [
    "* For specific column"
   ]
  },
  {
   "cell_type": "code",
   "execution_count": null,
   "metadata": {},
   "outputs": [],
   "source": [
    "df1['Name'].where(df1['Assignment'] > 90)"
   ]
  },
  {
   "cell_type": "markdown",
   "metadata": {},
   "source": [
    "> **Q.** How can we count the number of students who got 'Assignment' larger than 90?"
   ]
  },
  {
   "cell_type": "code",
   "execution_count": null,
   "metadata": {},
   "outputs": [],
   "source": [
    "df1['Name'].where(df1['Assignment'] > 90).count()"
   ]
  },
  {
   "cell_type": "markdown",
   "metadata": {},
   "source": [
    "#### (5) Select\n",
    "* Column(s)"
   ]
  },
  {
   "cell_type": "code",
   "execution_count": null,
   "metadata": {},
   "outputs": [],
   "source": [
    "df1['Assignment']"
   ]
  },
  {
   "cell_type": "markdown",
   "metadata": {},
   "source": [
    "> *Note*. Alternative way of selecting a column is by using a dot(.)"
   ]
  },
  {
   "cell_type": "code",
   "execution_count": null,
   "metadata": {},
   "outputs": [],
   "source": [
    "df1.Assignment"
   ]
  },
  {
   "cell_type": "markdown",
   "metadata": {},
   "source": [
    "* Row(s)"
   ]
  },
  {
   "cell_type": "code",
   "execution_count": null,
   "metadata": {},
   "outputs": [],
   "source": [
    "df1[0:3]"
   ]
  },
  {
   "cell_type": "markdown",
   "metadata": {},
   "source": [
    "* By location"
   ]
  },
  {
   "cell_type": "code",
   "execution_count": null,
   "metadata": {},
   "outputs": [],
   "source": [
    "df1.loc[0,'Name']  # .loc[index_num, column_name]"
   ]
  },
  {
   "cell_type": "code",
   "execution_count": null,
   "metadata": {
    "scrolled": true
   },
   "outputs": [],
   "source": [
    "df1.loc[0,['Name','Presentation']]  # .loc[index_num, [column_name1, column_name2, column_name3,...]]"
   ]
  },
  {
   "cell_type": "markdown",
   "metadata": {},
   "source": [
    "* Using a condition"
   ]
  },
  {
   "cell_type": "code",
   "execution_count": null,
   "metadata": {},
   "outputs": [],
   "source": [
    "df1[df1['Assignment'] > 90]"
   ]
  },
  {
   "cell_type": "code",
   "execution_count": null,
   "metadata": {},
   "outputs": [],
   "source": [
    "df1[df1['Depart'].isin(['MO', 'SOCIO'])]"
   ]
  },
  {
   "cell_type": "markdown",
   "metadata": {},
   "source": [
    "> **Q.** Select the rows in which the student(s) is in MO department and has more than 80 points for his/her presentation."
   ]
  },
  {
   "cell_type": "code",
   "execution_count": null,
   "metadata": {},
   "outputs": [],
   "source": [
    "# Write the answer below\n"
   ]
  },
  {
   "cell_type": "markdown",
   "metadata": {},
   "source": [
    "### 2.5. Missing data\n",
    "* Let's first take a look at what we have as our dataframe"
   ]
  },
  {
   "cell_type": "code",
   "execution_count": null,
   "metadata": {},
   "outputs": [],
   "source": [
    "df1"
   ]
  },
  {
   "cell_type": "markdown",
   "metadata": {},
   "source": [
    "#### (1) Check whether there are any missing data"
   ]
  },
  {
   "cell_type": "code",
   "execution_count": null,
   "metadata": {},
   "outputs": [],
   "source": [
    "df1.isnull()"
   ]
  },
  {
   "cell_type": "markdown",
   "metadata": {},
   "source": [
    "> *Note*. If the dataframe is large in dimension, it would be NOT be easy to see whether there are any True's\n",
    "- An easier way to check is to sum the number of True's"
   ]
  },
  {
   "cell_type": "code",
   "execution_count": null,
   "metadata": {},
   "outputs": [],
   "source": [
    "df1.isnull().sum()"
   ]
  },
  {
   "cell_type": "markdown",
   "metadata": {},
   "source": [
    "#### (2) Managing missing data\n",
    "- [Option 1] Drop row(s) with missing data"
   ]
  },
  {
   "cell_type": "code",
   "execution_count": null,
   "metadata": {},
   "outputs": [],
   "source": [
    "df1.dropna(how='any')"
   ]
  },
  {
   "cell_type": "markdown",
   "metadata": {},
   "source": [
    "- [Option 2] Drop column(s) with missing data\n",
    "> *Note*. axis = 1 denotes that we are referring to a column, not a row"
   ]
  },
  {
   "cell_type": "code",
   "execution_count": null,
   "metadata": {},
   "outputs": [],
   "source": [
    "df1.dropna(how='any', axis = 1)"
   ]
  },
  {
   "cell_type": "markdown",
   "metadata": {},
   "source": [
    "- [Option 3] Fill in ALL missing data with a single value"
   ]
  },
  {
   "cell_type": "code",
   "execution_count": null,
   "metadata": {
    "scrolled": true
   },
   "outputs": [],
   "source": [
    "df1.fillna(value = 0)"
   ]
  },
  {
   "cell_type": "markdown",
   "metadata": {},
   "source": [
    "> **Q.** Fill in missing data in column 'Presentation' with the mean of non-missing data in column 'Presentation'"
   ]
  },
  {
   "cell_type": "code",
   "execution_count": null,
   "metadata": {},
   "outputs": [],
   "source": [
    "# Write your answer below\n"
   ]
  },
  {
   "cell_type": "markdown",
   "metadata": {},
   "source": [
    "* [Option 4] Fill in a values by location"
   ]
  },
  {
   "cell_type": "code",
   "execution_count": null,
   "metadata": {
    "scrolled": true
   },
   "outputs": [],
   "source": [
    "df1.loc[[4, 5], 'Report'] = 60\n",
    "df1"
   ]
  },
  {
   "cell_type": "markdown",
   "metadata": {},
   "source": [
    "### 2.6. Basic statistics"
   ]
  },
  {
   "cell_type": "code",
   "execution_count": null,
   "metadata": {},
   "outputs": [],
   "source": [
    "# Recall the dataframe\n",
    "df1"
   ]
  },
  {
   "cell_type": "markdown",
   "metadata": {},
   "source": [
    "#### (1) Describe shows a quick statistic summary of your data"
   ]
  },
  {
   "cell_type": "code",
   "execution_count": null,
   "metadata": {},
   "outputs": [],
   "source": [
    "df1.describe()"
   ]
  },
  {
   "cell_type": "markdown",
   "metadata": {},
   "source": [
    "> **Q.** TOO MANY ZEROS! How can we make this more prettier?"
   ]
  },
  {
   "cell_type": "code",
   "execution_count": null,
   "metadata": {},
   "outputs": [],
   "source": [
    "df1.describe().round(2)"
   ]
  },
  {
   "cell_type": "markdown",
   "metadata": {},
   "source": [
    "####  (2) Caculate\n",
    "* Mean"
   ]
  },
  {
   "cell_type": "code",
   "execution_count": null,
   "metadata": {},
   "outputs": [],
   "source": [
    "df1.mean().round(2)"
   ]
  },
  {
   "cell_type": "markdown",
   "metadata": {},
   "source": [
    "* Median"
   ]
  },
  {
   "cell_type": "code",
   "execution_count": null,
   "metadata": {},
   "outputs": [],
   "source": [
    "df1.median().round(2)"
   ]
  },
  {
   "cell_type": "markdown",
   "metadata": {},
   "source": [
    "* Min/Max"
   ]
  },
  {
   "cell_type": "code",
   "execution_count": null,
   "metadata": {},
   "outputs": [],
   "source": [
    "df1['Report'].min().round(2)"
   ]
  },
  {
   "cell_type": "code",
   "execution_count": null,
   "metadata": {},
   "outputs": [],
   "source": [
    "df1['Report'].max().round(2)"
   ]
  },
  {
   "cell_type": "markdown",
   "metadata": {},
   "source": [
    "* Variance"
   ]
  },
  {
   "cell_type": "code",
   "execution_count": null,
   "metadata": {},
   "outputs": [],
   "source": [
    "df1.var().round(2)"
   ]
  },
  {
   "cell_type": "markdown",
   "metadata": {},
   "source": [
    "* Correlation"
   ]
  },
  {
   "cell_type": "code",
   "execution_count": null,
   "metadata": {},
   "outputs": [],
   "source": [
    "df1.corr().round(2)"
   ]
  },
  {
   "cell_type": "markdown",
   "metadata": {},
   "source": [
    "#### (3) Grouping: a process involving one or more of the following steps\n",
    "* Splitting the data into groups based on some criteria\n",
    "* Applying a function to each group independently\n",
    "* Combining the results into a data structure"
   ]
  },
  {
   "cell_type": "code",
   "execution_count": null,
   "metadata": {},
   "outputs": [],
   "source": [
    "df1.groupby('Group').mean()"
   ]
  },
  {
   "cell_type": "markdown",
   "metadata": {},
   "source": [
    "> **Q.** How can we group by 'Group' and 'Depart'?"
   ]
  },
  {
   "cell_type": "code",
   "execution_count": null,
   "metadata": {},
   "outputs": [],
   "source": [
    "df1.groupby(['Group', 'Depart']).mean()"
   ]
  },
  {
   "cell_type": "markdown",
   "metadata": {},
   "source": [
    "#### (4) Pivot tables"
   ]
  },
  {
   "cell_type": "code",
   "execution_count": null,
   "metadata": {},
   "outputs": [],
   "source": [
    "df1.pivot_table(values='Report', index=['Depart'], columns=['Group'])"
   ]
  },
  {
   "cell_type": "markdown",
   "metadata": {},
   "source": [
    "### 2.7. Basic column operations\n",
    "* Logarithm\n",
    "    - Natural logarithm: np.log()\n",
    "    - The base 10 logarithm: np.log10()\n",
    "    - The base 2 logarithm: np.log2()"
   ]
  },
  {
   "cell_type": "code",
   "execution_count": null,
   "metadata": {},
   "outputs": [],
   "source": [
    "df1['log_Report'] = np.log(df1['Report'])\n",
    "df1"
   ]
  },
  {
   "cell_type": "markdown",
   "metadata": {},
   "source": [
    "* Square root"
   ]
  },
  {
   "cell_type": "code",
   "execution_count": null,
   "metadata": {},
   "outputs": [],
   "source": [
    "df1['sqrt_Report'] = np.sqrt(df1['Report'])\n",
    "df1"
   ]
  },
  {
   "cell_type": "markdown",
   "metadata": {},
   "source": [
    "> **Q.** Suppose that the evaluation is based on the following weights\n",
    "- Assignment: 25%\n",
    "- Presentation: 35%\n",
    "- Report: 40%\n",
    "\n",
    "> Make a new column 'Total' which calculate the weighted sum.\n",
    "> Show the table in a descending order by 'Total'?"
   ]
  },
  {
   "cell_type": "code",
   "execution_count": null,
   "metadata": {},
   "outputs": [],
   "source": [
    "# Write your answers below\n"
   ]
  },
  {
   "cell_type": "markdown",
   "metadata": {},
   "source": [
    "> Another way of doing so is to use **apply**."
   ]
  },
  {
   "cell_type": "code",
   "execution_count": null,
   "metadata": {},
   "outputs": [],
   "source": [
    "# Define a function\n",
    "def total(row):\n",
    "    return 0.25 * row['Assignment'] + 0.35 * row['Presentation'] + 0.4 * row['Report']\n",
    "\n",
    "# Apply the function above to each row\n",
    "df1['total'] = df1.apply(total, axis=1)\n",
    "df1"
   ]
  },
  {
   "cell_type": "markdown",
   "metadata": {},
   "source": [
    "### \\*** How to define a function\n"
   ]
  },
  {
   "cell_type": "code",
   "execution_count": null,
   "metadata": {},
   "outputs": [],
   "source": [
    "def function_name(input_1, input_2, ...):\n",
    "\n",
    "    x = do_something_with_inputs\n",
    "\n",
    "    return x"
   ]
  },
  {
   "cell_type": "markdown",
   "metadata": {},
   "source": [
    "> - Example"
   ]
  },
  {
   "cell_type": "code",
   "execution_count": null,
   "metadata": {},
   "outputs": [],
   "source": [
    "def divide(x, y):\n",
    "    return x / y\n",
    "\n",
    "a = 8\n",
    "b = 4\n",
    "\n",
    "print(divide(a, b))\n",
    "print(divide(b, a))\n",
    "print(divide(x=a, y=b))\n",
    "print(divide(y=b, x=a))"
   ]
  },
  {
   "cell_type": "code",
   "execution_count": null,
   "metadata": {},
   "outputs": [],
   "source": [
    "def power(x, y=2): # Define the default value\n",
    "    return x ** y\n",
    "\n",
    "print(power(3))\n",
    "print(power(3, 3))\n",
    "print(power(3, 1))"
   ]
  },
  {
   "cell_type": "markdown",
   "metadata": {},
   "source": [
    "> **Q.** Write a function that take the following three variables\n",
    "\n",
    ">    - x: a list\n",
    ">    - y: an integer for the index\n",
    ">    - z: an integer with a default value of 2\n",
    "\n",
    "> and checks whether the yth value in list x is divisible by z"
   ]
  },
  {
   "cell_type": "code",
   "execution_count": null,
   "metadata": {},
   "outputs": [],
   "source": [
    "# Write your answer below\n",
    "\n"
   ]
  },
  {
   "cell_type": "markdown",
   "metadata": {},
   "source": [
    "* Histogram"
   ]
  },
  {
   "cell_type": "code",
   "execution_count": null,
   "metadata": {},
   "outputs": [],
   "source": [
    "df1['Total'].hist()"
   ]
  },
  {
   "cell_type": "markdown",
   "metadata": {},
   "source": [
    "## 3. Application using MLB data"
   ]
  },
  {
   "cell_type": "code",
   "execution_count": null,
   "metadata": {},
   "outputs": [],
   "source": [
    "img(url='https://i2.wp.com/wemakescholars.com/blog/wp-content/uploads/2015/03/funny-inspirational-quotes-about-school-inspirational-3-on-funny-quotes.jpg')"
   ]
  },
  {
   "cell_type": "markdown",
   "metadata": {},
   "source": [
    "* To check whether you **REALLY** understood or not, try the following exercise using the data on the players in the Major League Baseball (MLB)."
   ]
  },
  {
   "cell_type": "markdown",
   "metadata": {},
   "source": [
    "> **Q.** Read the datafile 'Salaries.csv' (separator = comma) as the variable 'salaries' and show its FIRST 10 rows"
   ]
  },
  {
   "cell_type": "code",
   "execution_count": null,
   "metadata": {},
   "outputs": [],
   "source": []
  },
  {
   "cell_type": "markdown",
   "metadata": {},
   "source": [
    "> **Q.** Read the datafile 'Batting.xlsx' (sheetname = 'Batting') as the variable 'batting' and show its LAST 5 rows"
   ]
  },
  {
   "cell_type": "code",
   "execution_count": null,
   "metadata": {},
   "outputs": [],
   "source": []
  },
  {
   "cell_type": "markdown",
   "metadata": {},
   "source": [
    "> **Q.** Create a variable 'data' by LEFT MERGING 'salaries' and 'batting' based on 'player',  'year', and  'team' and show the FIRST 7 rows"
   ]
  },
  {
   "cell_type": "code",
   "execution_count": null,
   "metadata": {},
   "outputs": [],
   "source": []
  },
  {
   "cell_type": "markdown",
   "metadata": {},
   "source": [
    "> **Q.** Read the STATA datafile 'Pitching.dta' as the variable 'pitching' and show its LAST 4 rows"
   ]
  },
  {
   "cell_type": "code",
   "execution_count": null,
   "metadata": {},
   "outputs": [],
   "source": []
  },
  {
   "cell_type": "markdown",
   "metadata": {},
   "source": [
    "> **Q.** FOR SIMPLICITY, drop all columns with missing values in pitching"
   ]
  },
  {
   "cell_type": "code",
   "execution_count": null,
   "metadata": {},
   "outputs": [],
   "source": []
  },
  {
   "cell_type": "markdown",
   "metadata": {},
   "source": [
    "> **Q.** LEFT MERGE 'data' and 'pitching' based on 'player', 'year', and 'team' and show the top 5 rows"
   ]
  },
  {
   "cell_type": "code",
   "execution_count": null,
   "metadata": {},
   "outputs": [],
   "source": []
  },
  {
   "cell_type": "markdown",
   "metadata": {},
   "source": [
    "> **Q.** Check whether there are any missing values in 'data' "
   ]
  },
  {
   "cell_type": "code",
   "execution_count": null,
   "metadata": {},
   "outputs": [],
   "source": []
  },
  {
   "cell_type": "markdown",
   "metadata": {},
   "source": [
    "> **Q.** FOR SIMPLICITY, fill in the missing values with zeros and re-check whether there are any missing values in data"
   ]
  },
  {
   "cell_type": "code",
   "execution_count": null,
   "metadata": {},
   "outputs": [],
   "source": []
  },
  {
   "cell_type": "markdown",
   "metadata": {},
   "source": [
    "> **Q.** Read the csv files 'Basic.csv' (separator = comma) and INNER MERGE with 'data' based on 'player'"
   ]
  },
  {
   "cell_type": "code",
   "execution_count": null,
   "metadata": {},
   "outputs": [],
   "source": []
  },
  {
   "cell_type": "markdown",
   "metadata": {},
   "source": [
    "> **Q.** Save the dataframe 'data' as a tsv file 'baseball.tsv' (separator = tab)"
   ]
  },
  {
   "cell_type": "code",
   "execution_count": null,
   "metadata": {},
   "outputs": [],
   "source": []
  },
  {
   "cell_type": "markdown",
   "metadata": {},
   "source": [
    "> **Q.** Draw the histogram of salary"
   ]
  },
  {
   "cell_type": "code",
   "execution_count": null,
   "metadata": {},
   "outputs": [],
   "source": []
  },
  {
   "cell_type": "markdown",
   "metadata": {},
   "source": [
    "> **Q.** Since the salary is heavily skewed, create a new column 'log_salary' by putting a natural log on ('salary' + 1) and then draw the histogram of 'log_salary'."
   ]
  },
  {
   "cell_type": "code",
   "execution_count": null,
   "metadata": {},
   "outputs": [],
   "source": []
  },
  {
   "cell_type": "markdown",
   "metadata": {},
   "source": [
    "> **Q.** Show summary statistics"
   ]
  },
  {
   "cell_type": "code",
   "execution_count": null,
   "metadata": {
    "scrolled": true
   },
   "outputs": [],
   "source": []
  },
  {
   "cell_type": "markdown",
   "metadata": {},
   "source": [
    "> **Q.** Find the TOP 5 birth states (i.e., 'birthState') with the most MLB players.\n",
    "- *Hint*. Compute size of each group by birthState, save the dataframe as a variable 'state', and sort the values by the sizes in descending order."
   ]
  },
  {
   "cell_type": "code",
   "execution_count": null,
   "metadata": {},
   "outputs": [],
   "source": []
  },
  {
   "cell_type": "markdown",
   "metadata": {},
   "source": [
    "> **Q.** Find how many MLB players are from Michigan (i.e., 'birthState' is 'MI').\n",
    "- *Hint*. Don't print the variable 'state'! Recall how you select a row based on some conditions."
   ]
  },
  {
   "cell_type": "code",
   "execution_count": null,
   "metadata": {},
   "outputs": [],
   "source": []
  },
  {
   "cell_type": "markdown",
   "metadata": {},
   "source": [
    "> **Q.** Find the TOP 5 months (i.e., 'birthMonth') in which MLB players were born.\n",
    "- *Hint*. Compute size of each group by birthMonth, save the dataframe as a variable 'month', and sort the values by the sizes in descending order."
   ]
  },
  {
   "cell_type": "code",
   "execution_count": null,
   "metadata": {},
   "outputs": [],
   "source": []
  },
  {
   "cell_type": "markdown",
   "metadata": {},
   "source": [
    "> **Q.** Which year had the highest average salary?\n",
    "- *Hint*. Compute the mean by year, save the dataframe as a variable 'year', and show the TOP 10 years in terms of mean salary"
   ]
  },
  {
   "cell_type": "code",
   "execution_count": null,
   "metadata": {},
   "outputs": [],
   "source": []
  },
  {
   "cell_type": "markdown",
   "metadata": {},
   "source": [
    "> **Q.** Which team had the highest average salary?\n",
    "- *Hint*. Compute the mean by teams, save the dataframe as a variable 'team', and show the TOP 5 teams in terms of mean salary"
   ]
  },
  {
   "cell_type": "code",
   "execution_count": null,
   "metadata": {},
   "outputs": [],
   "source": []
  },
  {
   "cell_type": "markdown",
   "metadata": {},
   "source": [
    "> **Q.** The above results computed each team's average across all years. Instead, find which team in which year had the highest average salary?\n",
    "- *Hint*. Compute the mean by 'team' AND 'year', save the dataframe as a variable 'team', and show the TOP 5 teams in terms of mean salary"
   ]
  },
  {
   "cell_type": "code",
   "execution_count": null,
   "metadata": {},
   "outputs": [],
   "source": []
  },
  {
   "cell_type": "markdown",
   "metadata": {},
   "source": [
    "> **Q.** How did each team's average height changed over time?\n",
    "- *Hint*. Make a pivot table, save the dataframe as a variable 'height', and show the TOP 5 teams in terms of mean height in 2014."
   ]
  },
  {
   "cell_type": "code",
   "execution_count": null,
   "metadata": {},
   "outputs": [],
   "source": []
  },
  {
   "cell_type": "markdown",
   "metadata": {},
   "source": [
    "> **Q.** [TRY GOOGLING] Create dummy variables for 'year'"
   ]
  },
  {
   "cell_type": "code",
   "execution_count": null,
   "metadata": {},
   "outputs": [],
   "source": []
  },
  {
   "cell_type": "markdown",
   "metadata": {},
   "source": [
    "> **Q.** Concatenate the two dataframes by column"
   ]
  },
  {
   "cell_type": "code",
   "execution_count": null,
   "metadata": {},
   "outputs": [],
   "source": []
  },
  {
   "cell_type": "markdown",
   "metadata": {},
   "source": [
    "### A quote to close this session."
   ]
  },
  {
   "cell_type": "code",
   "execution_count": null,
   "metadata": {},
   "outputs": [],
   "source": [
    "img(url='https://pics.onsizzle.com/never-let-your-computer-know-that-you-are-in-a-5887996.png')"
   ]
  },
  {
   "cell_type": "markdown",
   "metadata": {},
   "source": [
    "### If you have any questions, please feel free to send me an email\n",
    "* Instructor: Ronnie (Saerom) Lee\n",
    "* E-mail: saerom@umich.edu (for any questions)"
   ]
  }
 ],
 "metadata": {
  "kernelspec": {
   "display_name": "Python 3",
   "language": "python",
   "name": "python3"
  },
  "language_info": {
   "codemirror_mode": {
    "name": "ipython",
    "version": 3
   },
   "file_extension": ".py",
   "mimetype": "text/x-python",
   "name": "python",
   "nbconvert_exporter": "python",
   "pygments_lexer": "ipython3",
   "version": "3.5.2"
  }
 },
 "nbformat": 4,
 "nbformat_minor": 2
}
