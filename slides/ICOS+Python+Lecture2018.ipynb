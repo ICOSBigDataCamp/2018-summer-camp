{
 "cells": [
  {
   "cell_type": "markdown",
   "metadata": {},
   "source": [
    "#     Intro to Python 3\n",
    "### (Wait!??  What happened to Python2?  Or Python1?  I am a beginner!  Shouldn't I start at the beginning!!!)\n",
    "There are very few things you need to know as languages change from one version to another.  The biggest problem is knowing which language your **packages** are expecting.  In the past few years more and more applications have moved to Python3 which is why we are switching too.  Unfortunately, even though the changes may not seem very big it is important to run the proper version else your program may crash.  Spectacularly.\n",
    "\n",
    "\n",
    "# Getting Started\n",
    "In almost all cases, programming is about three things:\n",
    "1) Saving data as variables.\n",
    "2) Manipulating and comparing data (usually using functions).\n",
    "3) Looping\n",
    "\n",
    "\n",
    "## Saving Data in Variables\n",
    "A **variable** is a special name you give to your data that tells the computer to save it somewhere.  Variables names must start with a letter or an underscore, and the remainder of your variable name may consist of letters, numbers and underscores. \n",
    "Variable names are case sensitive, so name and Name are note the same to a computer.\n"
   ]
  },
  {
   "cell_type": "markdown",
   "metadata": {},
   "source": []
  },
  {
   "cell_type": "code",
   "execution_count": null,
   "metadata": {},
   "outputs": [],
   "source": [
    "message = \"Colleen\"\n",
    "print (message)\n",
    "age = 5\n",
    "print (age)"
   ]
  },
  {
   "cell_type": "markdown",
   "metadata": {},
   "source": [
    "The first thing you need to realize is that the symbol \"=\" no longer means \"equals\" it means \"assign the value on the right hand side to the variable on the left hand side.\"\n",
    "\n",
    "\n",
    "Just assigning values and then printing them is boring.   And with big data it will be especially boring. *Sometimes you will want to manipuate your data.* \n",
    "\n",
    "You can do simple operations like add, subtract, multipy, divide, and concatenate very easily.  \n",
    "age = 35\n",
    "print(age)\n",
    "print(age + 2)          //**IF** the value stored in the variable \"age\" is a number, print the value + 2 (String would concatenate)\n",
    "print (age / 5)          //**IF** the value stored in age is a number, divide it by 5\n",
    "print (age / 6)          //**IF** the value stored in age is a number, divide it by 6\n",
    "print (age % 6)          //**IF** the value stored in age is a number find the remainder when divided by 6\n",
    "\n",
    "The computer will let you add two numbers, but it won't let you add numbers with strings."
   ]
  },
  {
   "cell_type": "code",
   "execution_count": null,
   "metadata": {},
   "outputs": [],
   "source": [
    "age = 35\n",
    "print (age)\n",
    "print (age + 2) \n",
    "print (age)\n",
    "print (age / 5)\n",
    "print (age / 4)\n",
    "print (age % 4)\n",
    "print (age)\n",
    "\n",
    "#name = \"Colleen\"\n",
    "#print (name+2)\n",
    "\n",
    "#age = int(\"35\")\n",
    "#print (age+2)\n",
    "\n",
    "#name = int(\"Colleen\")\n",
    "#print (name+2)"
   ]
  },
  {
   "cell_type": "markdown",
   "metadata": {},
   "source": [
    "### OPTIONAL - PY4E.com\n",
    "I am going to include the occasional \"optional\" challege for you using py4e.com.  The site has autograded assignments that help you practice the concepts.  The first one is at https://www.py4e.com/lessons/memory and the assignment is Exercise 2.3.  You will need to login with a google account to access it.\n",
    "\n",
    "A few notes - you need to match the output EXACTLY for it to work (including spaces).\n"
   ]
  },
  {
   "cell_type": "markdown",
   "metadata": {},
   "source": [
    "## Strings"
   ]
  },
  {
   "cell_type": "markdown",
   "metadata": {},
   "source": [
    "Strings are any type of data that you put inside quotes.  Above, \"Colleen\" was a string.  So was \"35\".\n",
    "\n",
    "Strings are an extremely popular data type in Python.   In fact, what you will probably realized during the talks this week is that computers often store numbers as strings. \n",
    "\n",
    "\n",
    "Python treats single quotes the same as double quotes, the main difference is that double quotes allow you to enclose single quotes. \n",
    "\n",
    "owner = 'Colleen'\n",
    "owner = \"Colleen's mom\"\n",
    "\n",
    "You can use either convention, but the key is CONSISTENCY.\n",
    "\n",
    "There are also triple double quotes \"\"\"...\"\"\" They allow you to write strings that span multiple lines.\n",
    "\n",
    "\n",
    "## String functionalities\n",
    "There are many, many built-in functionalities that you will eventually learn.  It is impossible to cover (and remember) them all in one sitting, but lets cover a few.\n",
    "\n"
   ]
  },
  {
   "cell_type": "markdown",
   "metadata": {},
   "source": [
    "#### String operators"
   ]
  },
  {
   "cell_type": "markdown",
   "metadata": {},
   "source": [
    "String operators are special bits of code that **ONLY WORK ON STRINGS**.  For instance, we have already seen that \"+\" does addition on numbers, but it will perform concatenation on Strings.\n",
    "    +\t     Concatenation - Adds values on either side of the operator\t \n",
    "    *\t     Repetition - Creates new strings, concatenating multiple copies of the same string\t a \n",
    "    in\t     Membership - Returns true if a character exists in the given string\t\n",
    "    not in\t Membership - Returns true if a character does not exist in the given string\t"
   ]
  },
  {
   "cell_type": "code",
   "execution_count": null,
   "metadata": {},
   "outputs": [],
   "source": [
    "a = \"Hello\"\n",
    "b = \"Python\"\n",
    "c = 2.1\n",
    "\n",
    "print(type(a))\n",
    "print(type(b))\n",
    "print(type(c))\n",
    "\n",
    "print (c+2)\n",
    "print (a + b)\n",
    "print (a * 5)\n",
    "#print (a *b)  #This won't work\n",
    "print (\"h\" in a)\n",
    "print (\"H\" in a)\n",
    "print (\"z\" in a)\n",
    "print (\"H\" not in a)\n",
    "print (\"z\" not in a)\n",
    "print (f in a)\n"
   ]
  },
  {
   "cell_type": "markdown",
   "metadata": {},
   "source": [
    "#### Slicing\n",
    "You can access an entire string variable, or just parts.  To access **just certain parts** you use square brackets to specify the indices of the data you want.  The format is:\n",
    "a[start:end]     # items start through end-1\n",
    "a[start:]        # items start through the rest of the array\n",
    "a[:end]          # items from the beginning through end-1\n",
    "a[:]             # everything\n",
    "a[::-1]          # everything in reverse!!!"
   ]
  },
  {
   "cell_type": "code",
   "execution_count": null,
   "metadata": {
    "collapsed": true
   },
   "outputs": [],
   "source": [
    "  message = \"Hello Everyone.  Please feel free to type your own message.\"\n",
    "  message = \"0123456789\"\n",
    "  print (message)\n",
    "  print (\"The first letter in message is: \" , message[0])\n",
    "  print (\"The 2nd through 9th letters are: \", message[1:9])\n",
    "  print(message[::-1])\n"
   ]
  },
  {
   "cell_type": "markdown",
   "metadata": {},
   "source": [
    "#### String methods"
   ]
  },
  {
   "cell_type": "markdown",
   "metadata": {},
   "source": [
    "The string operators return information about a string and they are a part of the Python language.  There is another set of tools called methods.  Methods are similar to operators in that they manipulate data, but they are used very differently.  \n",
    "\n",
    "Methods use the **DOT NOTATION**.  This means that you put the *name of the variable*, a dot (\"*.*\"), the *name of the method*, and then *parantheses*.  For instance, since you don't always know if the person typed in a number or not, you can use the method isdigit() to find out.\n",
    "\n",
    "variable.isdigit()\n",
    "\n",
    "Sometimes you need to put parameters in the parantheses.  Parameters are extra pieces of information that are needed to figure out the desired answer.  For instance, one useful method is count, it returns the number of times a substring shows up in a variable.  If you want the count method to return something, you better tell it what you are looking for.\n",
    "a = \"Hello gorgeous\"\n",
    "print (a.count('l'))   \n",
    "print (a.count('o'))\n",
    "print (a.count('O'))\n",
    "\n"
   ]
  },
  {
   "cell_type": "code",
   "execution_count": null,
   "metadata": {},
   "outputs": [],
   "source": [
    "a = \"Hello there awesome super super awesome programmers\"\n",
    "print (a.count('l'))           #This is a lowercase letter l, not the number 1.\n",
    "print (a.count('o'))\n",
    "print (a.count('O'))           #This is an uppercase O, not the number 0\n",
    "print (a.count('super'))\n",
    "\n",
    "# Another useful method is .find() \n",
    "print (a.find(\"H\")) # what's the index of the first occurrence of 'H'?\n",
    "print (a.find(\"awesome\")) # What's gonna happen here?\n",
    "print (a.find(\"super\")) # What about here? How do you know?\n"
   ]
  },
  {
   "cell_type": "markdown",
   "metadata": {},
   "source": [
    "Some methods have optional parameters.  These are pieces of information you can give, but aren't necessary.  For instance, the count method can also take a start and end index."
   ]
  },
  {
   "cell_type": "code",
   "execution_count": null,
   "metadata": {},
   "outputs": [],
   "source": [
    "a = \"Hello there Sheila\"\n",
    "print (a.count('l', 5))\n",
    "print (a.count('l', 5, 10))"
   ]
  },
  {
   "cell_type": "markdown",
   "metadata": {},
   "source": [
    "Looking at find and index"
   ]
  },
  {
   "cell_type": "code",
   "execution_count": null,
   "metadata": {},
   "outputs": [],
   "source": [
    "print (a.find('t'))          # position of the very first place it finds the argument\n",
    "print (a.find('l'))\n",
    "print (a.rfind('l'))         # position of the very last place it finds the argument\n",
    "                             # searching from the right\n",
    "print (a.find('z'))\n",
    "print (a.index('t'))\n",
    "#print (a.index('z'))   #What happens if I run this command?\n"
   ]
  },
  {
   "cell_type": "markdown",
   "metadata": {},
   "source": [
    "Just because a method exists doesn't mean you can always use it.  In the example above we are asking Python to do find the index of a character that doesn't exist.  Sometimes you need to combine commands, e.g. first make sure it exists, and then find it.    This idea of \"if/then\" is something we will get to a little later.\n",
    "\n",
    "Here are some additional String methods:\n",
    "isalnum(), isalpha(), isdigit(), isalnum(), len(), strip, lstrip(), rstrip()\n",
    "These are all good methods for checking/cleaning your data before you try to perform analysis.\n",
    "\n",
    "##Challenge Problem:\n",
    "See if you can do the slicing exercise (6.5) from https://www.py4e.com/lessons/strings \n"
   ]
  },
  {
   "cell_type": "markdown",
   "metadata": {},
   "source": [
    "# Flow of Control\n",
    "Some of the String methods above are called Boolean functions - they return true or false.  We can use that information to control what we want our program to do.  The syntax for if statements is straightforward:\n",
    "**if** expression:\n",
    "   what should happen if the statement is true\n"
   ]
  },
  {
   "cell_type": "code",
   "execution_count": null,
   "metadata": {},
   "outputs": [],
   "source": [
    "number = input(\"Enter a number\")\n",
    "#This program is going to crash.  Why???\n",
    "if number > 5:\n",
    "    print(\"Greater than 5\")\n",
    "    \n",
    "\n",
    "if number < 10:\n",
    "    print(\"Less than 10\")\n",
    "    print(\"Which means it is also less than 20\")         #You can put as many lines within your if statement as you need\n",
    "    print(\"And less than 30\")"
   ]
  },
  {
   "cell_type": "code",
   "execution_count": null,
   "metadata": {},
   "outputs": [],
   "source": [
    "name = input(\"Enter your username: \")\n",
    "if name.isalnum():\n",
    "    print(\"Valid user name!\")"
   ]
  },
  {
   "cell_type": "markdown",
   "metadata": {},
   "source": [
    "But what if it isn't a valid username?  What should we do?  You can match an **if** with an **else** to handle cases where the result is false.\n"
   ]
  },
  {
   "cell_type": "code",
   "execution_count": null,
   "metadata": {},
   "outputs": [],
   "source": [
    "name = input(\"Enter your username: \")\n",
    "if name.isalnum():\n",
    "    print(\"Valid user name!\")\n",
    "else:\n",
    "    print(\"Invalid user name - must be letters and numbers!\")"
   ]
  },
  {
   "cell_type": "markdown",
   "metadata": {},
   "source": [
    "What if you have multiple cases??  Then you can use **elif**.  The elif statement allows you to check multiple expressions for TRUE and execute a block of code as soon as one of the conditions evaluates to TRUE.  Similar to the else, the elif statement is optional. However, unlike else, for which there can be at most one statement, there can be an arbitrary number of elif statements following an if.  But it will only execute the first one it sees.\n",
    "\n"
   ]
  },
  {
   "cell_type": "code",
   "execution_count": null,
   "metadata": {},
   "outputs": [],
   "source": [
    "number = input(\"Enter a number: \")\n",
    "number = float(number)\n",
    "if number < 0:\n",
    "    print(\"You entered a negative number\")\n",
    "elif number > 0:\n",
    "    print(\"You entered a positive number\")\n",
    "else:\n",
    "    print(\"You entered 0\")"
   ]
  },
  {
   "cell_type": "markdown",
   "metadata": {},
   "source": [
    "## Challenge Problems:\n",
    "If you would like a challenge problem, go back to py4e.  There are two applicable problems here:\n",
    "\n",
    "https://www.py4e.com/lessons/logic\n",
    "\n",
    "Try Exercises 3.1 and 3.3.\n",
    "\n",
    "\n",
    "## Split and Lists\n",
    "The split method \"splits\" or \"breaks-up\" a string and add the data to a list using a defined separator.  If no separator is defined when you call upon the function, whitespace will be used by default."
   ]
  },
  {
   "cell_type": "code",
   "execution_count": null,
   "metadata": {},
   "outputs": [],
   "source": [
    "str1 = \"Value 1, Value 2, Value 3, Value 4\";\n",
    "print (str1.split( ));\n",
    "print (str1.split(','));            #I picked the comma for a reason, can anyone guess why?"
   ]
  },
  {
   "cell_type": "markdown",
   "metadata": {},
   "source": [
    "The value returned by split is a **LIST**.  The list is THE most versatile datatype available in Python.  It is a sequence of comma-separated values encased by square brackets. Items in a list do not have to be of the same type.\n"
   ]
  },
  {
   "cell_type": "code",
   "execution_count": null,
   "metadata": {},
   "outputs": [],
   "source": [
    "me = [\"Colleen\", \"van Lent\", 40, 'F']\n",
    "you = [\"Bob\", \"McCarthy\", 50, 'M']\n",
    "print (me[0])\n",
    "\n",
    "##QUICK NOTE - You can use Cmd \"/\" or Crl \"/\" to comment/uncomment multiple lines.\n",
    "# print (me[1])\n",
    "# print (me[2])\n",
    "# print (me[3])\n",
    "# print (me[0:2])\n",
    "\n",
    "\n",
    "#print (you)\n",
    "#print (me + you)\n"
   ]
  },
  {
   "cell_type": "markdown",
   "metadata": {},
   "source": [
    "### First taste of iteration (looping)\n",
    "What was the difference between printing me[0] then me[1] then me[2] etc as opposed to using print(me)?  In the first examples I was printing each piece of information out separatly.  In a long list, this would be too much typing AND it would be prone to errors.   Usually when you want to separate the list information you would use looping.  And for most looping you use a for loop.  The syntax is:\n",
    "\n",
    "**for** new_variable **in** list_name**:**\n",
    "   do something with the new_variable"
   ]
  },
  {
   "cell_type": "code",
   "execution_count": null,
   "metadata": {},
   "outputs": [],
   "source": [
    "me = [\"Colleen\", \"van Lent\", 40, 'F']\n",
    "for info in me:            #Loop through data in me and for each piece of data refer to it as \"info\"\n",
    "    print (info)           #I can call it anything I want, info, data, i, x, etc.\n",
    "    \n",
    "#    print(info, end=\"\")           #You can use end =\"\" to suppress the newline\n",
    "#    print(info,\"\\t\", end=\"\")      #You can use \"\\t\"  to replace empty space with a tab\n",
    "    "
   ]
  },
  {
   "cell_type": "markdown",
   "metadata": {},
   "source": [
    "Lists of lists"
   ]
  },
  {
   "cell_type": "code",
   "execution_count": null,
   "metadata": {},
   "outputs": [],
   "source": [
    "me = [\"Colleen\", \"van Lent\", 40, 'F']\n",
    "you = [\"Bob\", \"McCarthy\", 50, 'M']\n",
    "people = [you, me]\n",
    "print (people)\n"
   ]
  },
  {
   "cell_type": "markdown",
   "metadata": {},
   "source": [
    "#### Built-in List Functions and Methods"
   ]
  },
  {
   "cell_type": "markdown",
   "metadata": {},
   "source": [
    "Lists have a number of functions and methods associated with them\n",
    "Some of the functions are:\n",
    "* len(list)                 #Return the length of a list\n",
    "* max(list)                 #Return the \"largest\" element\n",
    "* min(list)                 #Return the \"smallest\" element\n",
    "* list(seq)                 #Take the seq, and turn it into a list\n",
    "\n",
    "Some of the list methods are: \n",
    "* count() \n",
    "* index(obj)                #Reminder -- some methods and functions have parameters - they are in the parantheses.\n",
    "\n",
    "Some list methods are in-place.  This  means that the lists are changed, but the methods don't \"return\" anything.  These include sort(), reverse(), insert(), append(), and remove.\n"
   ]
  },
  {
   "cell_type": "code",
   "execution_count": null,
   "metadata": {},
   "outputs": [],
   "source": [
    "me = [\"Colleen\", \"van Lent\", 40, 'F']\n",
    "you = [\"Bob\", \"McCarthy\", 50, 'M']\n",
    "her = [\"Sally\", \"James\", 25, 'Unknown']\n",
    "him = [\"John\", \"Doe\", 18, 'M']\n",
    "people = [me, you, her, him]\n",
    "print (people)\n",
    "\n",
    "print (\"\\nList Functions \\n\")\n",
    "print (len(people))\n",
    "print (max(people))\n",
    "print (min(people))\n",
    "\n",
    "\n",
    "\n",
    "print (\"\\nList Methods\\n\")\n",
    "print (people.count('Colleen'))\n",
    "print (people.count(me))\n",
    "\n",
    "people.sort() \n",
    "print (people)\n",
    "\n",
    "people.reverse()\n",
    "print (people)\n",
    "\n",
    "people.append(['Becca', 'van Lent', 5, 'F'])\n",
    "print (people)\n",
    "\n",
    "people.insert(2, ['Chris', 'van Lent', 7, 'M'])\n",
    "print (people)"
   ]
  },
  {
   "cell_type": "markdown",
   "metadata": {},
   "source": [
    "## Now what?"
   ]
  },
  {
   "cell_type": "markdown",
   "metadata": {},
   "source": [
    "Lets do a little input using the input() function."
   ]
  },
  {
   "cell_type": "code",
   "execution_count": null,
   "metadata": {},
   "outputs": [],
   "source": [
    "message = input(\"Enter your input: \") \n",
    "# What type will message have in it after that line is run? A string!\n",
    "\n",
    "print (message)\n",
    "print (message.find(\"Colleen\"))\n",
    "print (message.count(\"e\"))\n",
    "print (message.index(\" \"))\n",
    "print (message.rfind(\" \"))\n",
    "print (message.isalpha()) # This will print a boolean: True or False\n",
    "# are the only options\n",
    "print (message.isdigit()) "
   ]
  },
  {
   "cell_type": "markdown",
   "metadata": {},
   "source": [
    "## Flow of Control"
   ]
  },
  {
   "cell_type": "markdown",
   "metadata": {},
   "source": [
    "The real power of computing is selection and repetition.  Selection is when you use comparison operators to direct which path the program should take.  \n",
    "## Iteration\n",
    "Iteration (also called repetition by some) is when code is executed multiple times even though you only wrote it down once.  You signal to the computer that you may want to loop with a keyword such as **for** or **while**.  You must include a test case with this word so the computer can figure out when to execute the code.  The code you want to repeat must be indented.\n"
   ]
  },
  {
   "cell_type": "code",
   "execution_count": null,
   "metadata": {},
   "outputs": [],
   "source": [
    "num_cookies = 5\n",
    "while num_cookies > 0:                               ## Very important colon at the end of this line.\n",
    "  print (\"Yum!  I love eating cookies!\")             ## Notice that this line is indented\n",
    "  num_cookies -=1                                    ## Notice that this line is indented\n",
    "  print (\"Only \" + str(num_cookies) + \" left..\")     ## Notice that this line is indented \n",
    "print (\"I feel a little full now.\")                   ## Not indented here...\n"
   ]
  },
  {
   "cell_type": "markdown",
   "metadata": {},
   "source": [
    "The indentation is VERY, VERY important.  You must be consistent, I recommend that you **don't use tabs, use spaces**!!.  The other thing you need to be VERY worried about is the possibility of ***infinite loops***.  Go back up and change the code to num_cookies = 0 or add one instead of subtracting one.\n",
    "\n"
   ]
  },
  {
   "cell_type": "code",
   "execution_count": null,
   "metadata": {},
   "outputs": [],
   "source": [
    "##Can you write a program that prints the numbers from 0 to 10 by 2?\n"
   ]
  },
  {
   "cell_type": "markdown",
   "metadata": {},
   "source": [
    "Can you fix the code below to get the correct output?"
   ]
  },
  {
   "cell_type": "code",
   "execution_count": null,
   "metadata": {},
   "outputs": [],
   "source": [
    "num = 0\n",
    "while num < 10:\n",
    "    print(num)\n",
    "    "
   ]
  },
  {
   "cell_type": "markdown",
   "metadata": {},
   "source": [
    "If were to combine the looping construct **for** with the **range** function we get close, but not quite..."
   ]
  },
  {
   "cell_type": "code",
   "execution_count": null,
   "metadata": {},
   "outputs": [],
   "source": [
    "for num in range(10):\n",
    "    print(num)"
   ]
  },
  {
   "cell_type": "markdown",
   "metadata": {},
   "source": [
    "### Fixit Time\n",
    "Can you use selection to fix our earlier code?  Here is a tip, don't forget about the modulus operator **%**.  It will find the reminder."
   ]
  },
  {
   "cell_type": "code",
   "execution_count": null,
   "metadata": {},
   "outputs": [],
   "source": [
    "for num in range(10):\n",
    "        print(num)"
   ]
  },
  {
   "cell_type": "markdown",
   "metadata": {},
   "source": [
    "## Challenge Problem\n",
    "Can you do Exercise 5.2 from https://www.py4e.com/lessons/loops\n",
    "\n",
    "\n",
    "## Loops and list\n",
    "Because lists can contain a lot of data, it makes sense that we may want to use selection and iteration when using them."
   ]
  },
  {
   "cell_type": "code",
   "execution_count": null,
   "metadata": {},
   "outputs": [],
   "source": [
    "me = [\"Colleen\", \"van Lent\", 40, 'F']\n",
    "you = [\"Bob\", \"McCarthy\", 50, 'M']\n",
    "her = [\"Sally\", \"James\", 25, 'Unknown']\n",
    "him = [\"John\", \"Doe\", 18, 'M']\n",
    "people = [me, you, her, him]\n",
    "for  i in range(len(people)):\n",
    "  print (i, people[i])\n"
   ]
  },
  {
   "cell_type": "markdown",
   "metadata": {},
   "source": [
    "There is a shortcut you can use when you wan to loop through lists.."
   ]
  },
  {
   "cell_type": "code",
   "execution_count": null,
   "metadata": {},
   "outputs": [],
   "source": [
    "me = [\"Colleen\", \"van Lent\", 40, 'F']\n",
    "you = [\"Bob\", \"McCarthy\", 50, 'M']\n",
    "her = [\"Sally\", \"James\", 25, 'Unknown']\n",
    "him = [\"John\", \"Doe\", 18, 'M']\n",
    "people = [me, you, her, him]\n",
    "\n",
    "for person in people:\n",
    "   print (person)"
   ]
  },
  {
   "cell_type": "markdown",
   "metadata": {},
   "source": [
    "## Functions"
   ]
  },
  {
   "cell_type": "markdown",
   "metadata": {},
   "source": [
    "We have already used functions in this tutorial.  A function is a block of reusable code that is used to perform a single (albeit possibly complex). Functions allow for code reuse and also allow you to work better as a team.  The process of defining a function is as follows:\n",
    "\n",
    "\n",
    "1) Function blocks begin with the keyword def followed by the function name, parentheses ( ), and colon\n",
    "  \n",
    "  **def** myFunction**():**\n",
    "  \n",
    "  \n",
    "2) Any input parameters or arguments should be placed within these parentheses. \n",
    "  \n",
    "   **def** printMeALot**(**msg, times**):**\n",
    "  \n",
    "3) The code block within every function is indented.\n",
    "  \n",
    "  def printMeALot(msg, times):\n",
    "      for i in range(times):\n",
    "           print msg\n",
    "       \n",
    "\n",
    "4) Any return statements will cause an exit from the a function\n",
    "\n",
    "5) A return statement can pass an expression back to the caller. A return statement with no arguments is the same as return None."
   ]
  },
  {
   "cell_type": "code",
   "execution_count": null,
   "metadata": {},
   "outputs": [],
   "source": [
    "def printMeALot(msg, times):\n",
    "       for i in range(times):\n",
    "          print (msg)\n",
    "            \n",
    "printMeALot(\"I am the greatest\", 10)\n"
   ]
  },
  {
   "cell_type": "markdown",
   "metadata": {},
   "source": [
    "In the example above we wrote a function, called a built-in function (range), and called our own function.  We also called the print function.  In the latest versions of Python, print has been changed to a function again."
   ]
  },
  {
   "cell_type": "markdown",
   "metadata": {},
   "source": [
    "# Miscellaneous\n",
    "## Breaking out of loops and selection\n",
    "Sometimes you come across certain situations where you want to get out of an if statement or a loop.  You have three options **break, contine, ** and ** exit()**.   \n",
    "\n",
    "In Python, the break statement provides you with the opportunity to exit out of a loop when certain conditions are met.  The break statement goes within the block of code under your loop statement, usually after a conditional if statement.\n",
    "\n",
    "Example:\n",
    "\n"
   ]
  },
  {
   "cell_type": "code",
   "execution_count": null,
   "metadata": {},
   "outputs": [],
   "source": [
    "number = 0\n",
    "\n",
    "for number in range(10):\n",
    "   number = number + 1\n",
    "\n",
    "   if number == 5:\n",
    "      break    # break here\n",
    "\n",
    "   print('Number is ' + str(number))\n",
    "\n",
    "print('Out of loop')"
   ]
  },
  {
   "cell_type": "markdown",
   "metadata": {},
   "source": [
    "The continue statement lets skip over the part of a loop when certain conditions are met.  The difference though is that continue will still complete the rest of the loop. "
   ]
  },
  {
   "cell_type": "code",
   "execution_count": null,
   "metadata": {},
   "outputs": [],
   "source": [
    "number = 0\n",
    "\n",
    "for number in range(10):\n",
    "   number = number + 1\n",
    "\n",
    "   if number == 5:\n",
    "      continue    # continue here\n",
    "\n",
    "   print('Number is ' + str(number))\n",
    "\n",
    "print('Out of loop')"
   ]
  },
  {
   "cell_type": "markdown",
   "metadata": {},
   "source": [
    "The exit() function(!) halts the entire program.  I use this often when I want to check to see what is causing a problem and I don't want to program to continue until I have figured it out."
   ]
  },
  {
   "cell_type": "code",
   "execution_count": null,
   "metadata": {},
   "outputs": [],
   "source": [
    "number = 0\n",
    "\n",
    "for number in range(10):\n",
    "   number = number + 1\n",
    "\n",
    "   if number == 5:\n",
    "#       exit()    # exit here  I am commenting this out so you can just watch me do it instead.\n",
    "\n",
    "   print('Number is ' + str(number))\n",
    "\n",
    "print('Out of loop')"
   ]
  },
  {
   "cell_type": "markdown",
   "metadata": {},
   "source": [
    "## Exceptions\n",
    "An exception is an error that happens during execution of a program. When that\n",
    "error occurs, Python generate an exception.  If you write code to handle that exception, you can keep your code from crashing.  A common exception is when you expect your date to be a number and use int() or float() just to have your code crash.  \n",
    "\n",
    "A Common way to handle exceptions is with **try** and **except**.  The syntax is:\n",
    "**try:**\n",
    "    put in here your statements that cold go wrong and the statements that depend upon them.\n",
    "**except:**\n",
    "    put in here your statements you want to happen if the try failed."
   ]
  },
  {
   "cell_type": "code",
   "execution_count": null,
   "metadata": {},
   "outputs": [],
   "source": [
    "value = input(\"Enter a number: \")\n",
    "name = \"Colleen\"\n",
    "try:\n",
    "    value  = int(value)\n",
    "    name = \"Fred\"\n",
    "\n",
    "\n",
    "except:\n",
    "    print(\"You entered an invalid number.  I will set it to 0\")\n",
    "    value = 0\n",
    "    \n",
    "print(value)\n",
    "print(name)"
   ]
  },
  {
   "cell_type": "code",
   "execution_count": null,
   "metadata": {},
   "outputs": [],
   "source": [
    "numerator = int(input(\"Enter top fraction: \"))\n",
    "denominator = int(input(\"Enter bottom fraction: \"))\n",
    "print(str(numerator/denominator))\n",
    "\n",
    "# Fix this so that it doesn't crash on divide by zero"
   ]
  },
  {
   "cell_type": "markdown",
   "metadata": {},
   "source": [
    "## Reading from Files\n",
    "In most cases you will use a **for** loop to read in files.  When we want to read or write a file (say on your hard drive), we first must open the file.  When you open a file, you are asking the operating system to find the file by name and make sure the file exists. \n",
    "\n",
    ">>> fhand = open('mbox.txt')\n",
    ">>> print(fhand)\n",
    "<_io.TextIOWrapper name='mbox.txt' mode='r' encoding='cp1252'>\n",
    "\n",
    "This doesn't look like English because what is being printed is the file information, NOT the file contents.  To read the contents you can use this code to read it and count the number of lines.\n",
    "\n",
    "\n",
    "\n"
   ]
  },
  {
   "cell_type": "code",
   "execution_count": null,
   "metadata": {},
   "outputs": [],
   "source": [
    "#Note, this code won't work unless you download the txt file first from: http://www.py4e.com/code3/mbox-short.txt\n",
    "\n",
    "fhand = open('mbox-short.txt')\n",
    "count = 0\n",
    "for line in fhand:\n",
    "    count = count + 1\n",
    "print('Line Count:', count)\n",
    "\n",
    "#Code: http://www.py4e.com/code3/open.py"
   ]
  },
  {
   "cell_type": "markdown",
   "metadata": {},
   "source": [
    "## Searching in files\n",
    "The code below opens the file and then prints out only the lines that start with the string 'From:'."
   ]
  },
  {
   "cell_type": "code",
   "execution_count": null,
   "metadata": {},
   "outputs": [],
   "source": [
    "fhand = open('mbox-short.txt')\n",
    "count = 0\n",
    "for line in fhand:\n",
    "    if line.startswith('From:'):\n",
    "        print(line)\n",
    "\n",
    "#Code: http://www.py4e.com/code3/search1.py\n"
   ]
  },
  {
   "cell_type": "markdown",
   "metadata": {},
   "source": [
    "Conversely, if you wanted to *skip* the lines that started with that string you could use:"
   ]
  },
  {
   "cell_type": "code",
   "execution_count": null,
   "metadata": {},
   "outputs": [],
   "source": [
    "fhand = open('mbox-short.txt')\n",
    "count = 0\n",
    "for line in fhand:\n",
    "    if not line.startswith('From:'):\n",
    "        print(line)\n"
   ]
  },
  {
   "cell_type": "markdown",
   "metadata": {},
   "source": [
    "Finally, if you want to use use a variable for the file name (so the user gets to pick it) you could use:"
   ]
  },
  {
   "cell_type": "code",
   "execution_count": null,
   "metadata": {},
   "outputs": [],
   "source": [
    "fname = input('Enter the file name: ')\n",
    "fhand = open(fname)\n",
    "count = 0\n",
    "for line in fhand:\n",
    "    if line.startswith('Subject:'):\n",
    "        count = count + 1\n",
    "print('There were', count, 'subject lines in', fname)\n",
    "\n",
    "#Code: http://www.py4e.com/code3/search6.py\n"
   ]
  },
  {
   "cell_type": "markdown",
   "metadata": {},
   "source": [
    "## Challenge Problem\n",
    "Exercise 7.2 from https://www.py4e.com/lessons/files\n"
   ]
  }
 ],
 "metadata": {
  "kernelspec": {
   "display_name": "Python 3",
   "language": "python",
   "name": "python3"
  },
  "language_info": {
   "codemirror_mode": {
    "name": "ipython",
    "version": 3
   },
   "file_extension": ".py",
   "mimetype": "text/x-python",
   "name": "python",
   "nbconvert_exporter": "python",
   "pygments_lexer": "ipython3",
   "version": "3.6.1"
  }
 },
 "nbformat": 4,
 "nbformat_minor": 1
}
