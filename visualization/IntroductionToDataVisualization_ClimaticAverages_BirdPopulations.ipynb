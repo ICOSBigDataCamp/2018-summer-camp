{
 "cells": [
  {
   "cell_type": "markdown",
   "metadata": {},
   "source": [
    "# Introduction to Basic Data Visualization With Python For ICOS 2018\n",
    "\n",
    "## *Analyzing the Global Temperatures Differences from Average from 1880 - 2017 Along with North American Bird Species Migratory Patterns*\n",
    "\n",
    "\n",
    "Welcome to Thursday's data visualization class! Let's take a moment to quickly review what we learned as we get everyone set up - \n",
    "\n",
    "## Within the ICOS Summer Big Data Camp you have learned:\n",
    "\n",
    "### Reviewing - What is Jupyter?\n",
    "\n",
    "Jupyter is a interactive environment (this \"notebook\") where we can explore how a programming language ie Python works. You can \"run\" various cells at a time by hitting shift-enter OR by hitting run after selecting a cell. \n",
    "\n",
    "To edit a cell: double click. \n",
    "To make a text box cell: use the Cell -> Markdown option\n",
    "\n",
    "I like to think of this as a display format which is mixed text like this box and code in the next box - we will be doing the first lab reports using Jupyter. \n",
    "\n",
    "### Reviewing - What is Python and why are we using it?\n",
    "\n",
    "Python is an object oriented programming language. This means it has 'objects' which have certain rules or methods which you can access to run computer programming. We've seen this as we use pandas dataframes (objects) to analyze data. \n",
    "\n",
    "So far we've used both the command line and Jupyter (through our bulk installation of Anaconda) to read in data from a text file and some basics of Python (the programming commands) for data analysis through utilizing the Jupyter environment (this display).\n",
    "\n",
    "\n",
    "## What are we doing TODAY? \n",
    "\n",
    "Our goal will be to read in data, look at data, and above all plot data to inform you and your colleagues about said data. All useful things. You will learn and review how to: \n",
    "\n",
    "- Read in a CSV (comma seperated data file) into a data format for analysis\n",
    "- Plotting Basics (line plots, bar charts, and colors)\n",
    "- Indexing (simple using .loc and boolean indexing)\n",
    "- Use hex codes for Colors\n",
    "- Use datetime objects\n",
    "- And best of all...create line, bar, and scatter plots.\n",
    "\n",
    "IF AND ONLY IF WE HAVE EXTRA TIME\n",
    "- Create simple legends\n",
    "- Use datetime objects as an index in a Pandas dataframe\n",
    "- How to use Seaborn\n",
    "- Plot many plots, on 1 figure\n",
    "\n",
    "By the end of this lab you should be able to: read in simple data from CSV, make a line plot / bar chart, and know that matplotlib (Python's plotting package) is your friend.\n",
    "\n",
    "Additional materials and resources on the data in this lesson for referencing: \n",
    "\n",
    "- The temperature dataset used in this lab is one of the highlighted datasets in the National Climate Asssesment (3rd edition circa 2014. See [Figure 2.2 / 2.3](https://nca2014.globalchange.gov/report/our-changing-climate/observed-change)). These are interactive, feel free to click around. The fourth edition part 1 came out recently in [2017](https://science2017.globalchange.gov/chapter/front-matter-about/). \n",
    "    \n",
    "- The same data are presented in this figure by [Huber and Knutti, 2011](https://www.nature.com/articles/ngeo1327.pdf). Check out Figure 3, note the similarities and differences in presentation dependent on audience between this paper and the NCA.  \n",
    "\n",
    "- The Audobon Society Bird Data can be found [here](https://www.epa.gov/climate-indicators/climate-change-indicators-bird-wintering-ranges) and the original report and compilation can be found at the Audobon Society [website](http://web4.audubon.org/bird/bacc/techreport.html).\n",
    "    "
   ]
  },
  {
   "cell_type": "markdown",
   "metadata": {},
   "source": [
    "-------\n",
    "### Part 1: Reading In Required Packages and Loading Our Data\n",
    "\n",
    "\n",
    "#### What is Matplotlib?\n",
    "\n",
    "Matplotlib is a package that enables visualization and graphics in Python. While we are using Jupyter to demonstrate this package, we will also be saving figures at publication ready formats so that you can see how to use this in your work. \n",
    "\n",
    "Matplotlib like most other Python packages has amazing documentation online. When using Google, always google matplotlib then your search term. You can check it out at the [documentation] (https://matplotlib.org/) online.\n",
    "\n",
    "#### Why are we using it? \n",
    "\n",
    "Matplotlib is the basic plotting package for Python. There are several other packages that are availible including the gaining popularity [Seaborn](https://seaborn.pydata.org/) package. Seaborn is useful if you are dealing with some basic stats that you want to show, or some out of the box analysis you want to just run and not deal with the overhead. If we have time in class we will see some of the types of things you can do with Seaborn."
   ]
  },
  {
   "cell_type": "code",
   "execution_count": null,
   "metadata": {},
   "outputs": [],
   "source": [
    "#Review - the hashtag we use to make a comment\n",
    "#this be used so that the computer skips reading this code\n",
    "\n",
    "#think of packages like enabling different levels of a game \n",
    "#here we are importing packages\n",
    "\n",
    "import numpy as np               #for handling numbers w/ precision\n",
    "import pandas as pd              #for handling dataframes\n",
    "import datetime as dt            #this enables datetime object handling\n",
    "    \n",
    "###########THIS ENABLES MATPLOTLIB PLOTTING\n",
    "import matplotlib.pyplot as plt  #for plotting of datasets\n",
    "\n",
    "#setting up Jupyter environment so plots \n",
    "#will be placed in the notebook - you do not do this \n",
    "#unless you are in Jupyter environment \n",
    "%matplotlib inline\n"
   ]
  },
  {
   "cell_type": "code",
   "execution_count": null,
   "metadata": {},
   "outputs": [],
   "source": [
    "#Within the folder you all downloaded is a data subdirectory with global temperature \n",
    "#anomaly data from following comma seperated values (CSV)\n",
    "\n",
    "#DATA DESCRIPTION:\n",
    "##### Web link: https://www.ncdc.noaa.gov/cag/time-series/global/globe/land/ytd/12/1880-2017\n",
    "##### Provided by NOAA National Center for Environmental Information\n",
    "##### Global temperature anomaly data come from the Global Historical Climatology \n",
    "##### Network-Monthly (GHCN-M) data set and International Comprehensive Ocean-Atmosphere \n",
    "##### Data Set (ICOADS), which have data from 1880 to the present. \n",
    "\n",
    "##### This data is the timeseries of global-scale temperature anomalies \n",
    "##### calculated with respect tothe 20th century average.\n",
    "\n",
    "#the following command reads from a csv format into a pandas dataframe called temperVarGlobal\n",
    "#note the header = 4 command, this designates four skipped lines before assigned variables. \n",
    "\n",
    "temperVarGlobal = pd.read_csv('./Data/GlobalLandAndOcean_1880-2017_TempVariants.csv', \n",
    "                              header = 4)"
   ]
  },
  {
   "cell_type": "code",
   "execution_count": null,
   "metadata": {},
   "outputs": [],
   "source": [
    "#As always, you should make sure the data was\n",
    "#read in correctly, here are some methods you can use\n",
    "#to make sure\n",
    "\n",
    "#Check the type - should be a dataframe - is it?\n",
    "print(type(temperVarGlobal))\n"
   ]
  },
  {
   "cell_type": "code",
   "execution_count": null,
   "metadata": {},
   "outputs": [],
   "source": [
    "#Check the columns - are there many? \n",
    "#Are they names nicely?\n",
    "print(temperVarGlobal.columns)"
   ]
  },
  {
   "cell_type": "code",
   "execution_count": null,
   "metadata": {},
   "outputs": [],
   "source": [
    "#check the first 10 rows\n",
    "temperVarGlobal.head(n=10)\n",
    "\n",
    "#here you can see on the left hand side the index values, followed by the year, then Value. \n",
    "#This data did NOT provide a nice column name for the rows in the CSV file so we have the \n",
    "#'Value'.\n",
    "\n",
    "#given the information above and at the website we know that this is the temperature anomoly \n",
    "#for all of Earth for each year in Celcius"
   ]
  },
  {
   "cell_type": "markdown",
   "metadata": {},
   "source": [
    "### Part 2: Cleaning Data\n",
    "\n",
    "We noticed that it says Value, not what the data actually represents - value is very vague. \n",
    "\n",
    "Similarly while dealing in Celcius can be useful, it can also be useful to have these values represented in Farenheit."
   ]
  },
  {
   "cell_type": "code",
   "execution_count": null,
   "metadata": {},
   "outputs": [],
   "source": [
    "#let's rename the column so it's not a vague \"Value\"\n",
    "\n",
    "#You can find more details on .rename at \n",
    "#https://pandas.pydata.org/pandas-docs/stable/generated/pandas.DataFrame.rename.html\n",
    "\n",
    "temperVarGlobal.rename(columns={'Value': 'AnomalyC'}, inplace=True)\n",
    "#inplace = True is to prevent redefining a NEW dataframe object\n",
    "\n",
    "#let's check the columns - does it look right?\n",
    "print(temperVarGlobal.columns)"
   ]
  },
  {
   "cell_type": "code",
   "execution_count": null,
   "metadata": {},
   "outputs": [],
   "source": [
    "#here we define a NEW columns based off the old column\n",
    "temperVarGlobal['AnomalyF'] = temperVarGlobal['AnomalyC'] * 1.8\n",
    "\n",
    "#let's make sure this did what we wanted\n",
    "print(temperVarGlobal.head(n=10))\n"
   ]
  },
  {
   "cell_type": "markdown",
   "metadata": {},
   "source": [
    "### Part 3: Create Super Basic Exploratory Graphic\n",
    "\n",
    "So far we've just loaded in a dataset, converted one column to Farenheit. But what we WANT to do is create a exploratory graphic. How ARE these data changing with time???"
   ]
  },
  {
   "cell_type": "code",
   "execution_count": null,
   "metadata": {},
   "outputs": [],
   "source": [
    "#first pass plotting examples - \n",
    "plt.plot(temperVarGlobal['Year'], temperVarGlobal['AnomalyF'])\n",
    "\n"
   ]
  },
  {
   "cell_type": "markdown",
   "metadata": {},
   "source": [
    "#### This creates a super simple plot - what if we want this as a part of a figure? Check out the next cell..."
   ]
  },
  {
   "cell_type": "code",
   "execution_count": null,
   "metadata": {},
   "outputs": [],
   "source": [
    "#define a figure (think of this as a page)\n",
    "fig = plt.figure(figsize=(10, 5))\n",
    "\n",
    "#let's give it a title\n",
    "fig.suptitle('Temperature Variants From 1800 - 2017 Global Averages', fontsize=20)\n",
    "\n",
    "#lets just make a line plot, worry about everything else later\n",
    "plt.plot(temperVarGlobal['Year'], temperVarGlobal['AnomalyF'])\n",
    "\n",
    "#and label some axis - note how the fontsize command\n",
    "#is incredibly useful? \n",
    "plt.ylabel('Anomaly $\\degree$F', fontsize = 20)\n",
    "plt.xlabel('Year', fontsize = 20)\n",
    "\n",
    "#SPECIAL NOTE using $COMMANDS$  in a text entry will enable symbols \n",
    "#through Latex - see special enabled commands here: \n",
    "#https://oeis.org/wiki/List_of_LaTeX_mathematical_symbols"
   ]
  },
  {
   "cell_type": "markdown",
   "metadata": {},
   "source": [
    "### So this is super basic matplotlib....\n",
    "...\n",
    "\n",
    "...\n",
    "\n",
    "...\n",
    "\n",
    "...\n",
    "\n",
    "...\n",
    "\n",
    "### And it is...not so nice looking. What do we want to do here?\n",
    "\n",
    "...\n",
    "\n",
    "...\n",
    "\n",
    "...\n",
    "\n",
    "...\n",
    "\n",
    "...\n",
    "\n",
    "Let's try fixing it up so that we can:\n",
    "\n",
    "- Adjust the labelsize \n",
    "- Tell if it's below or above zero which is really the main point of this chart...\n",
    "\n",
    "Let's learn how to make this a publication ready chart by adding some nifty features."
   ]
  },
  {
   "cell_type": "markdown",
   "metadata": {},
   "source": [
    "### Part 4: Create Explanatory Graphic Demonstrating Trend"
   ]
  },
  {
   "cell_type": "code",
   "execution_count": null,
   "metadata": {},
   "outputs": [],
   "source": [
    "#Note anything within the comment bars are additions to the figure. \n",
    "\n",
    "\n",
    "#set up the \"figure size\"\n",
    "fig = plt.figure(figsize=(10, 5))\n",
    "#make suptitle\n",
    "fig.suptitle('Temperature Variants From 1800 - 2017 Global Averages', fontsize=20)\n",
    "\n",
    "#plot it\n",
    "plt.plot(temperVarGlobal['Year'], temperVarGlobal['AnomalyF'])\n",
    "\n",
    "#label it\n",
    "plt.ylabel('Anomaly $\\degree$F', fontsize = 20)\n",
    "plt.xlabel('Year', fontsize = 20)\n",
    "\n",
    "\n",
    "#ADDED THE FOLLOWING TO MAKE IT NICER LOOKING\n",
    "#----------------------------------------- \n",
    "plt.xticks(fontsize=16) #make the xaxis labels larger\n",
    "plt.yticks(fontsize=16) #make the yaxis labels larger\n",
    "plt.axhline(y=0.0, color='k', linestyle='--') #add a horizontal line at 0\n",
    "plt.grid(color='gray', linestyle='dashed') #add a grid so it's easier to tell if at zero\n",
    "#-----------------------------------------\n"
   ]
  },
  {
   "cell_type": "markdown",
   "metadata": {},
   "source": [
    "\n",
    "...\n",
    "\n",
    "...\n",
    "\n",
    "\n",
    "...\n",
    "\n",
    "\n",
    "\n",
    "\n",
    "\n",
    "\n",
    "\n",
    "\n",
    "\n",
    "### Mmmmmm so this is getting better. \n",
    "\n",
    "\n",
    "\n",
    "\n",
    "...\n",
    "\n",
    "...\n",
    "\n",
    "\n",
    "...\n",
    "\n",
    "\n",
    "\n",
    "\n",
    "\n",
    "\n",
    "\n",
    "\n",
    "\n",
    "But what we loose here is that we KNOW that each point has a definitive width of 1 year, it's an average over that year, the chaotic behavior of the line is more misleading than informative."
   ]
  },
  {
   "cell_type": "markdown",
   "metadata": {},
   "source": [
    "### Part 5: Iteration on Same Graphic"
   ]
  },
  {
   "cell_type": "code",
   "execution_count": null,
   "metadata": {},
   "outputs": [],
   "source": [
    "fig = plt.figure(figsize=(10, 5))\n",
    "fig.suptitle('Temperature Variants From 1800 - 2017 Global Averages', fontsize=20)\n",
    "\n",
    "#----------------------------------------- we have edited this into a bar chart\n",
    "\n",
    "#note we make it purple for fun ;)\n",
    "#also the align = 'edge' will align to the left side of the range\n",
    "#width = 0.8 rather than 1 simply to make it appear more interesting. Go ahead and play \n",
    "#with the width to see why it's at 0.8\n",
    "plt.bar(temperVarGlobal['Year'], temperVarGlobal['AnomalyF'], width = 0.8, align='edge', \n",
    "        color = 'purple')\n",
    "#----------------------------------------- \n",
    "plt.ylabel('Anomaly $\\degree$F', fontsize = 20)\n",
    "plt.xlabel('Year', fontsize = 20)\n",
    "\n",
    "plt.xticks(fontsize=16)\n",
    "plt.yticks(fontsize=16)\n",
    "plt.axhline(y=0.0, color='k', linestyle='--')\n",
    "\n",
    "plt.grid(color='gray', linestyle='dashed')\n"
   ]
  },
  {
   "cell_type": "markdown",
   "metadata": {},
   "source": [
    "### So while purple was fun...we want to show when it's greater than zero, and less than zero. It would be best if these were actually different colors.\n",
    "\n",
    "Remember how we set this equal to purple? This was done with hex code. \n",
    "\n",
    "We can also assign a column JUST for colors as a hex code value in our dataframe so that each bar could have different colors when we plot it. You could also just do this as making blue 'b', or red 'r', but let's use hex code just so we know how to. There are two more obvious ways to go about this. In both ways our goal is to create a NEW column in the data frame with the colors of the bars where if less than zero we make blue, greater than we make red.\n",
    "\n",
    "(Side note - if you are curious about what exactly hex codes are check it out at [color-hex.com](http://www.color-hex.com/))\n",
    "\n",
    "Way 1)\n",
    "\n",
    "- The tried and true method of using a for loop to loop over every data value in our array, create a new column, and fill with what color we want it to be. This would be a common way to deal with this issue. Loop through, check each value...but what if you have so much data, that this for loop takes forever to run?\n",
    "\n",
    "Way 2)\n",
    "\n",
    "- Slightly \"pythonic\" ie it uses the inbuilt methods of objects (in this case dataframes) to avoid writing extensive loop structures.\n",
    "\n",
    "\n",
    "### We are going to show you way 2 - however if way 1 makes more sense to you, it is availiable at the following [data visualization guide](https://github.com/astro-abby/data_vis_statistics_geosciences).\n",
    "\n"
   ]
  },
  {
   "cell_type": "markdown",
   "metadata": {},
   "source": [
    "\n",
    "#### Step 1 - setting up something called a Boolean Index\n"
   ]
  },
  {
   "cell_type": "code",
   "execution_count": null,
   "metadata": {},
   "outputs": [],
   "source": [
    "\n",
    "#First we set up what's called a Boolean Index.\n",
    "\n",
    "booleanIndex = temperVarGlobal['AnomalyF'] > 0 \n",
    "\n",
    "#let's see what the heck this did! \n",
    "print(booleanIndex[0:10])\n",
    "\n"
   ]
  },
  {
   "cell_type": "code",
   "execution_count": null,
   "metadata": {},
   "outputs": [],
   "source": [
    "#let's see what the heck this did! \n",
    "print(booleanIndex.tail(n=10))"
   ]
  },
  {
   "cell_type": "code",
   "execution_count": null,
   "metadata": {},
   "outputs": [],
   "source": [
    "#side note - the ~ symbol flips the value of the index\n",
    "print(~booleanIndex[0:10])\n"
   ]
  },
  {
   "cell_type": "markdown",
   "metadata": {},
   "source": [
    "\n",
    "#### Step 2 - Using the boolean as an index for the colors\n"
   ]
  },
  {
   "cell_type": "code",
   "execution_count": null,
   "metadata": {},
   "outputs": [],
   "source": [
    "#Next we set up the values for colors \n",
    "\n",
    "#we create a new column only of k, which is the Python code for color black\n",
    "#then if we set up the colors in this column incorrectly we will know\n",
    "temperVarGlobal['Colors'] = 'k'\n",
    "\n",
    "#next we set up using the .loc method, the colors we want. \n",
    "\n",
    "#remember how the ~ flips the value?\n",
    "temperVarGlobal.loc[booleanIndex, 'Colors'] = '#9F4E58' \n",
    "temperVarGlobal.loc[~booleanIndex, 'Colors'] = '#64ACEA'\n",
    "\n",
    "#and set the colors up here we use hex code\n",
    "\n",
    "#let's see what this looks like now by printing the first\n",
    "#10 rows and ALL the columns, reminder : means all\n",
    "print(temperVarGlobal.loc[0:10, :])\n"
   ]
  },
  {
   "cell_type": "markdown",
   "metadata": {},
   "source": [
    "#### Step 3 - PLOT!"
   ]
  },
  {
   "cell_type": "code",
   "execution_count": null,
   "metadata": {},
   "outputs": [],
   "source": [
    "\n",
    "fig = plt.figure(figsize=(10, 5))\n",
    "fig.suptitle('Temperature Variants From 1800 - 2017 Global Averages', fontsize=20)\n",
    "\n",
    "#------------------------------------------------  we edited the following color statement \n",
    "#ONLY\n",
    "\n",
    "plt.bar(temperVarGlobal['Year'], temperVarGlobal['AnomalyF'], width = 0.8, align='edge', \n",
    "        color = temperVarGlobal['Colors'])\n",
    "#------------------------------------------------\n",
    "\n",
    "plt.ylabel('Anomaly $\\degree$F', fontsize = 20)\n",
    "plt.xlabel('Year', fontsize = 20)\n",
    "\n",
    "plt.xticks(fontsize=16)\n",
    "plt.yticks(fontsize=16)\n",
    "plt.axhline(y=0.0, color='k', linestyle='--')\n",
    "\n",
    "plt.grid(color='gray', linestyle='dashed')\n",
    "\n",
    "\n",
    "#note to save the figure you can do so as - go see it in your folder!\n",
    "plt.savefig('./Figures/TempVariants.png')"
   ]
  },
  {
   "cell_type": "markdown",
   "metadata": {},
   "source": [
    "Now this has been rather fun, you've learned how to set up AND SAVE a basic plot and make it absolutely gorgeously informative! This is the point where we learn how to do more than 1 plot on a figure. Depending on time we might skip to the summary. BUT make note of this to return to later if we have to move onwards! \n",
    "\n",
    "...\n",
    "\n",
    "...\n",
    "\n",
    "..."
   ]
  },
  {
   "cell_type": "markdown",
   "metadata": {},
   "source": [
    "### Part 6 - Dealing with Other Types of Data and Datetime Objects\n",
    "\n",
    "This has all been fine...but what if we want to deal with multiple datasets with different time cadences? Let's say sometimes we have data for certain years but not others? "
   ]
  },
  {
   "cell_type": "code",
   "execution_count": null,
   "metadata": {},
   "outputs": [],
   "source": [
    "#Here we are importing two datasets - \n",
    "\n",
    "#this first dataset is the average wintering location for North American birds\n",
    "#bird ranges over the last 40 years since 1966\n",
    "\n",
    "#DATA DESCRIPTION:\n",
    "##### Source: \n",
    "##### https://www.epa.gov/climate-indicators/climate-change-indicators-bird-wintering-ranges\n",
    "##### Original report and compilation can be found at the Audobon Society website\n",
    "##### http://web4.audubon.org/bird/bacc/techreport.html\n",
    "\n",
    "##### Each winter (mid Dec - early January) the Audobon society collect bird count and location\n",
    "##### of wintering habitats\n",
    "\n",
    "birdRangeAvrg = pd.read_csv('./Data/birdRanges_40yearAvrg.csv', header = 6)\n",
    "\n",
    "#the second dataset represents the bird species that went into the previous time series\n",
    "#analysis with each species and summary data over previous 40 years\n",
    "\n",
    "birdSpecies = pd.read_csv('./Data/birdSpecies.csv', \n",
    "                            header = 2)"
   ]
  },
  {
   "cell_type": "code",
   "execution_count": null,
   "metadata": {},
   "outputs": [],
   "source": [
    "\n",
    "#Let's check out data again make sure it imported correctly - \n",
    "\n",
    "print(birdRangeAvrg.head())\n",
    "\n",
    "print(birdSpecies.columns)\n",
    "\n"
   ]
  },
  {
   "cell_type": "markdown",
   "metadata": {},
   "source": [
    "### Create Date Time Index\n",
    "\n",
    "Up to now our indexes of the Pandas dataframes have been numbers - ranging from 0 to the length of the dataframe. What if instead we could have these be datetime objects?\n",
    "\n",
    "Why would we want to do this? This let's us do matching with specific indexes by time. This can be super useful when plotting which is why we are showing this to you. As a bonus, it also allows us to show mutliple plots on 1 figure so... "
   ]
  },
  {
   "cell_type": "code",
   "execution_count": null,
   "metadata": {},
   "outputs": [],
   "source": [
    "#reminder of what datetime is\n",
    "\n",
    "#create a datetime object\n",
    "exObject = dt.datetime(2016, 5, 16)\n",
    "#print it and show what \"type\" of object it is - \n",
    "print(exObject)\n",
    "print(type(exObject))"
   ]
  },
  {
   "cell_type": "code",
   "execution_count": null,
   "metadata": {},
   "outputs": [],
   "source": [
    "#datetimes are cool because you can do things like this with them...\n",
    "\n",
    "print(exObject.month)\n",
    "print(exObject.day)\n",
    "\n",
    "#notice - hour ends up being 0? This is because we never set it up - \n",
    "print(exObject.hour)"
   ]
  },
  {
   "cell_type": "code",
   "execution_count": null,
   "metadata": {},
   "outputs": [],
   "source": [
    "#let's set up the INDEX of our dataframes to datetime objects\n",
    "\n",
    "#what these commands do is take a column of a certain format, and convert it into \n",
    "#a datetime object\n",
    "\n",
    "birdRangeAvrg.index = pd.to_datetime(birdRangeAvrg['year'], infer_datetime_format = False, \n",
    "                                       format = '%Y')\n",
    "\n",
    "temperVarGlobal.index = pd.to_datetime(temperVarGlobal['Year'], infer_datetime_format = False, \n",
    "                                       format = '%Y')"
   ]
  },
  {
   "cell_type": "markdown",
   "metadata": {},
   "source": [
    "### Well that was rather not exciting. Go ahead and print out .head of the temperVarGlobal now. What do you notice about the data on the left now?"
   ]
  },
  {
   "cell_type": "code",
   "execution_count": null,
   "metadata": {},
   "outputs": [],
   "source": [
    "print(temperVarGlobal.head(n=6))"
   ]
  },
  {
   "cell_type": "code",
   "execution_count": null,
   "metadata": {},
   "outputs": [],
   "source": [
    "#What we did just enabled nonsense like:\n",
    "birdRangeAvrg.index.year\n",
    "\n",
    "#this can be incredibly useful. Now you can arrange datasets by time and cadence."
   ]
  },
  {
   "cell_type": "markdown",
   "metadata": {},
   "source": [
    "### What happens if we want to plot a datetime index now?\n",
    "\n",
    "Within the following plotting command block you can see some changes, we are still using plt.plot but you can also see we are plotting on the index with the to_pydatetime() command. If you just try and plot the index you will get an error. \n",
    "\n",
    "You can also see our use of alpha to turn things transparent. "
   ]
  },
  {
   "cell_type": "code",
   "execution_count": null,
   "metadata": {},
   "outputs": [],
   "source": [
    "fig = plt.figure(figsize=(10, 8))\n",
    "fig.suptitle('Change in Latitude of Bird Wintering Center Lower 48 United States' + \n",
    "             '\\n 1966 - 2013', fontsize=20)\n",
    "\n",
    "plt.plot(birdRangeAvrg.index.to_pydatetime(), \n",
    "         birdRangeAvrg['mean distance (miles)'], \n",
    "         lw = 3, marker = 'o') # main line\n",
    "\n",
    "plt.plot(birdRangeAvrg.index.to_pydatetime(), \n",
    "         birdRangeAvrg['upper confidence (miles)'], \n",
    "         lw = 3, alpha = 0.6, color = '#39AEC2')\n",
    "plt.plot(birdRangeAvrg.index.to_pydatetime(), \n",
    "         birdRangeAvrg['lower confidence (miles)'], \n",
    "         lw = 3, alpha = 0.6, color = '#39AEC2')\n",
    "\n",
    "#fill in region between the two boundary lines - note the alpha command?\n",
    "plt.fill_between(birdRangeAvrg.index.to_pydatetime(),\n",
    "                 birdRangeAvrg['lower confidence (miles)'], \n",
    "                 birdRangeAvrg['upper confidence (miles)'], \n",
    "                 alpha = 0.2, color = '#39AEC2')\n",
    "\n",
    "plt.ylabel('Average Distance Moved North (miles)', fontsize = 20)\n",
    "plt.xlabel('Year', fontsize = 20)\n",
    "\n",
    "plt.xticks(fontsize=16) #make the xaxis labels larger\n",
    "plt.yticks(fontsize=16) #make the yaxis labels larger\n",
    "plt.axhline(y=0.0, color='k', linestyle='--') #add a horizontal line at 0\n",
    "\n",
    "plt.grid(color='gray', linestyle='dashed') #add a grid so it's easier to tell if at zero"
   ]
  },
  {
   "cell_type": "markdown",
   "metadata": {},
   "source": [
    "#### What if not only do we want to know at the same time, the global temperature anomaly data over the same period?\n"
   ]
  },
  {
   "cell_type": "markdown",
   "metadata": {},
   "source": [
    "### Part 7: Making Mulitfigure Plot with Scatter and Datetime Indexing\n",
    "\n",
    "\n",
    "The following plot is a pretty big jump from the previous one, in particular we added the use of gridspec to have multiplots and used indexing to match the same datetime indexes. This is mostly here for your use in the future and refer back to. The indexing in particular is a little tricky, but it's here for referencing. "
   ]
  },
  {
   "cell_type": "code",
   "execution_count": null,
   "metadata": {},
   "outputs": [],
   "source": [
    "#We can use the .loc command to index into ONE data frame at only the cadence \n",
    "#of ANOTHER dataframe - this can be super useful. \n",
    "\n",
    "#for example, let's say we only want the index where birdRangeAvrg is valid?\n",
    "print(temperVarGlobal.loc[birdRangeAvrg.index, :])"
   ]
  },
  {
   "cell_type": "markdown",
   "metadata": {},
   "source": [
    "#### Notice how the start and the end are different now? It ends at 1966! Not at 1981...\n",
    "\n",
    "#### Let's put this into place in our plot..."
   ]
  },
  {
   "cell_type": "code",
   "execution_count": null,
   "metadata": {},
   "outputs": [],
   "source": [
    "\n",
    "fig = plt.figure(figsize=(10, 8))\n",
    "#added newline character to make multilevel title\n",
    "fig.suptitle('Change in Latitude of Bird Wintering Center In North America \\n with '+ \n",
    "             'Global Temperature Anomalies', fontsize=20)\n",
    "\n",
    "#By using the gridspec command we can set up mutliple plotting objects on the \n",
    "#same figure\n",
    "#----------------------THIS IS NEW!!!!\n",
    "gs = plt.GridSpec(2, 1, hspace=0.0, wspace=0.0, right = 0.8)\n",
    "\n",
    "#add axis to then plot out the data\n",
    "ax1 = fig.add_subplot(gs[0,:])\n",
    "ax2 = fig.add_subplot(gs[1,:])\n",
    "#----------------------THIS IS NEW!!!!\n",
    "\n",
    "#plot the bird range - the order does NOT MATTER\n",
    "ax1.plot(birdRangeAvrg.index.to_pydatetime(), birdRangeAvrg['mean distance (miles)'],    \n",
    "         lw = 3, marker = 'o') # main line\n",
    "ax1.plot(birdRangeAvrg.index.to_pydatetime(), birdRangeAvrg['upper confidence (miles)'], \n",
    "         lw = 3, alpha = 0.6, color = '#39AEC2')\n",
    "ax1.plot(birdRangeAvrg.index.to_pydatetime(), birdRangeAvrg['lower confidence (miles)'], \n",
    "         lw = 3, alpha = 0.6, color = '#39AEC2')\n",
    "\n",
    "\n",
    "#notice how our axis now can each have their own labels and how the command is different?\n",
    "ax1.set_ylabel('Avrg. Dist. \\n Moved North (miles)', fontsize = 20)\n",
    "\n",
    "ax1.axhline(y=0.0, color='k', linestyle='--') #add a horizontal line at 0\n",
    "\n",
    "ax1.fill_between(birdRangeAvrg.index.to_pydatetime(), \n",
    "                 birdRangeAvrg['lower confidence (miles)'], \n",
    "                 birdRangeAvrg['upper confidence (miles)'], alpha = 0.2)\n",
    "\n",
    "ax1.grid(color='gray', linestyle='dashed')\n",
    "ax1.tick_params(labelsize=16) #make the tick labels\n",
    "\n",
    "#now let's add to plot two - remember before how we had a super long date axis?\n",
    "#well now we are sharing the axis...how about we do just the same date range?\n",
    "#remember how we spent so long on the datetime indexing??\n",
    "\n",
    "#check out the following command with indexing - see how we are using the birdRangeAvrg.index? \n",
    "#to only get the years that are in the same range?\n",
    "\n",
    "ax2.bar(temperVarGlobal.loc[birdRangeAvrg.index, :].index.to_pydatetime(), \n",
    "        temperVarGlobal.loc[birdRangeAvrg.index, 'AnomalyF'], \n",
    "        width = 300, align='edge', \n",
    "        color = temperVarGlobal.loc[birdRangeAvrg.index, 'Colors'])\n",
    "\n",
    "ax2.set_ylabel('Global Anomaly $\\degree$F', fontsize = 20)\n",
    "ax2.set_xlabel('Year', fontsize = 20)\n",
    "\n",
    "ax2.grid(color='gray', linestyle='dashed')\n",
    "\n",
    "ax2.tick_params(labelsize=16)\n",
    "\n",
    "#IMPORTANT!!!!\n",
    "#when doing multiplots with hidden axis MAKE SURE to always set the limits of the axis for\n",
    "#all axis so that the plots don't un-sync - try switching out these datetime \n",
    "#objects for other dates can be misleading\n",
    "\n",
    "ax1.set_xlim([dt.datetime(1964, 1, 1), dt.datetime(2015, 1, 1)])\n",
    "ax2.set_xlim([dt.datetime(1964, 1, 1), dt.datetime(2015, 1, 1)])\n",
    "\n",
    "\n",
    "#note - if the axis on the upper plot starts to poke out - you can turn this off\n",
    "#with the following command\n",
    "\n",
    "ax1.set_xticklabels([])\n"
   ]
  },
  {
   "cell_type": "markdown",
   "metadata": {},
   "source": [
    "# SUMMARY\n",
    "\n",
    "From this lab you have learned the basics of python packages including: numpy, pandas, and matplotlib.pyplt, datetime, boolean indexing, and legends. \n",
    "\n",
    "In Python you can create exploratory graphics pretty quickly with simply doing plt.plot(). As you get better at creating explanatory graphics you can begin to do what we demonstrated at the end of the lecture and even more! Matplotlib has tons of uses we didn't even touch in this lecture. All matplotlib functions are extensively documented. You can find them through the [Matplotlib landing site](https://matplotlib.org/index.html), [through Googling help](https://www.google.com/search?ei=K9D8WoyKHOyUjwTNxZqoDQ&q=help+python+matplotlib+how+do+I+change+the+legend+placement%3F&oq=help+python+matplotlib+how+do+I+change+the+legend+placement%3F&gs_l=psy-ab.3...9186.15714.0.15952.39.35.0.0.0.0.316.3420.21j9j1j1.32.0....0...1.1.64.psy-ab..7.22.2269...33i21k1j33i160k1j33i22i29i30k1.0.rAc7r5tK4DI), and through this [extensive how to guide](https://github.com/astro-abby/data_vis_statistics_geosciences) on plotting with Climate and Space data.\n",
    "\n",
    "\n",
    "Have fun exploring!  \n",
    "\n",
    "\n",
    "\n",
    "-\n",
    "\n",
    "\n",
    "-\n",
    "\n",
    "\n",
    "-\n",
    "\n",
    "\n",
    "-"
   ]
  },
  {
   "cell_type": "markdown",
   "metadata": {},
   "source": [
    "### BONUS - Part 8: Making Mulitfigure Plot with Scatter and Datetime Indexing\n",
    "\n",
    "What if not only do we want to know at the same time how many species moved north and how many moved south? Here we are dealing with both continuous (time series of temperatures and bird migration patterns) and categorical data (bird species).\n",
    "\n",
    "Again this is a jump from the last plot - here we use two gridspec commands and a legend, and a scatterplot. We are showing you what is possible with Matplotlib - "
   ]
  },
  {
   "cell_type": "code",
   "execution_count": null,
   "metadata": {},
   "outputs": [],
   "source": [
    "fig = plt.figure(figsize=(10, 11))\n",
    "\n",
    "fig.suptitle('Change in Latitude of Bird Wintering Center In North America \\n with '+ \n",
    "             'Global Temperature Anomalies and Species', fontsize=20)\n",
    "\n",
    "\n",
    "#created two grids - one that divides into quarters and one by halfs\n",
    "#notice the different hspace\n",
    "gs_upper = plt.GridSpec(4, 1, hspace=0.0, wspace=0.0, right = 0.8)\n",
    "gs_lower = plt.GridSpec(2, 1, hspace=0.5, wspace=0.0, right = 0.8)\n",
    "\n",
    "#creating ax1 and ax2 for upper plots\n",
    "ax1 = fig.add_subplot(gs_upper[0,:])\n",
    "ax2 = fig.add_subplot(gs_upper[1,:])\n",
    "\n",
    "#creating ax3 for lower plot\n",
    "ax3 = fig.add_subplot(gs_lower[1,:])\n",
    "\n",
    "#this is all the same as the above plot again\n",
    "ax1.plot(birdRangeAvrg.index.to_pydatetime(), birdRangeAvrg['mean distance (miles)'],    \n",
    "         lw = 3, marker = 'o') # main line\n",
    "ax1.plot(birdRangeAvrg.index.to_pydatetime(), birdRangeAvrg['upper confidence (miles)'], \n",
    "         lw = 3, alpha = 0.6, color = '#39AEC2')\n",
    "ax1.plot(birdRangeAvrg.index.to_pydatetime(), birdRangeAvrg['lower confidence (miles)'], \n",
    "         lw = 3, alpha = 0.6, color = '#39AEC2')\n",
    "\n",
    "\n",
    "#notice how our axis now can each have their own labels and how the command is different?\n",
    "ax1.set_ylabel('Avrg. Dist. Moved \\n North (miles)', fontsize = 18)\n",
    "#ax1.set_xlabel('Year', fontsize = 20) - REMOVED\n",
    "\n",
    "ax1.axhline(y=0.0, color='k', linestyle='--') #add a horizontal line at 0\n",
    "\n",
    "ax1.fill_between(birdRangeAvrg.index.to_pydatetime(), \n",
    "                 birdRangeAvrg['lower confidence (miles)'], \n",
    "                 birdRangeAvrg['upper confidence (miles)'], alpha = 0.2)\n",
    "\n",
    "ax1.grid(color='gray', linestyle='dashed')\n",
    "ax1.tick_params(labelsize=16) #make the tick labels\n",
    "\n",
    "\n",
    "#add plot 2\n",
    "#width in this case appears to be normalized to days\n",
    "ax2.bar(temperVarGlobal.loc[birdRangeAvrg.index, :].index.to_pydatetime(), \n",
    "        temperVarGlobal.loc[birdRangeAvrg.index, 'AnomalyF'], \n",
    "        width = 300, align='edge', \n",
    "        color = temperVarGlobal.loc[birdRangeAvrg.index, 'Colors'])\n",
    "\n",
    "ax2.set_ylabel('Global \\n Anomaly $\\degree$F', fontsize = 20)\n",
    "ax2.set_xlabel('Year', fontsize = 20)\n",
    "\n",
    "\n",
    "ax2.grid(color='gray', linestyle='dashed')\n",
    "\n",
    "ax2.tick_params(labelsize=16)\n",
    "\n",
    "\n",
    "#IMPORTANT!!!!\n",
    "#when doing multiplots with hidden axis MAKE SURE to always set the limits of the axis for\n",
    "#all axis so that the plots don't un-sync - try switching out these \n",
    "#datetime objects for other dates can be misleading\n",
    "ax1.set_xlim([dt.datetime(1964, 1, 1), dt.datetime(2015, 1, 1)])\n",
    "ax2.set_xlim([dt.datetime(1964, 1, 1), dt.datetime(2015, 1, 1)])\n",
    "\n",
    "\n",
    "#note - if the axis on the upper plot starts to poke out - you can turn this off\n",
    "#with the following command\n",
    "ax1.set_xticklabels([])\n",
    "\n",
    "\n",
    "#AND NOW for the third axis\n",
    "\n",
    "#---------------ADDED COLORS AND LEGEND with indexing\n",
    "#the label command syncs to the legend\n",
    "\n",
    "indexN = (birdSpecies['Lat. direction moved'] == 'N')\n",
    "\n",
    "ax3.scatter(birdSpecies.loc[indexN, 'Latitudinal distance moved (miles)'], \n",
    "            birdSpecies.loc[indexN, 'Mean latitude (40-year ave from regression)'], \n",
    "            color = '#B570D4', \n",
    "            label = 'Northward')\n",
    "\n",
    "ax3.scatter(birdSpecies.loc[~indexN, 'Latitudinal distance moved (miles)'], \n",
    "            birdSpecies.loc[~indexN, 'Mean latitude (40-year ave from regression)'], \n",
    "            color = '#12B884',\n",
    "            label = 'Southward')\n",
    "\n",
    "ax3.set_xlabel('Latitudinal Distance Moved \\n (miles)', fontsize = 18)\n",
    "ax3.set_ylabel('Mean Latitude $\\degree$ \\n (40 Year Avrg.)', fontsize = 18)\n",
    "\n",
    "#note how we set the limits\n",
    "ax3.set_xlim([-400, 500])\n",
    "ax3.set_ylim([25, 60])\n",
    "\n",
    "#and setting up legend\n",
    "\n",
    "#command in here is where the legend is placed.\n",
    "#more info here: https://matplotlib.org/api/_as_gen/matplotlib.pyplot.legend.html\n",
    "\n",
    "#bbox sets location\n",
    "#prop sets fontsize\n",
    "\n",
    "#make sure to never overplot legend on data\n",
    "\n",
    "#x and yin inches - requires labels in the plotting\n",
    "#commands to label \n",
    "ax3.legend(bbox_to_anchor=(1, 1.14), prop={'size':14})\n",
    "\n",
    "ax3.grid(color='gray', linestyle='dashed')\n",
    "ax3.tick_params(labelsize=16) "
   ]
  },
  {
   "cell_type": "markdown",
   "metadata": {},
   "source": [
    "### BONUS -  Part 9: Making plots with Seaborn! "
   ]
  },
  {
   "cell_type": "code",
   "execution_count": null,
   "metadata": {},
   "outputs": [],
   "source": [
    "import seaborn as sns\n",
    "import matplotlib.ticker as ticker\n",
    "#seaborn is a stats/graphic package based off of Matplotlib - \n",
    "#more can be found here https://seaborn.pydata.org/examples/index.html"
   ]
  },
  {
   "cell_type": "code",
   "execution_count": null,
   "metadata": {},
   "outputs": [],
   "source": [
    "#Example of similar bar plot - we do not set up any of the xtick axis for example \n",
    "#but you can see quickly how seaborn works like an add on to matplotlib\n",
    "\n",
    "#set up location of axis plotter\n",
    "\n",
    "fig = plt.figure(figsize=(10, 6))\n",
    "\n",
    "fig.suptitle('Temperature Variants From 1800 - 2017 Global Averages', fontsize=20)\n",
    "\n",
    "g = sns.barplot(temperVarGlobal['Year'], temperVarGlobal['AnomalyF'], palette=\"coolwarm\")\n",
    "\n",
    "plt.xticks([0, 20, 40, 60, 80, 100, 120, 140], ['1880', '1900', '1920', '1940', \n",
    "                                           '1960', '1980', '2000', '2020'])\n",
    "\n",
    "g.tick_params(labelsize=16) \n",
    "\n",
    "plt.ylabel('Anomaly $\\degree$F', fontsize = 20)\n",
    "plt.xlabel('Year', fontsize = 20)\n",
    "plt.xticks(rotation=-45) # rotate the x ticks\n",
    "plt.axhline(y=0.0, color='k', linestyle='--') #add a horizontal line at 0\n",
    "plt.grid(color='gray', linestyle='dashed')\n",
    "plt.show()\n",
    "temperVarGlobal.index\n"
   ]
  },
  {
   "cell_type": "code",
   "execution_count": null,
   "metadata": {},
   "outputs": [],
   "source": [
    "# Count Plot\n",
    "sns.countplot(x ='Shifted inland or to coast', data = birdSpecies)"
   ]
  },
  {
   "cell_type": "code",
   "execution_count": null,
   "metadata": {},
   "outputs": [],
   "source": [
    "sns.countplot(x ='Habitat Guild (5 classes)', data = birdSpecies)"
   ]
  },
  {
   "cell_type": "code",
   "execution_count": null,
   "metadata": {},
   "outputs": [],
   "source": [
    "sns.countplot(x ='Habitat Guild (5 classes)', hue = 'Lat. direction moved', \n",
    "              data = birdSpecies, palette = 'BrBG')\n",
    "\n",
    "birdSpecies.columns\n"
   ]
  }
 ],
 "metadata": {
  "kernelspec": {
   "display_name": "Python 3",
   "language": "python",
   "name": "python3"
  },
  "language_info": {
   "codemirror_mode": {
    "name": "ipython",
    "version": 3
   },
   "file_extension": ".py",
   "mimetype": "text/x-python",
   "name": "python",
   "nbconvert_exporter": "python",
   "pygments_lexer": "ipython3",
   "version": "3.5.4"
  }
 },
 "nbformat": 4,
 "nbformat_minor": 2
}
