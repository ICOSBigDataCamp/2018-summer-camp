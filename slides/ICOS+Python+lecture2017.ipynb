{
 "cells": [
  {
   "cell_type": "markdown",
   "metadata": {},
   "source": [
    "#     Intro to Python 3\n",
    "### (Wait!??  What happened to Python2?  Or Python1?  I am a beginner? Shouldn't I start at the beginning?)\n",
    "There are very few things you need to know as languages change from one version to another.  The biggest problem is knowing which language your packages are expecting.  In the past few years more and more applications have moved to Python3 which is why we are switching too.   Unfortunately, even though the changes may not seem very big it is important to run the proper version else your program may crash.  Spectacularly.\n",
    "# Getting Started\n",
    "In almost all cases, programming is about three things:\n",
    "1) Saving data as variables.\n",
    "2) Manipulating and comparing data (usually using fuctions).\n",
    "3) Looping\n",
    "\n"
   ]
  },
  {
   "cell_type": "markdown",
   "metadata": {},
   "source": []
  },
  {
   "cell_type": "code",
   "execution_count": 4,
   "metadata": {},
   "outputs": [
    {
     "name": "stdout",
     "output_type": "stream",
     "text": [
      "Colleen\n",
      "5\n"
     ]
    }
   ],
   "source": [
    "message = \"Colleen\"\n",
    "print (message)\n",
    "age = 5\n",
    "print (age)"
   ]
  },
  {
   "cell_type": "markdown",
   "metadata": {},
   "source": [
    "Just assigning values and then printing them is boring.   Same with big data, sometimes you will want to manipuate your data. You can do simple operations like add, subtract, multipy, divide, and concatenate very easily.  \n",
    "age = 35\n",
    "print (age)\n",
    "print (age + 2)          //**IF** the value stored in the variable \"age\" is a number, print the value + 2 (String would concatenate)\n",
    "print (age / 5)          //**IF** the value stored in age is a number, divide it by 5\n",
    "print (age / 6)          //**IF** the value stored in age is a number, divide it by 6\n",
    "print (age % 6)          //**IF** the value stored in age is a number find the remainder when divided by 6\n",
    "\n",
    "The computer will let you add numbers, but not numbers and strings."
   ]
  },
  {
   "cell_type": "code",
   "execution_count": 3,
   "metadata": {},
   "outputs": [
    {
     "name": "stdout",
     "output_type": "stream",
     "text": [
      "35\n",
      "37\n",
      "35\n",
      "7.0\n",
      "8.75\n",
      "3\n",
      "35\n"
     ]
    },
    {
     "ename": "TypeError",
     "evalue": "must be str, not int",
     "output_type": "error",
     "traceback": [
      "\u001b[0;31m---------------------------------------------------------------------------\u001b[0m",
      "\u001b[0;31mTypeError\u001b[0m                                 Traceback (most recent call last)",
      "\u001b[0;32m<ipython-input-3-19c64392b95e>\u001b[0m in \u001b[0;36m<module>\u001b[0;34m()\u001b[0m\n\u001b[1;32m      9\u001b[0m \u001b[0;34m\u001b[0m\u001b[0m\n\u001b[1;32m     10\u001b[0m \u001b[0mname\u001b[0m \u001b[0;34m=\u001b[0m \u001b[0;34m\"Colleen\"\u001b[0m\u001b[0;34m\u001b[0m\u001b[0m\n\u001b[0;32m---> 11\u001b[0;31m \u001b[0mprint\u001b[0m \u001b[0;34m(\u001b[0m\u001b[0mname\u001b[0m\u001b[0;34m+\u001b[0m\u001b[0;36m2\u001b[0m\u001b[0;34m)\u001b[0m\u001b[0;34m\u001b[0m\u001b[0m\n\u001b[0m",
      "\u001b[0;31mTypeError\u001b[0m: must be str, not int"
     ]
    }
   ],
   "source": [
    "age = int(\"35\")\n",
    "print (age)\n",
    "print (age + 2) \n",
    "print (age)\n",
    "print (age / 5)\n",
    "print (age / 4)\n",
    "print (age % 4)\n",
    "print (age)\n",
    "\n",
    "#name = \"Colleen\"\n",
    "#print (name+2)"
   ]
  },
  {
   "cell_type": "markdown",
   "metadata": {},
   "source": [
    "## Strings"
   ]
  },
  {
   "cell_type": "markdown",
   "metadata": {},
   "source": [
    "Strings are an extremely popular data type in Python.   This may be because computers often \"read\" numbers as strings. Python treats single quotes the same as double quotes, the main difference is that double quotes do allow you to enclose single quotes. You can use either convention, but the key is CONSISTENCY.\n",
    "\n",
    "There are also triple double quotes \"\"\"...\"\"\" They allow you to write strings that span multiple lines.\n",
    "\n",
    "There are many, many built-in functionalities that you will eventually learn.  It is impossible to cover (and remember) them all in one sitting.\n",
    "\n",
    "#### Accessing parts of String\n",
    "You can access an antire string variable, or just parts.  To access just parts you use square brackets to specify the index of the data you want."
   ]
  },
  {
   "cell_type": "code",
   "execution_count": 6,
   "metadata": {},
   "outputs": [
    {
     "name": "stdout",
     "output_type": "stream",
     "text": [
      "Hello Everyone\n",
      "The first letter in message is:  H\n",
      "The 2nd through 9th letters are:  ello Everyone\n"
     ]
    }
   ],
   "source": [
    "  message = \"Hello Everyone\"\n",
    "  print (message);\n",
    "  print (\"The first letter in message is: \" , message[0])\n",
    "  print (\"The 2nd through 9th letters are: \", message[1:35])"
   ]
  },
  {
   "cell_type": "markdown",
   "metadata": {},
   "source": [
    "#### String operators"
   ]
  },
  {
   "cell_type": "markdown",
   "metadata": {},
   "source": [
    "String operators are special bits of code that ONLY WORK ON STRINGS.  For instance, we have already seen that \"+\" does addition on numbers, but will perform concatenation on Strings.\n",
    "    +\t     Concatenation - Adds values on either side of the operator\t \n",
    "    *\t     Repetition - Creates new strings, concatenating multiple copies of the same string\t a\n",
    "    []\t     Slice - Gives the character from the given index\t(A negative number starts from the end)\n",
    "    [ : ]\t Range Slice - Gives the characters from the given range\t \n",
    "    in\t     Membership - Returns true if a character exists in the given string\t\n",
    "    not in\t Membership - Returns true if a character does not exist in the given string\t"
   ]
  },
  {
   "cell_type": "code",
   "execution_count": 7,
   "metadata": {},
   "outputs": [
    {
     "name": "stdout",
     "output_type": "stream",
     "text": [
      "HelloPython\n",
      "HelloHelloHelloHelloHello\n",
      "False\n",
      "True\n",
      "False\n",
      "False\n",
      "True\n",
      "n\n",
      "o\n",
      "h\n"
     ]
    }
   ],
   "source": [
    "a = \"Hello\"\n",
    "b = \"Python\"\n",
    "print (a + b)\n",
    "print (a * 5)\n",
    "print (\"h\" in a)\n",
    "print (\"H\" in a)\n",
    "print (\"z\" in a)\n",
    "print (\"H\" not in a)\n",
    "print (\"z\" not in a)\n",
    "\n",
    "print (b [-1])\n",
    "print (b [-2])\n",
    "print (b [-3])\n"
   ]
  },
  {
   "cell_type": "markdown",
   "metadata": {},
   "source": [
    "#### String methods"
   ]
  },
  {
   "cell_type": "markdown",
   "metadata": {},
   "source": [
    "The string operators return information about a string and they are a part of the Python language.  There is another set of tools called methods.  Methods are similar to operators in that they manipulate data, but they are used very differently.  \n",
    "\n",
    "Methods use the **DOT NOTATION**.  This means that you put the *name of the variable*, a dot (\"*.*\"), the *name of the method*, and then *parantheses*.  For instance, since you don't always know if the person typed in a number or not, you can use the method isdigit() to find out.\n",
    "\n",
    "variable.isdigit()\n",
    "\n",
    "Sometimes you need to put parameters in the parantheses.  Parameters are extra pieces of information that are needed to figure out the desired answer.  For instance, one useful method is count, it returns the number of times a substring shows up in a variable.  If you want the count method to return something, you better tell it what you are looking for.\n",
    "a = \"Hello gorgeous\"\n",
    "print (a.count('l'))   \n",
    "print (a.count('o'))\n",
    "print (a.count('O'))\n",
    "\n"
   ]
  },
  {
   "cell_type": "code",
   "execution_count": 8,
   "metadata": {},
   "outputs": [
    {
     "name": "stdout",
     "output_type": "stream",
     "text": [
      "2\n",
      "4\n",
      "0\n",
      "2\n"
     ]
    }
   ],
   "source": [
    "a = \"Hello there awesome super super awesome programmers\"\n",
    "print (a.count('l'))           #This is a lowercase letter l, not the number 1.\n",
    "print (a.count('o'))\n",
    "print (a.count('O'))           #This is an uppercase O, not the number 0\n",
    "print (a.count('super'))\n"
   ]
  },
  {
   "cell_type": "markdown",
   "metadata": {},
   "source": [
    "Some methods have optional parameters.  These are pieces of information you can give, but aren't necessary.  For instance, the count method can also take a start and end index."
   ]
  },
  {
   "cell_type": "code",
   "execution_count": 11,
   "metadata": {},
   "outputs": [
    {
     "name": "stdout",
     "output_type": "stream",
     "text": [
      "1\n",
      "0\n"
     ]
    }
   ],
   "source": [
    "a = \"Hello there Sheila\"\n",
    "print (a.count('l', 5))\n",
    "print (a.count('l', 5, 10))"
   ]
  },
  {
   "cell_type": "markdown",
   "metadata": {},
   "source": [
    "Here are some additional String methods:\n",
    "find(),  rfind(), index(), isalnum(), isalpha(), isdigit(), len(), strip, lstrip(), rstrip(), split()"
   ]
  },
  {
   "cell_type": "code",
   "execution_count": 14,
   "metadata": {},
   "outputs": [
    {
     "name": "stdout",
     "output_type": "stream",
     "text": [
      "6\n",
      "-1\n",
      "6\n"
     ]
    }
   ],
   "source": [
    "print (a.find('t'))\n",
    "print (a.find('z'))\n",
    "print (a.index('t'))\n",
    "#print (a.index('z'))   #What happens if I run this command?\n"
   ]
  },
  {
   "cell_type": "markdown",
   "metadata": {},
   "source": [
    "Just because a method exists doesn't mean you can always use it.  In the example above we are asking Python to do find the index of a character that doesn't exist.  Sometimes you need to combine commands, e.g. first make sure it exists, and then find it.    This idea of \"If/then\" is something we will get to a little later.\n",
    "\n",
    "## Split and Lists"
   ]
  },
  {
   "cell_type": "code",
   "execution_count": null,
   "metadata": {
    "collapsed": true
   },
   "outputs": [],
   "source": [
    "str1 = \"Value 1, Value 2, Value 3, Value 4\";\n",
    "print (str1.split( ));\n",
    "print (str1.split(','));            #I picked the comma for a reason, can anyone guess why?"
   ]
  },
  {
   "cell_type": "markdown",
   "metadata": {},
   "source": [
    "The value returned by split is a LIST.  The list is THE most versatile datatype available in Python.  It is a sequence of comma-separated values encased by square brackets. Items in a list do not have to be of the same type.\n"
   ]
  },
  {
   "cell_type": "code",
   "execution_count": 15,
   "metadata": {},
   "outputs": [
    {
     "name": "stdout",
     "output_type": "stream",
     "text": [
      "Colleen\n",
      "van Lent\n",
      "40\n",
      "F\n",
      "['Bob', 'McCarthy', 50, 'M']\n",
      "['Colleen', 'van Lent', 40, 'F', 'Bob', 'McCarthy', 50, 'M']\n"
     ]
    }
   ],
   "source": [
    "me = [\"Colleen\", \"van Lent\", 40, 'F']\n",
    "you = [\"Bob\", \"McCarthy\", 50, 'M']\n",
    "print (me[0])\n",
    "print (me[1])\n",
    "print (me[2])\n",
    "print (me[3])\n",
    "\n",
    "#print (you)\n",
    "#print (me + you)\n"
   ]
  },
  {
   "cell_type": "markdown",
   "metadata": {},
   "source": [
    "### First taste of iternation (looping)"
   ]
  },
  {
   "cell_type": "code",
   "execution_count": 21,
   "metadata": {},
   "outputs": [
    {
     "name": "stdout",
     "output_type": "stream",
     "text": [
      "Colleen\n",
      "van Lent\n",
      "40\n",
      "F\n"
     ]
    }
   ],
   "source": [
    "for info in me:\n",
    "    print (info)\n",
    "    \n",
    "#for info in me:\n",
    "#    print(info,\"\\t\", end=\"\")      #You can replace that \\t with an empty space\n",
    "    "
   ]
  },
  {
   "cell_type": "markdown",
   "metadata": {},
   "source": [
    "Lists of lists"
   ]
  },
  {
   "cell_type": "code",
   "execution_count": 22,
   "metadata": {},
   "outputs": [
    {
     "name": "stdout",
     "output_type": "stream",
     "text": [
      "[['Bob', 'McCarthy', 50, 'M'], ['Colleen', 'van Lent', 40, 'F']]\n"
     ]
    }
   ],
   "source": [
    "me = [\"Colleen\", \"van Lent\", 40, 'F']\n",
    "you = [\"Bob\", \"McCarthy\", 50, 'M']\n",
    "people = [you, me]\n",
    "print (people)\n"
   ]
  },
  {
   "cell_type": "markdown",
   "metadata": {},
   "source": [
    "#### Built-in List Functions and Methods"
   ]
  },
  {
   "cell_type": "markdown",
   "metadata": {},
   "source": [
    "Lists have a number of functions and methods associated with them\n",
    "Some of the functions are:\n",
    "* len(list)                 #Return the length of a list\n",
    "* max(list)                 #Return the \"largest\" element\n",
    "* min(list)                 #Return the \"smallest\" element\n",
    "* list(seq)                 #Take the seq, and turn it into a list\n",
    "\n",
    "Some of the list methods are: \n",
    "* count() \n",
    "* index(obj)                #Reminder -- some methods and functions have parameters - they are in the parantheses.\n",
    "\n",
    "Some list methods are in-place.  This  means that the lists are changed, but the methods don't \"return\" anything.  These include sort(), reverse(), insert(), append(), and remove.\n"
   ]
  },
  {
   "cell_type": "code",
   "execution_count": 24,
   "metadata": {},
   "outputs": [
    {
     "name": "stdout",
     "output_type": "stream",
     "text": [
      "[['Colleen', 'van Lent', 40, 'F'], ['Bob', 'McCarthy', 50, 'M'], ['Sally', 'James', 25, 'Unknown'], ['John', 'Doe', 18, 'M']]\n",
      "\n",
      "List Functions \n",
      "\n",
      "4\n",
      "['Sally', 'James', 25, 'Unknown']\n",
      "['Bob', 'McCarthy', 50, 'M']\n",
      "\n",
      "List Methods\n",
      "\n",
      "0\n",
      "1\n",
      "[['Bob', 'McCarthy', 50, 'M'], ['Colleen', 'van Lent', 40, 'F'], ['John', 'Doe', 18, 'M'], ['Sally', 'James', 25, 'Unknown']]\n",
      "[['Sally', 'James', 25, 'Unknown'], ['John', 'Doe', 18, 'M'], ['Colleen', 'van Lent', 40, 'F'], ['Bob', 'McCarthy', 50, 'M']]\n",
      "[['Sally', 'James', 25, 'Unknown'], ['John', 'Doe', 18, 'M'], ['Colleen', 'van Lent', 40, 'F'], ['Bob', 'McCarthy', 50, 'M'], ['Becca', 'van Lent', 5, 'F']]\n",
      "[['Sally', 'James', 25, 'Unknown'], ['John', 'Doe', 18, 'M'], ['Chris', 'van Lent', 7, 'M'], ['Colleen', 'van Lent', 40, 'F'], ['Bob', 'McCarthy', 50, 'M'], ['Becca', 'van Lent', 5, 'F']]\n"
     ]
    }
   ],
   "source": [
    "me = [\"Colleen\", \"van Lent\", 40, 'F']\n",
    "you = [\"Bob\", \"McCarthy\", 50, 'M']\n",
    "her = [\"Sally\", \"James\", 25, 'Unknown']\n",
    "him = [\"John\", \"Doe\", 18, 'M']\n",
    "people = [me, you, her, him]\n",
    "print (people)\n",
    "\n",
    "print (\"\\nList Functions \\n\")\n",
    "print (len(people))\n",
    "print (max(people))\n",
    "print (min(people))\n",
    "\n",
    "\n",
    "\n",
    "print (\"\\nList Methods\\n\")\n",
    "print (people.count('Colleen'))\n",
    "print (people.count(me))\n",
    "\n",
    "people.sort() \n",
    "print (people)\n",
    "\n",
    "people.reverse()\n",
    "print (people)\n",
    "\n",
    "people.append(['Becca', 'van Lent', 5, 'F'])\n",
    "print (people)\n",
    "\n",
    "people.insert(2, ['Chris', 'van Lent', 7, 'M'])\n",
    "print (people)"
   ]
  },
  {
   "cell_type": "markdown",
   "metadata": {},
   "source": [
    "## Now what?"
   ]
  },
  {
   "cell_type": "markdown",
   "metadata": {},
   "source": [
    "Lets do a little input using the input() function."
   ]
  },
  {
   "cell_type": "code",
   "execution_count": 27,
   "metadata": {},
   "outputs": [
    {
     "name": "stdout",
     "output_type": "stream",
     "text": [
      "Enter your input: My name is Colleen.\n",
      "My name is Colleen.\n",
      "11\n",
      "3\n",
      "2\n",
      "10\n"
     ]
    }
   ],
   "source": [
    "message = input(\"Enter your input: \")\n",
    "\n",
    "print (message)\n",
    "print (message.find(\"Colleen\"))\n",
    "print (message.count(\"e\"))\n",
    "print (message.index(\" \"))\n",
    "print (message.rfind(\" \"))"
   ]
  },
  {
   "cell_type": "markdown",
   "metadata": {},
   "source": [
    "## Flow of Control"
   ]
  },
  {
   "cell_type": "markdown",
   "metadata": {},
   "source": [
    "The real power of computing is selection and repetition.  Selection is when you use comparison operators to direct which path the program should take.  \n",
    "## Iteration\n",
    "Iteration (also called repetition by some) is when code is executed multiple times even though you only wrote it down once.  You signal to the computer that you may want to loop with a keyword such as **for** or **while**.  You must include a test case with this word so the computer can figure out when to execute the code.  The code you want to repeat must be indented.\n"
   ]
  },
  {
   "cell_type": "code",
   "execution_count": 34,
   "metadata": {},
   "outputs": [
    {
     "name": "stdout",
     "output_type": "stream",
     "text": [
      "Yum!  I love eating cookies!\n",
      "Only 4 left..\n",
      "Yum!  I love eating cookies!\n",
      "Only 3 left..\n",
      "Yum!  I love eating cookies!\n",
      "Only 2 left..\n",
      "Yum!  I love eating cookies!\n",
      "Only 1 left..\n",
      "Yum!  I love eating cookies!\n",
      "Only 0 left..\n",
      "I feel a little full now.\n"
     ]
    }
   ],
   "source": [
    "num_cookies = 5\n",
    "while num_cookies > 0:                               ## Very important colon at the end of this line.\n",
    "  print (\"Yum!  I love eating cookies!\")             ## Notice that this line is indented\n",
    "  num_cookies -=1                                    ## Notice that this line is indented\n",
    "  print (\"Only \" + str(num_cookies) + \" left..\")     ## Notice that this line is indented \n",
    "print (\"I feel a little full now.\")                   ## Not indented here...\n"
   ]
  },
  {
   "cell_type": "markdown",
   "metadata": {},
   "source": [
    "The indentation is VERY, VERY important.  You must be consistent, I recommend that you **don't use tabs, use spaces**!!.  The other thing you need to be VERY worried about is the possibility of ***infinite loops***.  Go back up and change the code to num_cookies = 0 or add one instead of subtracting one.\n",
    "\n"
   ]
  },
  {
   "cell_type": "code",
   "execution_count": 35,
   "metadata": {},
   "outputs": [
    {
     "name": "stdout",
     "output_type": "stream",
     "text": [
      "0\n",
      "2\n",
      "4\n",
      "6\n",
      "8\n",
      "10\n"
     ]
    }
   ],
   "source": [
    "##Can you write a program that prints the numbers from 0 to 10 by 2?\n",
    "print(0)\n",
    "print(2)\n",
    "print(4)\n",
    "print(6)\n",
    "print(8)\n",
    "print(10)"
   ]
  },
  {
   "cell_type": "markdown",
   "metadata": {},
   "source": [
    "Can you fix the code below to get the correct output?"
   ]
  },
  {
   "cell_type": "code",
   "execution_count": 38,
   "metadata": {},
   "outputs": [
    {
     "name": "stdout",
     "output_type": "stream",
     "text": [
      "0\n",
      "2\n",
      "4\n",
      "6\n",
      "8\n"
     ]
    }
   ],
   "source": [
    "num = 0\n",
    "while num < 10:\n",
    "    print(num)\n",
    "    num+=2\n",
    "    "
   ]
  },
  {
   "cell_type": "markdown",
   "metadata": {},
   "source": [
    "If were to combine the looping construct **for** with the **range** function we get close, but not quite..."
   ]
  },
  {
   "cell_type": "code",
   "execution_count": 39,
   "metadata": {},
   "outputs": [
    {
     "name": "stdout",
     "output_type": "stream",
     "text": [
      "0\n",
      "1\n",
      "2\n",
      "3\n",
      "4\n",
      "5\n",
      "6\n",
      "7\n",
      "8\n",
      "9\n"
     ]
    }
   ],
   "source": [
    "for num in range(10):\n",
    "    print(num)"
   ]
  },
  {
   "cell_type": "markdown",
   "metadata": {},
   "source": [
    "## Selection\n",
    "One problem with the example below is that we are executing all of the statements, even if we sometimes would rather skip them.  What we want to do is use an if statement to only execute some students under certain situations.  Here is a simple example.  "
   ]
  },
  {
   "cell_type": "code",
   "execution_count": 33,
   "metadata": {},
   "outputs": [
    {
     "name": "stdout",
     "output_type": "stream",
     "text": [
      "Adult\n"
     ]
    }
   ],
   "source": [
    "\n",
    "age = 25\n",
    "if age < 18:\n",
    "  print (\"Minor\")\n",
    "elif age > 100:\n",
    "  print (\"Centenarian\")\n",
    "elif age > 65:\n",
    "  print (\"Senior\")\n",
    "else:\n",
    "  print (\"Adult\")\n",
    "  \n",
    "\n",
    "\n"
   ]
  },
  {
   "cell_type": "markdown",
   "metadata": {},
   "source": [
    "### Fixit Time\n",
    "Can you use selection to fix our earlier code?  Here is a tip, don't forget about the modulus operator **%**.  It will find the reminder."
   ]
  },
  {
   "cell_type": "code",
   "execution_count": 42,
   "metadata": {},
   "outputs": [
    {
     "name": "stdout",
     "output_type": "stream",
     "text": [
      "0\n",
      "1\n",
      "2\n",
      "3\n",
      "4\n",
      "5\n",
      "6\n",
      "7\n",
      "8\n",
      "9\n"
     ]
    }
   ],
   "source": [
    "for num in range(10):\n",
    "    print(num)"
   ]
  },
  {
   "cell_type": "markdown",
   "metadata": {},
   "source": [
    "## Loops and list\n",
    "Because lists can contain a lot of data, it makes sense that we may want to use selection and iteration when using them."
   ]
  },
  {
   "cell_type": "code",
   "execution_count": 43,
   "metadata": {},
   "outputs": [
    {
     "name": "stdout",
     "output_type": "stream",
     "text": [
      "0 ['Colleen', 'van Lent', 40, 'F']\n",
      "1 ['Bob', 'McCarthy', 50, 'M']\n",
      "2 ['Sally', 'James', 25, 'Unknown']\n",
      "3 ['John', 'Doe', 18, 'M']\n"
     ]
    }
   ],
   "source": [
    "me = [\"Colleen\", \"van Lent\", 40, 'F']\n",
    "you = [\"Bob\", \"McCarthy\", 50, 'M']\n",
    "her = [\"Sally\", \"James\", 25, 'Unknown']\n",
    "him = [\"John\", \"Doe\", 18, 'M']\n",
    "people = [me, you, her, him]\n",
    "for  i in range(len(people)):\n",
    "  print (i, people[i])\n"
   ]
  },
  {
   "cell_type": "markdown",
   "metadata": {},
   "source": [
    "There is a shortcut you can use when you wan to loop through lists.."
   ]
  },
  {
   "cell_type": "code",
   "execution_count": 44,
   "metadata": {},
   "outputs": [
    {
     "name": "stdout",
     "output_type": "stream",
     "text": [
      "['Colleen', 'van Lent', 40, 'F']\n",
      "['Bob', 'McCarthy', 50, 'M']\n",
      "['Sally', 'James', 25, 'Unknown']\n",
      "['John', 'Doe', 18, 'M']\n"
     ]
    }
   ],
   "source": [
    "me = [\"Colleen\", \"van Lent\", 40, 'F']\n",
    "you = [\"Bob\", \"McCarthy\", 50, 'M']\n",
    "her = [\"Sally\", \"James\", 25, 'Unknown']\n",
    "him = [\"John\", \"Doe\", 18, 'M']\n",
    "people = [me, you, her, him]\n",
    "\n",
    "for person in people:\n",
    "   print (person)"
   ]
  },
  {
   "cell_type": "markdown",
   "metadata": {},
   "source": [
    "## Functions"
   ]
  },
  {
   "cell_type": "markdown",
   "metadata": {},
   "source": [
    "We have already used functions in this tutorial.  A function is a block of reusable code that is used to perform a single (albeit possibly complex). Functions allow for code reuse and also allow you to work better as a team.  The process of defining a function is as follows:\n",
    "\n",
    "\n",
    "1) Function blocks begin with the keyword def followed by the function name, parentheses ( ), and colon\n",
    "  \n",
    "  def myFunction():\n",
    "  \n",
    "  \n",
    "2) Any input parameters or arguments should be placed within these parentheses. \n",
    "  \n",
    "   def printMeALot(msg, times):\n",
    "  \n",
    "3) The code block within every function is indented.\n",
    "  \n",
    "  def printMeALot(msg, times):\n",
    "      for i in range(times):\n",
    "           print msg\n",
    "       \n",
    "\n",
    "4) Any return statements will cause an exit from the a function\n",
    "\n",
    "5) A return statement can pass an expression back to the caller. A return statement with no arguments is the same as return None."
   ]
  },
  {
   "cell_type": "code",
   "execution_count": 46,
   "metadata": {},
   "outputs": [
    {
     "name": "stdout",
     "output_type": "stream",
     "text": [
      "I am the greatest\n",
      "I am the greatest\n",
      "I am the greatest\n",
      "I am the greatest\n",
      "I am the greatest\n",
      "I am the greatest\n",
      "I am the greatest\n",
      "I am the greatest\n",
      "I am the greatest\n",
      "I am the greatest\n"
     ]
    }
   ],
   "source": [
    "def printMeALot(msg, times):\n",
    "       for i in range(times):\n",
    "          print (msg)\n",
    "            \n",
    "printMeALot(\"I am the greatest\", 10)\n"
   ]
  },
  {
   "cell_type": "markdown",
   "metadata": {},
   "source": [
    "In the example above we wrote a function, called a built-in function (range), and called our own function.  We also called the print function.  In the latest versions of Python, print has been changed to a function again."
   ]
  },
  {
   "cell_type": "markdown",
   "metadata": {},
   "source": [
    "# Turtle Programming"
   ]
  },
  {
   "cell_type": "markdown",
   "metadata": {},
   "source": [
    "#### If you haven't already, it is time to crash your code.  \n",
    "I am going to introduce something new that doesn't work particularly well in iPython Notebook.  The key to know is that the square icon above will stop the program from running.  (Also useful to know in the case of infinite loops.)   The Turtle program is simple to use and is meant to help beginner programs with a visual representation of a \"turtle\" moving around the screen.   To use the Turtle program you will need to import it from the libraries.    The first program is a sample from python.org.  The second program is a simple block.  The third adds some random functions and colors.  \n",
    "\n",
    "When this eventually crashes your machine, use the restart icon above.  It is the \"refresh\" arrow.\n",
    "\n",
    "Can you make a block M?"
   ]
  },
  {
   "cell_type": "code",
   "execution_count": null,
   "metadata": {},
   "outputs": [],
   "source": [
    "##FROM https://docs.python.org/3.2/library/turtle.html\n",
    "from turtle import *\n",
    "color('red', 'yellow')\n",
    "begin_fill()\n",
    "while True:\n",
    "    forward(200)\n",
    "    left(170)\n",
    "    if abs(pos()) < 1:\n",
    "        break\n",
    "end_fill()\n",
    "done()"
   ]
  },
  {
   "cell_type": "code",
   "execution_count": null,
   "metadata": {},
   "outputs": [],
   "source": [
    "from turtle import *\n",
    "\n",
    "color('blue')\n",
    "pencolor('yellow')\n",
    "pensize(20)\n",
    "pendown()\n",
    "begin_fill()\n",
    "forward(250)\n",
    "right(90)\n",
    "forward(250)\n",
    "right(90)\n",
    "forward(250)\n",
    "right(90)\n",
    "forward(250)\n",
    "end_fill()\n",
    "done()"
   ]
  },
  {
   "cell_type": "code",
   "execution_count": 3,
   "metadata": {},
   "outputs": [],
   "source": [
    "from turtle import *\n",
    "import random\n",
    "\n",
    "pencolor(.5, 0, .2)  #RGB\n",
    "goto(-300, 300)\n",
    "pendown()\n",
    "begin_fill()\n",
    "for x in range(10):\n",
    "    # choose a random spot\n",
    "    xpos = random.randint(-500,500)\n",
    "    ypos = random.randint(-500,500)\n",
    "    goto(xpos, ypos)\n",
    "\n",
    "    \n",
    "#     generate a random color\n",
    "    r = random.random() # returns a number between 0 and 1\n",
    "    g = random.random()\n",
    "    b = random.random()\n",
    "    pencolor(r, g, b)\n",
    "    \n",
    "color(r,g, b)   \n",
    "end_fill()\n",
    "done()"
   ]
  },
  {
   "cell_type": "code",
   "execution_count": null,
   "metadata": {
    "collapsed": true
   },
   "outputs": [],
   "source": []
  },
  {
   "cell_type": "code",
   "execution_count": null,
   "metadata": {
    "collapsed": true
   },
   "outputs": [],
   "source": []
  }
 ],
 "metadata": {
  "kernelspec": {
   "display_name": "Python 3",
   "language": "python",
   "name": "python3"
  },
  "language_info": {
   "codemirror_mode": {
    "name": "ipython",
    "version": 3
   },
   "file_extension": ".py",
   "mimetype": "text/x-python",
   "name": "python",
   "nbconvert_exporter": "python",
   "pygments_lexer": "ipython3",
   "version": "3.6.1"
  }
 },
 "nbformat": 4,
 "nbformat_minor": 1
}
