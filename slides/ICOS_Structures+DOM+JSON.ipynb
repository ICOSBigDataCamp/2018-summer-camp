{
 "cells": [
  {
   "cell_type": "markdown",
   "metadata": {},
   "source": [
    "# Python Data Structures"
   ]
  },
  {
   "cell_type": "markdown",
   "metadata": {},
   "source": [
    "## Lists"
   ]
  },
  {
   "cell_type": "markdown",
   "metadata": {},
   "source": [
    "Refresher:\n",
    "- Group of comma-separated values between square brackets\n",
    "- Elements in the list need not be of the same type"
   ]
  },
  {
   "cell_type": "code",
   "execution_count": null,
   "metadata": {},
   "outputs": [],
   "source": [
    "l1 = ['Cersei', 32, 'Alive'] #1-D list\n",
    "l2 = ['Jamie', 32, 'Alive']\n",
    "l3 = ['Tyrion', 28 , 'Alive']\n",
    "lannisters = [l1, l2, l3] #2-D List\n",
    "              \n",
    "print(lannisters, \"\\n\\n\") #Remember: braces for Python3. Also, ages are at beginning of season 1."
   ]
  },
  {
   "cell_type": "markdown",
   "metadata": {
    "collapsed": true
   },
   "source": [
    "### Some simple operations we can apply to lists:"
   ]
  },
  {
   "cell_type": "code",
   "execution_count": null,
   "metadata": {},
   "outputs": [],
   "source": [
    "l1 = ['Cersei', 32, 'Alive'] #1-D list\n",
    "l2 = ['Jamie', 32, 'Alive']\n",
    "l3 = ['Tyrion', 28 , 'Alive']\n",
    "lannisters = [l1, l2, l3] #2-D List\n",
    "\n",
    "#1. Iteration\n",
    "for info in lannisters: \n",
    "    print (info)\n",
    "\n",
    "#2. Length\n",
    "#print(len(lannisters))\n",
    "\n",
    "#3. Concatenation\n",
    "ll = lannisters + l3\n",
    "#print(ll)\n",
    "\n",
    "#4. Repetition\n",
    "l4 = lannisters * 4\n",
    "print(l4)\n",
    "\n",
    "#5. Membership\n",
    "print('Cersei' in l1)\n",
    "print(['Cersei', 32, 'Alive'] in lannisters)"
   ]
  },
  {
   "cell_type": "markdown",
   "metadata": {},
   "source": [
    "### Built in List Methods"
   ]
  },
  {
   "cell_type": "code",
   "execution_count": null,
   "metadata": {
    "scrolled": true
   },
   "outputs": [],
   "source": [
    "li = ['Daenerys Targaryen', 'Arya Stark', 'Cersei Lannister', 'Jon Snow', 'Petyr Baelish', 'No one']\n",
    "\n",
    "#1. append()\n",
    "contender1 = 'Dorne' #Any favorites?\n",
    "li.append(contender1)\n",
    "#print(li)\n",
    "\n",
    "\n",
    "#2. extend()\n",
    "contenders = ['Teddy', 'Oskar', 'Ronnie']\n",
    "li.extend(contenders)\n",
    "#print(li)\n",
    "\n",
    "\n",
    "#3. insert()\n",
    "number1 = \"Brianne of Tarth\"\n",
    "li.insert(0, number1)\n",
    "print(li)\n",
    "\n",
    "#4. remove()\n",
    "li.remove('Cersei Lannister')\n",
    "print(li)\n",
    "\n",
    "\n",
    "#5. pop()\n",
    "contender = li.pop(4)\n",
    "print(li)\n",
    "print(contender)\n",
    "\n",
    "#6. reverse()\n",
    "li.reverse()\n",
    "print(li)\n",
    "\n",
    "\n",
    "#7. clear()\n",
    "li.clear()\n",
    "print(li)"
   ]
  },
  {
   "cell_type": "markdown",
   "metadata": {},
   "source": [
    "Lists are useful in reading and storing tables!"
   ]
  },
  {
   "cell_type": "markdown",
   "metadata": {},
   "source": [
    "## .csv Files\n",
    "These are basically tables stored as plain text\n",
    "- What does CSV stand for?\n",
    "\n",
    "Lots of .csv Data sources on main ICOS site. Some more:\n",
    "- data.gov: https://catalog.data.gov/dataset\n",
    "- fivethirtyeight: https://github.com/fivethirtyeight/data\n",
    "\n",
    "We can do really cool things by reading csv files. Make data easier to read through vizualizations (like Google trends), interactive, more informative.\n",
    "Once you learn how to scrape, for example a twitter feed, could perform sentiment analysis to see which emotions are prevalent in a certain feed.\n",
    "- IBM Watson's Natural Language Understanding can help! (previously Alchemy API)"
   ]
  },
  {
   "cell_type": "markdown",
   "metadata": {},
   "source": [
    "### Reading and writing .csv files\n",
    "\n",
    "Multiple ways to do it. Using the CSV module from stdlib, NumPy, or Pandas.\n",
    "Today we'll start with the basic File I/O method.\n",
    "- Make sure you've downloaded \"character-deaths.csv\"\n",
    "\n",
    "- Rest in command line -"
   ]
  },
  {
   "cell_type": "code",
   "execution_count": null,
   "metadata": {},
   "outputs": [],
   "source": [
    "#using File I/O\n",
    "with open(\"character-deaths.csv\", \"r\") as fa:  #opens file as read-only\n",
    "    rows = []\n",
    "    for line in fa:\n",
    "        values = line.split(',')\n",
    "        rows.append(values[0:])\n",
    "    for row in rows:\n",
    "        print (row)\n",
    "\n",
    "\n",
    "#using csv module\n",
    "import csv\n",
    "with open(\"character-deaths.csv\", \"r\") as fb:\n",
    "    reader = csv.reader(fb)\n",
    "    #for line in reader:\n",
    "        #print (line)"
   ]
  },
  {
   "cell_type": "code",
   "execution_count": null,
   "metadata": {},
   "outputs": [],
   "source": [
    "#writing .csv\n",
    "lists = [['one','1'],['two','2'],['three','3']]\n",
    "\n",
    "\n",
    "#using File I/O\n",
    "fa = open(\"mydataset_a.csv\", 'w')\n",
    "for l in lists:\n",
    "    l_ = ','.join(l)\n",
    "    fa.write(l_)\n",
    "\n",
    "#p = fa.readlines()\n",
    "#print(p)\n",
    "fa.close()\n",
    "\n",
    "\n",
    "\n",
    "#using csv module\n",
    "import csv\n",
    "with open(\"mydataset_b.csv\", 'w') as fb:\n",
    "    writer = csv.writer(fb, delimiter=',')\n",
    "    for l in lists:\n",
    "        writer.writerow(l)\n",
    "fb.close()\n",
    "\n",
    "fb = open(\"mydataset_b.csv\", 'r')\n",
    "p = fb.readlines()\n",
    "#print(p)  \n",
    "fb.close()\n"
   ]
  },
  {
   "cell_type": "markdown",
   "metadata": {},
   "source": [
    "## Dictionaries\n",
    "- Unordered group of key-value pairs aka “mappings”\n",
    "i.e. instead of being indexed by numbers, values are indexed by a finite data-type \"key\" (e.g. string, number)\n",
    "- Keys are unique within one Dictionary\n",
    "- Can a list be a key?"
   ]
  },
  {
   "cell_type": "code",
   "execution_count": null,
   "metadata": {
    "collapsed": true
   },
   "outputs": [],
   "source": [
    "empty_dictionary = {}\n",
    "\n",
    "cl = {'Name': 'Cersei', 'Age': 7, 'House': 'Lannister'} \n",
    "print(cl['Name'], cl['Age'])\n",
    "\n",
    "#1. Iteration\n",
    "for k,v in cl.items(): \n",
    "    print(k,v)\n",
    "\n",
    "#2. Length\n",
    "print(len(cl))"
   ]
  },
  {
   "cell_type": "markdown",
   "metadata": {},
   "source": [
    "### Built in Dictionary methods"
   ]
  },
  {
   "cell_type": "code",
   "execution_count": null,
   "metadata": {},
   "outputs": [],
   "source": [
    "cl = {'Name': 'Cersei', 'Age': 7, 'House': 'Lannister'} \n",
    "\n",
    "#1. keys()\n",
    "#returns list of dictionary keys \n",
    "print(cl.keys())\n",
    "\n",
    "\n",
    "#2. values()\n",
    "#returns list of dictionary dict's values \n",
    "print(cl.values())\n",
    "\n",
    "\n",
    "#3. items()\n",
    "#returns a list of dict's (key, value) pairs \n",
    "print(cl.items())\n",
    "\n",
    "\n",
    "#4. update()\n",
    "#adds dictionary dict2's key-values pairs to dict \n",
    "status = {'Status': 'Alive'}\n",
    "cl.update(status)\n",
    "print(cl)\n",
    "\n",
    "\n",
    "#5. in\n",
    "#returns true if key in dictionary dict, false otherwise\n",
    "print('Alive' in cl)\n",
    "\n",
    "\n",
    "#6. clear()\n",
    "#removes all elements of dictionary dict\n",
    "cl.clear()\n",
    "print(cl)"
   ]
  },
  {
   "cell_type": "markdown",
   "metadata": {},
   "source": [
    "### What will be using dictionaries for? Reading JSON Files!\n",
    "- JSON = Javascript Object Notation\n",
    "- Lightweight way to exchage data on the web\n",
    "- Easy to read, easy to write\n",
    "\n",
    "A ton of APIs will return responses as JSON files. Some examples:\n",
    "- TWITTER: https://dev.twitter.com/rest/reference/get/search/tweets\n",
    "- NYT: https://developer.nytimes.com/article_search_v2.json?mcubz=0#/Documentation/GET/articlesearch.json"
   ]
  },
  {
   "cell_type": "code",
   "execution_count": null,
   "metadata": {
    "collapsed": true
   },
   "outputs": [],
   "source": [
    "import json\n",
    "#what is an API? How will it work? More on this tomorrow."
   ]
  },
  {
   "cell_type": "markdown",
   "metadata": {},
   "source": [
    "## Tree structure of HTML\n",
    "Hypertext Markup Language\n",
    "\n",
    "DOM: Document Object Module\n",
    "Fancy name for what the Browser creates when a web-page is loaded\n",
    "\n",
    "HTML DOM\n",
    "Standard for how to create, add, or update HTML elements\n",
    "\n",
    "A simple HTML file looks something like this:"
   ]
  },
  {
   "cell_type": "code",
   "execution_count": null,
   "metadata": {
    "collapsed": true
   },
   "outputs": [],
   "source": [
    "<!DOCTYPE html>\n",
    "<html>\n",
    "<head>\n",
    "    <title>Page Title</title>\n",
    "</head>\n",
    "<body>\n",
    "\n",
    "    <h1>This is a <strong>Heading</strong></h1>\n",
    "    <p>This is a <strong>paragraph</strong>.</p>\n",
    "\n",
    "</body>\n",
    "</html>"
   ]
  },
  {
   "cell_type": "markdown",
   "metadata": {},
   "source": [
    "We are not going over the syntax (it's super easy to pick up though! https://www.w3schools.com)\n",
    "What's important to notice here is that HTML files are made up of opening and closing tags. This results in a massive tree structure.\n",
    "\n",
    "What tags are your favorite websites using?\n",
    "- Right-click > View Page Source. [Or Menu > View > Developer > View Source on Chrome]\n",
    "- Right-click > Inspect Element"
   ]
  }
 ],
 "metadata": {
  "kernelspec": {
   "display_name": "Python 3",
   "language": "python",
   "name": "python3"
  },
  "language_info": {
   "codemirror_mode": {
    "name": "ipython",
    "version": 3
   },
   "file_extension": ".py",
   "mimetype": "text/x-python",
   "name": "python",
   "nbconvert_exporter": "python",
   "pygments_lexer": "ipython3",
   "version": "3.6.1"
  }
 },
 "nbformat": 4,
 "nbformat_minor": 2
}
