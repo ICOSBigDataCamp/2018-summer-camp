{
 "cells": [
  {
   "cell_type": "code",
   "execution_count": 3,
   "metadata": {
    "scrolled": true
   },
   "outputs": [
    {
     "name": "stdout",
     "output_type": "stream",
     "text": [
      "Success!\n"
     ]
    }
   ],
   "source": [
    "#login to Twitter's API \n",
    "\n",
    "#import packages to establish connection to API\n",
    "import twitter\n",
    "import oauthDance\n",
    "\n",
    "#establish connection by following directions that pop up\n",
    "t = oauthDance.login()\n",
    "print(\"Success!\")"
   ]
  },
  {
   "cell_type": "code",
   "execution_count": 8,
   "metadata": {},
   "outputs": [],
   "source": [
    "#get a list of tweets that contains the most recent tweet of a specific user\n",
    "tweets = t.statuses.user_timeline(screen_name=\"UMBigData\", count=1)"
   ]
  },
  {
   "cell_type": "code",
   "execution_count": 11,
   "metadata": {},
   "outputs": [
    {
     "name": "stdout",
     "output_type": "stream",
     "text": [
      "short tweet four\n"
     ]
    }
   ],
   "source": [
    "#print out one tweet\n",
    "\n",
    "#import package for parsing tweet structure\n",
    "import json\n",
    "\n",
    "#3 ways of printing the tweet\n",
    "#print(tweets[0])\n",
    "#print(json.dumps(tweets[0],indent=4))\n",
    "print(tweets[0]['text'])"
   ]
  },
  {
   "cell_type": "code",
   "execution_count": 12,
   "metadata": {},
   "outputs": [
    {
     "name": "stdout",
     "output_type": "stream",
     "text": [
      "short tweet four\n",
      "short tweet three\n"
     ]
    }
   ],
   "source": [
    "#print out two tweets\n",
    "\n",
    "#define a function named printTexts() that will print the text of tweets\n",
    "def printTexts(tweets):\n",
    "  for tweet in tweets:\n",
    "    print(tweet['text'])\n",
    "\n",
    "#get two most recent tweets\n",
    "twoTweets = t.statuses.user_timeline(screen_name=\"UMBigData\", count=2)\n",
    "\n",
    "#pass our list of tweets to the printTexts function\n",
    "printTexts(twoTweets)"
   ]
  },
  {
   "cell_type": "code",
   "execution_count": 13,
   "metadata": {},
   "outputs": [
    {
     "name": "stdout",
     "output_type": "stream",
     "text": [
      "short tweet two\n",
      "short tweet one\n"
     ]
    }
   ],
   "source": [
    "#print out older tweets\n",
    "#this code is based on the rules that Twitter always returns tweets in the order from newest to oldest\n",
    "#and the unique ID of a tweet is always larger the more recent it is\n",
    "\n",
    "#get the first two tweets\n",
    "firstTweets = t.statuses.user_timeline(screen_name=\"UMBigData\", count=2)\n",
    "#find the number of tweets in our list (although in this case we already know it's 2)\n",
    "tweetct=len(firstTweets)\n",
    "#list index counts from zero so substract one to get index of last list element\n",
    "index_of_last_tweet = tweetct-1\n",
    "#get the last tweet\n",
    "lastTweet = firstTweets[index_of_last_tweet]\n",
    "#get its id\n",
    "lastID = lastTweet['id']\n",
    "#compute the largest possible ID for the next oldest tweet\n",
    "nextID =  lastID - 1\n",
    "\n",
    "#request two more tweets that have to be older than the prior tweets\n",
    "nextTweets = t.statuses.user_timeline(screen_name=\"UMBigData\", count = 2, max_id = nextID)\n",
    "printTexts(nextTweets)"
   ]
  },
  {
   "cell_type": "code",
   "execution_count": 18,
   "metadata": {},
   "outputs": [
    {
     "name": "stdout",
     "output_type": "stream",
     "text": [
      "Please enter a Twitter handle:\n",
      "TSchifeling\n",
      "b'RT @nytclimate: Ive not spoken to a single utility thats truly holding on to a future of more coal,\" https://t.co/9XzD52P1f4'\n",
      "b\"RT @johngramlich: New from @FactTank: In both parties, women are now much less confident than men about the nation's future https://t.co/18\"\n",
      "b'RT @HoffmanAndy: E.P.A. Dismisses Members of Major Scientific Review Board https://t.co/UTycJF0zqn @DecisionLab offers views @erbinstitute'\n",
      "b'RT @loves2jodel: Every two and a half hours, workers installed a new wind turbine in the U.S. during the first quarter of 2017 https://t.co'\n",
      "b'RT @TIME: The GOPs health care bill could make being a woman a pre-existing condition https://t.co/1vuhguEsxW'\n",
      "b'Climate Progress, With or Without Trump https://t.co/dMzDm0m0aw'\n",
      "b'RT @c40cities: Retweet if you agree. #Women4Climate https://t.co/0AI76uXdhu'\n",
      "b'G.O.P. Health Law Insures Fewer People, Nonpartisan Review Shows https://t.co/6gLPaj1Jxs'\n",
      "b'RT @JMN: i couldnt help but wonder had the Russian ambassador been meeting with everybody except me? https://t.co/SCnYF5FquA'\n",
      "b'RT @SierraClub: ICYMI: Watch Scott Pruitt laughing at #CPAC when asked about destroying the agency he was just tapped to lead https://t.co/'\n",
      "10\n",
      "b'The Pruitt Emails: E.P.A. Chief Was Arm in Arm With Industry https://t.co/fdKWoQs4W7'\n",
      "b'Phil Howard on Food &amp; Power: How the Largest Firms Shape What We Eat and Drink @erbinstitute colloquium https://t.co/cYLD2Qvya0'\n",
      "b\"RT @brainpicker: Rachel Carson's brave and prescient 1953 letter against the government's assault on science and nature https://t.co/Ni1O9P\"\n",
      "b'Massimo Tavoni on modeling the climate change challenge at @erbinstitute colloquium https://t.co/8100A4HzcX'\n",
      "b\"RT @BrettFleishman: 475k workers building solar/wind infrastructure in the US.  Fossil fuels can't even claim 1/3rd of that number https://\"\n",
      "b'RT @erbinstitute: Next Thursday: Don\\'t miss Massimo Tavoni speak on \"Modeling the #ClimateChange Challenge\" https://t.co/a7PnXVJQrB #ErbCol'\n",
      "b'RT @DavidJHoyt: The thing the dystopian novels could never predict was the sudden rebellion of the national park social media managers'\n",
      "b'RT @erbinstitute: Erb Faculty Member @tplyon\\'s work cited in @nytimes \"As U.S. Cedes Leadership on Climate, Others Step Up at Davos\" https:'\n",
      "b'RT @nytimes: Comparing the crowds at Donald Trumps and Barack Obamas inaugurations https://t.co/U4dIVzCKbH https://t.co/zf8hxVDMpO'\n",
      "b'RT @DecisionLab: The @erbinstitute is seeking #PostDocs for a 09/17 start. https://t.co/ml8gKrr6Xx #postdocjobs #sustainability #consumerbe'\n",
      "10\n",
      "b'RT @HoffmanAndy: U.S. Companies to Trump: Dont Abandon Global Climate Deal https://t.co/hcRjPPx3RU @NYTimes'\n",
      "b'RT @maryannehitt: The world needs you now more than ever - my post-election post with @BeyondCoal leaders @brucenilles &amp; @verena_owen https'\n",
      "b'RT @evilhag: Parks and Recreation: Leslie Knope Writes Letter to America Following Donald Trumps Victory https://t.co/t8NIJFJpew'\n",
      "b'RT @HillaryClinton: \"To all the little girls watching...never doubt that you are valuable and powerful &amp; deserving of every chance &amp; opport'\n",
      "b\"RT @David_Leavitt: #trump's team is deleting tweets in real-time #debatenight #debates #Debates2016 #ImWithHer https://t.co/At2MvKE3VK\"\n",
      "b'RT @geoDGB: Contgrats @HoffmanAndy  https://t.co/sEPy8Yk9IZ'\n",
      "b'RT @HeadCountOrg: Listen to the funny folks from @ucbcomedy and register to vote right now: https://t.co/T87WZetSQd https://t.co/KWte7izwSj'\n",
      "b'When human beings are your data generating process, social science matters #AOM2016 #bigdataPDW'\n",
      "b'RT @ChrisGMyers: The rise of alternative forms of organizing; new piece with Suntae Kim (@kuki5017), Matt Karlesky, and @TSchifeling! https'\n",
      "b'RT @Humanitarian66: One could #filibuster simply by naming all mass shooting victims of the last decade. It would take days. https://t.co/6'\n",
      "10\n",
      "b\"RT @MichEnergy: Great piece by @DecisionLab of @erbinstitute: Society's biggest problems need more than a nudge https://t.co/RZ5wvrRdGa via\"\n",
      "b'RT @DecisionLab: Interested in my talk at #MGoPositive about #sustainability and being a good neighbor? Watch it here. @erbinstitute https:'\n",
      "b'RT @NYGovCuomo: .@maryannehitt @beyondcoal: \"NY is rocketing to the forefront of clean energy &amp; climate leadership\" https://t.co/hzn2R1Dikq'\n",
      "b'RT @IdeasRoadshow: @HoffmanAndy @UMich on the need for sustainability 2.0 https://t.co/e0m6OmZEQ4 https://t.co/5f9mf9EXrz'\n",
      "b'Secretary of Labor Perez at #UM on conscious capitalism &amp; true business leaders https://t.co/YWnkCtYw5f'\n",
      "b'#miwatertribunal #peopleswatertribunal #waterjustice https://t.co/XB3P2e9MDw'\n",
      "b'UK plans to drop coal: It cannot be satisfactory for an advanced economy like the U.K. to be relying on coal https://t.co/dE9I3LmO3t'\n",
      "b'The harm Exxon Mobil has done https://t.co/Iagh82xhZ5'\n",
      "b'Climate denial in oil &amp; gas industry may amount to RICO violation akin to tobacco industry\\nhttp://t.co/lHkp0DQQfF'\n",
      "b'@erbinstitute excited to be a part of this terrific group!'\n",
      "10\n",
      "b'RT @TreeHugger: 12,300 megawatts of coal power will shut down in the US in 2015, lots more to come http://t.co/GxXsFPK02f http://t.co/9x4aU'\n",
      "b'Thx @YangHoff ! So much fun'\n",
      "b'@rustbeltkate \"@guardian: Wild boars arrive in Istanbul due to loss of habitat http://t.co/kgvSuwVkx6\"'\n",
      "b'RT @guardian: Wild boars arrive in Istanbul due to loss of habitat http://t.co/3iO18a9MVS'\n",
      "b\"@YangHoff that icicle's already on my radar friend @rustbeltkate\"\n",
      "b'Niagara Falls froze! http://t.co/HwXiVkrQ7B'\n",
      "b'RT @guardian: All-female Ghostbusters cast headed by Melissa McCarthy and Kristen Wiig http://t.co/qwASMenPwK'\n",
      "b'RT @TheMADFeed: Daniel Patterson and Roy Choi are taking on big fast food chains, and they want your help: http://t.co/PVtzjHfjEL http://t.'\n",
      "b'RT @TheAtlantic: \"Oregon Trail was the antidote to the self-esteem movement that was raging at the time.\" http://t.co/zRq0lL6437 http://t.c'\n",
      "b'RT @IUPUI_ulib: Meet our Business Librarian, Katie Emery! She has helped business major students for their research, assignments,... http:/'\n",
      "10\n",
      "b'best lunch in dt Indy: samosa chaat from @Dhabaindy and then thai coffee popsicle from @niceytreat Thanks!'\n",
      "b'big thanks to @bdnoble and the rest of the icos big data team at michigan for launching my research on food trucks http://t.co/fxCtzQmsgn'\n",
      "b'@CtWsf_jktandy thx looks like a great resource!'\n",
      "b\"So you think you're natural? Take the test. http://t.co/8u8grw23wO  via @newhope360\"\n",
      "b'So excited to be selected by the American Community Survey! #CensusLove'\n",
      "b'Solar rising in Indy http://t.co/2SSIqPeHhy'\n",
      "b'@cjsequeira @erbinstitute Thanks for the support. A lot of interesting things happening in this space.'\n",
      "b'RT @erbinstitute: How do we define progress in the #natural #product industry? #grassfed #crueltyfree #cagefree http://t.co/T1yEpUjcrf @TSc'\n",
      "b'RT @erbinstitute: Defining Niche Identity: Dispatch from the Leading U.S. Trade Show for Natural Products #food http://t.co/T1yEpUjcrf @TSc'\n",
      "b'RT @erbinstitute: The growing natural product industry: Increased health awareness or the power of trendy diet buzzwords?http://t.co/T1yEpU'\n",
      "10\n",
      "b'New carbon rule is an important step in the right direction'\n",
      "b'RT @kliegman: Victory is sweet.. #Stanford to Purge $18 Billion Endowment of Coal Stock, via @nytimes http://t.co/GjyxYvMTIG'\n",
      "b'Sierra Club takes IPL to task for coal-burning emissions http://t.co/Ha8l9F96JA via @indystar - new day in Indy'\n",
      "b'RT @buffalobills: Happy Pi Day! http://t.co/FdL2StC9Mw'\n",
      "b'The End of Snow? http://t.co/IOnznLvfce -  Why save skiing when there are more pressing consequences of climate change? great read!'\n",
      "b'RT @TheComedyHumor: COOKIE DOUGH ICE CREAM PIZZA  http://t.co/R1SR14vd3n'\n",
      "b'Lost my ring on the way to the marriage equality rally. Then PANIC but now I got it back, phew! #StopHJR3'\n",
      "b'The path beyond coal accelerates today! #indybus #epalistens http://t.co/ZxSJMtnbp4'\n",
      "b'x @maxhostile the non-postapocalyptic world right. #gunrightsarenthumanrights'\n",
      "b'BSA to openly allow openly gay youths until they turn 18 #onesmallstep'\n",
      "10\n",
      "b'@Dill_A_Taunt mention back now'\n",
      "b\"lentil shepherd's pie awaits #yum\"\n",
      "b\"RT @washingtonpost: A fascinating map of the world's most and least racially tolerant countries http://t.co/HLIkKApvcr\"\n",
      "b'RT @indyindians: Brett \"the Hit-Man\" Carroll crushes a solo shot to put #IndyIndians up 6-3 in the top of the sixth! That makes three HR to'\n",
      "b'first thought: tweets may still not matter that much but they do represent a ton of available data'\n",
      "b'practicing for big data training camp'\n",
      "6\n"
     ]
    },
    {
     "name": "stdout",
     "output_type": "stream",
     "text": [
      "0\n",
      "76\n"
     ]
    }
   ],
   "source": [
    "#get all available tweets from a given user_timeline\n",
    "\n",
    "#import a package to sleep in between Twitter calls\n",
    "import time\n",
    "\n",
    "#define a function that keeps track of the oldest id, prints tweets, and returns a count of printed tweets and the oldest id\n",
    "def printTexts2(tweets):\n",
    "  oldest = None\n",
    "  count = 0\n",
    "  for tweet in tweets:\n",
    "    count = count + 1\n",
    "    txt = tweet['text']\n",
    "    txt = txt.encode('ascii','ignore')\n",
    "    print(txt)\n",
    "    if (oldest is None or tweet['id'] < oldest):\n",
    "      oldest = tweet['id']\n",
    "  print(count)        \n",
    "  return (oldest, count)\n",
    "\n",
    "#request a user\n",
    "print(\"Please enter a Twitter handle:\",)\n",
    "user = input()\n",
    "\n",
    "#get tweets until done, max is 200 at a time\n",
    "\n",
    "#first, get the \"newest\" tweet ID.  That is where we will start\n",
    "newest = t.statuses.user_timeline(screen_name=user,count=1)\n",
    "nextID = newest[0]['id']\n",
    "\n",
    "#initiate tracking counts\n",
    "total = 0; count = 0\n",
    "#define the number of tweets to return with each call to Twitter\n",
    "batchsize = 10\n",
    "\n",
    "#keep requesting more tweets, as long as our calls to Twitter are still returning tweets\n",
    "while True:\n",
    "  tweets = t.statuses.user_timeline(screen_name=user, count=batchsize, max_id = nextID)\n",
    "  nextID, count = printTexts2(tweets)\n",
    "  if (nextID is None):\n",
    "    break\n",
    "  nextID = nextID - 1\n",
    "  total = total + count\n",
    "  #you must sleep in between calls to Twitter based on rate limits\n",
    "  #see https://dev.twitter.com/rest/public/rate-limits for more info\n",
    "  time.sleep(2)\n",
    "  \n",
    "#print the total number of tweets printed\n",
    "print(total)"
   ]
  },
  {
   "cell_type": "code",
   "execution_count": 21,
   "metadata": {},
   "outputs": [
    {
     "name": "stdout",
     "output_type": "stream",
     "text": [
      "Nashville Predators mentions before June 3rd\n",
      "marie_upson     https://t.co/apXreGdUxB.\n",
      "To President Trump!\n",
      "Please: Pray for our Nashville Predators NHL team!\n",
      "raynib9     RT @JoeStarkey1: I had a blast putting this Hornqvist piece together. The very strange night Nashville took him last: https://t.co/Rove4aNr…\n",
      "PredatorsSpyder     [ESPN] Catfish and noise records: Welcome to Nashville https://t.co/gHnzGapDmN #Predators\n",
      "PredatorsViews     #Predators #PredsPride #Preds Rexrode: First Stanley Cup Final in Nashville will be ep.. https://t.co/FNnO7ZovX9 https://t.co/ualyoLcvJX\n",
      "nickkemp12     RT @NHL: No doubt the @PredsNHL are looking to turn it up even further in Game 3. #StanleyCup https://t.co/b2sXnKLFvK\n",
      "Briar_rose23     RT @hockeynight: Despite Rinne's struggles against the Pens, Preds coach Laviolette refuses to discuss possible goalie change https://t.co/…\n",
      "PredatorsSpyder     [Fox Sports] Penguins, Predators face unusual extra time off in Cup Final https://t.co/aLApFjpqoV #Predators\n",
      "PittsburghPG     The Penguins want to reach \"another level\" in Nashville https://t.co/nU7M8G2HX3\n",
      "SalsFamilyPizza     RT @PredsNHL: .@MayorMeganBarry has spoken: June 5 is #PredsPride Day! \n",
      "\n",
      "https://t.co/adJqSQAKTJ\n",
      "jenwernerr     RT @RScountry: Hear Billy Ray Cyrus' Spontaneous New Anthem for Nashville Predators https://t.co/XCervAZCdH\n",
      "parkersadlowski     RT @NHL: No doubt the @PredsNHL are looking to turn it up even further in Game 3. #StanleyCup https://t.co/b2sXnKLFvK\n",
      "dnk900     RT @NHL: No doubt the @PredsNHL are looking to turn it up even further in Game 3. #StanleyCup https://t.co/b2sXnKLFvK\n"
     ]
    }
   ],
   "source": [
    "#search for tweets that include particular words\n",
    "\n",
    "print(\"Nashville Predators mentions before June 3rd\\n\")\n",
    "result = t.search.tweets(q=\"Nashville Predators until:2017-06-03\")\n",
    "for tweet in result['statuses'] :\n",
    "  print(tweet['user']['screen_name'] + '     ' + tweet['text'])\n",
    "  print(\"\\n\")"
   ]
  },
  {
   "cell_type": "code",
   "execution_count": 20,
   "metadata": {},
   "outputs": [
    {
     "name": "stdout",
     "output_type": "stream",
     "text": [
      "Current Nashville Predators mentions\n",
      "PredsNHL     Just try to stay humble, #Smashville. \n",
      "\n",
      "https://t.co/VdgODjTsTA\n",
      "\n",
      "\n",
      "\n",
      "WilliamMungall     Predators' Mike Fisher has developed his own star power in Nashville https://t.co/VsUzHodOeR\n",
      "\n",
      "\n",
      "\n",
      "logosman     RT @NBCSportsPR: With a 28.0 local rating in Nashville, Game 4 was highest-rated Predators game EVER on networks of NBC, ahead of SCF Game…\n",
      "\n",
      "\n",
      "\n",
      "mooreaj21     RT @PredsNHL: \"You have to come to a game in Nashville, it's the best place I've seen as far as enthusiasm.\" \n",
      "\n",
      "https://t.co/98YVtuCyu3\n",
      "\n",
      "\n",
      "\n",
      "latimessports     Predators' Mike Fisher has developed his own star power in Nashville https://t.co/Uoah5vytlI\n",
      "\n",
      "\n",
      "\n",
      "wannabe21     RT @NHL: Fish got his wish. #StanleyCup https://t.co/NhSJrGBCmR\n",
      "\n",
      "\n",
      "\n",
      "Danlaw83     This!  #Nashville #Predators! https://t.co/wSii8eRudM\n",
      "\n",
      "\n",
      "\n",
      "ericabaker9623     RT @Carrie_UK: Cole Swindell says his favourite moment from the Stanley Cup Playoffs is when Carrie sang the US ational anthem! https://t.c…\n",
      "\n",
      "\n",
      "\n",
      "IvyShelton33     RT @BarSouthNCelly: To all whom it may concern:\n",
      "\n",
      "If you think they aren't a Hockey town, well Nashville Predators Avergae Attendance in the…\n",
      "\n",
      "\n",
      "\n",
      "conzi33     RT @BarSouthNCelly: To all whom it may concern:\n",
      "\n",
      "If you think they aren't a Hockey town, well Nashville Predators Avergae Attendance in the…\n",
      "\n",
      "\n",
      "\n",
      "ClareWhitla     Nashville gave the Predators an amazing Stanley Cup Final party. Now it's a brand new series\n",
      "\n",
      "\n",
      "\n",
      "l70laura     RT @NHL: Seriously... there's no way he was human last night. #StanleyCup https://t.co/urqX5WHqKD\n",
      "\n",
      "\n",
      "\n",
      "LadyGfangirl     RT @NHL: Fish got his wish. #StanleyCup https://t.co/NhSJrGBCmR\n",
      "\n",
      "\n",
      "\n",
      "HotChkNewsTweet     Predators' Mike Fisher has developed his own star power in Nashville (LA Times) https://t.co/EQpAzKLCSO\n",
      "\n",
      "\n",
      "\n",
      "mparkes9     RT @NBCSportsPR: With a 28.0 local rating in Nashville, Game 4 was highest-rated Predators game EVER on networks of NBC, ahead of SCF Game…\n",
      "\n",
      "\n",
      "\n"
     ]
    }
   ],
   "source": [
    "print(\"Current Nashville Predators mentions\\n\")\n",
    "result = t.search.tweets(q=\"Nashville Predators\")\n",
    "for tweet in result['statuses'] :\n",
    "  print(tweet['user']['screen_name'] + '     ' + tweet['text'])\n",
    "  print(\"\\n\")"
   ]
  },
  {
   "cell_type": "code",
   "execution_count": 22,
   "metadata": {},
   "outputs": [
    {
     "name": "stdout",
     "output_type": "stream",
     "text": [
      "946ccd22e1c9cda1  Pittsburgh, PA\n",
      "4f178f93e5a98b8a  East Pittsburgh, PA\n",
      "\n",
      "\n",
      "\n",
      "00ab941b685334e3    Nashville, TN\n",
      "7744c43df01ae585    Nashville, NC\n",
      "7aa9a541883f3685    Nashville, GA\n",
      "92176658201f2089    Nashville, AR\n",
      "634fcf892b00fbbd    Nashville, IL\n",
      "\n",
      "\n",
      "\n",
      "92b2158a6d509767  Ann Arbor, MI\n",
      "1511d86c8ab59d30  St Ann, MO\n",
      "00ef755203c73b7d  Sarah Ann, WV\n",
      "744a70b458921414  Abbotts Ann, England\n",
      "0ed75ca4a5c54a50  Port Ann, Scotland\n",
      "7c6c97d9031b9d8a  Lake Arbor, MD\n",
      "3e7fe1d6ee63b083  Spring Arbor, MI\n",
      "097a812e51e47e77  Arborfield Garrison, England\n",
      "4d752da8b0d08303  Arborg, Manitoba\n",
      "795ee1b0c19b6b6f  Arborfield No. 456, Saskatchewan\n",
      "3e3bb5a572b5c210  Arboras, France\n",
      "58c0ff0d2f81a9b9  Arborio, Piemonte\n",
      "00245d410007ad43  Arbore, România\n",
      "6a5a4af3ba5fb764  Arborfield, England\n",
      "3d2cd99dc13958df  Arborea, Sardinia\n",
      "2d718f615c372e38  Arbori, France\n",
      "70ad029411c686bc  Palmas Arborea, Sardegna\n",
      "6017c59e4200c728  Arborfield, Saskatchewan\n",
      "23ad28a747003e72  Arborfield Cross, England\n"
     ]
    }
   ],
   "source": [
    "#lookup geocoordinates for places in Twitter\n",
    "\n",
    "#get place query results for a few cities\n",
    "pittsburgh = t.geo.search(query=\"Pittsburgh\", granularity=\"city\")\n",
    "nashville = t.geo.search(query=\"Nashville\", granularity=\"city\")\n",
    "annarbor = t.geo.search(query=\"Ann Arbor\", granularity=\"city\")\n",
    "\n",
    "#output coordinates and names from query results \n",
    "for place in pittsburgh['result']['places'] :\n",
    "  print(place['id'] + '  ' + place['full_name'])\n",
    "print(\"\\n\\n\")\n",
    "\n",
    "for place in nashville['result']['places'] : \n",
    "  print(place['id'] + '    ' + place['full_name'])\n",
    "print(\"\\n\\n\")\n",
    "\n",
    "for place in annarbor['result']['places'] :\n",
    "  print(place['id'] + '  ' + place['full_name'])"
   ]
  },
  {
   "cell_type": "code",
   "execution_count": 23,
   "metadata": {},
   "outputs": [
    {
     "name": "stdout",
     "output_type": "stream",
     "text": [
      "Current Pittsburgh hockey mentions\n",
      "fimboslice     @FlemESPN no one is upset because you talked shit on Pittsburgh. People are pissed that this is what qualifies as a hockey article from ESPN\n",
      "\n",
      "\n",
      "DKPghSports     .@MattGajtka takes your #Pens #StanleyCup Final questions now! https://t.co/lLnoCyFkhg\n",
      "\n",
      "\n",
      "Dain412Fresh     @_smitty21 I know u were worried after Game 2 but the momentum shifted. It's like that in hockey. That's why I'm no… https://t.co/hR9sbEIrLo\n",
      "\n",
      "\n",
      "JakeP76     This is the worst article I have ever read. ESPN should stop trying to cover hockey. https://t.co/BgQz5QKrnz\n",
      "\n",
      "\n",
      "Arusstotle     The NHL is ruining hockey. ESPN shouldn't write about hockey. The fans are mindless donkeys. Stupidity everywhere.\n",
      "\n",
      "\n",
      "StanLoveTheShow     @capdc @937theFan Glad to have had you for the first hour and a half, at least :)  Teke is a weekly guest.  Mostly… https://t.co/kB2YGDXAcI\n",
      "\n",
      "\n",
      "nmd_shark     @ScottMerrihew @Verz I just don't understand the \"you're not a real hockey town\" nonsense lol.\n",
      "\n",
      "\n",
      "Arusstotle     I can't wait for hockey to be over. It's been a fun run filled with a lot of stupidity and it just needs to end.\n",
      "\n",
      "\n",
      "TimBenzPGH     @sexpantherbyode similar hockey knowledge\n",
      "\n",
      "\n",
      "brucekubitz     @rokko987 @BarSouthNCelly Clueless about hockey\n",
      "\n",
      "\n",
      "ManOfSteel2487     @GoPredsTN @PaulRomanuk @NHL Your fans lol? Not me buddy, know your hockey, don't compare a hockey player to a foot… https://t.co/NL2kA1uKYv\n",
      "\n",
      "\n",
      "ManOfSteel2487     @GoPredsTN @PaulRomanuk @NHL You're an intelligent hockey fan huh? No shit it's only 2-2 what a valid point, you sh… https://t.co/dKMsa13FeH\n",
      "\n",
      "\n",
      "Triflinellie     Lol when you live with a retard that doesn't believe hockey is a Canadian sport. Coming from a girl who played for 6 years 🤦🏻‍♀️\n",
      "\n",
      "\n",
      "Current Nashville hockey mentions\n",
      "McEwenClassics     I spy a Hockey Town tee!!!\n",
      "\n",
      "#Repost @showtimetate (get_repost)\n",
      "・・・\n",
      "Lit. Hockey Town Tennessee… https://t.co/GAONW5jYbg\n",
      "\n",
      "\n",
      "FOX17Eric     So...covering the #stanleycup final is pretty fun #preds #nhl #hockey #nashville #pittsburgh @FOXNashville https://t.co/kMmPNFPoOv\n",
      "\n",
      "\n"
     ]
    }
   ],
   "source": [
    "#search for tweets that incorporates place restrictions\n",
    "\n",
    "print(\"Current Pittsburgh hockey mentions\")\n",
    "result = t.search.tweets(q=\"hockey place:946ccd22e1c9cda1\")\n",
    "for tweet in result['statuses'] :\n",
    "  print(tweet['user']['screen_name'] + '     ' + tweet['text'])\n",
    "  print(\"\\n\")\n",
    "\n",
    "\n",
    "print(\"Current Nashville hockey mentions\")\n",
    "result = t.search.tweets(q=\"hockey place:00ab941b685334e3\")\n",
    "for tweet in result['statuses'] :\n",
    "  print(tweet['user']['screen_name'] + '     ' + tweet['text'])\n",
    "  print(\"\\n\")"
   ]
  },
  {
   "cell_type": "code",
   "execution_count": null,
   "metadata": {},
   "outputs": [
    {
     "name": "stdout",
     "output_type": "stream",
     "text": [
      "BBC News - Live donkey fed to tigers in China zoo after dispute https://t.co/UVjoRm62ZY Good people?\n",
      "Great silverdome memories Eric Hipple Detroit Lions QB Highlights https://t.co/pWASeYaW8Z\n",
      "@PeterB00449041 @tigers :D\n",
      "Detroit Tigers 2:4 LA Angels on https://t.co/sM6I09WKWF https://t.co/zFfjAEYd7o https://t.co/dct812Mk3w\n",
      "RT @jaboukie: \"millennials killed department stores\" baby boomers killed the polar bears but right right right my deepest apologies to jc p…\n",
      "@Zachattack15782 The Tigers, Zach? Whats going on? Their not the same as they were a few seasons back.\n",
      "@Css_fan64 it adds a new class that lets you summon bears\n",
      "RT @MattWalshBlog: If we have international treaties to protect trees and polar bears, why not an international treaty to protect the unbor…\n",
      "@ChicagoBears @lscreeden Bears are the team yo \n",
      "https://t.co/44YwlysU0e\n",
      "@cLogicc @nBears_ @Ceewarz bears is just a lil husky dawg\n",
      "\"Derp derp global leadership derp melting derp polar bears and stuff. Also, leadership. And global. Derp.\" https://t.co/p4mpFNQdNX\n",
      "Lions’ Robbie Henshaw looks forward to ’surreal’ meeting with Sonny Bill Williams https://t.co/6NwxfO7ZaA\n",
      "MLB: Angels 4, Tigers 2, Bot 6, 2 Outs -  RUWTbot added 37 roots\n",
      "https://t.co/BRigzS3Rsi\n",
      "RT @Aeuphoria: @ARMANDOGONZALE7 @ToddTrotter3 @quizzedwhy @liketoknow81 @kmason20 @ButchRobinson75 @SteveSmith77773… \n",
      "Uh, @XFINITY, you need to update your programming guide. @ROOTSPORTS_RM is airing @Rockies Vs. @Indians, NOT @Tigers Vs. @Angels.\n",
      "RT @missmayn: If I donated money to Eric Trump, even if he said it was going towards cancer, I would assume he's spending it on Hot Wheels…\n",
      "RT @NFLFilms: Four NFC Quarterbacks have been revealed on #NFLTop100. Who would YOU rank highest?\n",
      "@Redskins @Panthers @Lions @TBBuccaneers\n",
      "RT @DingerTracker: #Angels 4 @ #Tigers 1 [B6-1o]\n",
      "Alex Avila homers (9): fly ball to CF (solo)\n",
      "\n",
      "[ 105mph • 398ft • 24°🚀 ]\n",
      "Viz: https://t.co/…\n"
     ]
    },
    {
     "ename": "KeyboardInterrupt",
     "evalue": "",
     "output_type": "error",
     "traceback": [
      "\u001b[1;31m---------------------------------------------------------------------------\u001b[0m",
      "\u001b[1;31mKeyboardInterrupt\u001b[0m                         Traceback (most recent call last)",
      "\u001b[1;32m<ipython-input-24-2e0c0337e918>\u001b[0m in \u001b[0;36m<module>\u001b[1;34m()\u001b[0m\n\u001b[0;32m      7\u001b[0m \u001b[0miterator\u001b[0m \u001b[1;33m=\u001b[0m \u001b[0mts\u001b[0m\u001b[1;33m.\u001b[0m\u001b[0mstatuses\u001b[0m\u001b[1;33m.\u001b[0m\u001b[0mfilter\u001b[0m\u001b[1;33m(\u001b[0m\u001b[0mtrack\u001b[0m\u001b[1;33m=\u001b[0m\u001b[1;34m\"Lions,Tigers,Bears\"\u001b[0m\u001b[1;33m)\u001b[0m\u001b[1;33m\u001b[0m\u001b[0m\n\u001b[0;32m      8\u001b[0m \u001b[1;33m\u001b[0m\u001b[0m\n\u001b[1;32m----> 9\u001b[1;33m \u001b[1;32mfor\u001b[0m \u001b[0mtweet\u001b[0m \u001b[1;32min\u001b[0m \u001b[0miterator\u001b[0m\u001b[1;33m:\u001b[0m\u001b[1;33m\u001b[0m\u001b[0m\n\u001b[0m\u001b[0;32m     10\u001b[0m   \u001b[0mprint\u001b[0m\u001b[1;33m(\u001b[0m\u001b[0mtweet\u001b[0m\u001b[1;33m[\u001b[0m\u001b[1;34m'text'\u001b[0m\u001b[1;33m]\u001b[0m\u001b[1;33m)\u001b[0m\u001b[1;33m\u001b[0m\u001b[0m\n",
      "\u001b[1;32mc:\\users\\todd\\anaconda\\envs\\py36\\lib\\site-packages\\twitter\\stream.py\u001b[0m in \u001b[0;36m__iter__\u001b[1;34m(self)\u001b[0m\n\u001b[0;32m    174\u001b[0m         \u001b[1;32mwhile\u001b[0m \u001b[1;32mTrue\u001b[0m\u001b[1;33m:\u001b[0m\u001b[1;33m\u001b[0m\u001b[0m\n\u001b[0;32m    175\u001b[0m             \u001b[1;31m# Decode all the things:\u001b[0m\u001b[1;33m\u001b[0m\u001b[1;33m\u001b[0m\u001b[0m\n\u001b[1;32m--> 176\u001b[1;33m             \u001b[0mdata\u001b[0m \u001b[1;33m=\u001b[0m \u001b[0msock_reader\u001b[0m\u001b[1;33m.\u001b[0m\u001b[0mread\u001b[0m\u001b[1;33m(\u001b[0m\u001b[1;33m)\u001b[0m\u001b[1;33m\u001b[0m\u001b[0m\n\u001b[0m\u001b[0;32m    177\u001b[0m             \u001b[0mdechunked_data\u001b[0m\u001b[1;33m,\u001b[0m \u001b[0mend_of_stream\u001b[0m\u001b[1;33m,\u001b[0m \u001b[0mdecode_error\u001b[0m \u001b[1;33m=\u001b[0m \u001b[0mchunk_decoder\u001b[0m\u001b[1;33m.\u001b[0m\u001b[0mdecode\u001b[0m\u001b[1;33m(\u001b[0m\u001b[0mdata\u001b[0m\u001b[1;33m)\u001b[0m\u001b[1;33m\u001b[0m\u001b[0m\n\u001b[0;32m    178\u001b[0m             \u001b[0municode_data\u001b[0m \u001b[1;33m=\u001b[0m \u001b[0mutf8_decoder\u001b[0m\u001b[1;33m.\u001b[0m\u001b[0mdecode\u001b[0m\u001b[1;33m(\u001b[0m\u001b[0mdechunked_data\u001b[0m\u001b[1;33m)\u001b[0m\u001b[1;33m\u001b[0m\u001b[0m\n",
      "\u001b[1;32mc:\\users\\todd\\anaconda\\envs\\py36\\lib\\site-packages\\twitter\\stream.py\u001b[0m in \u001b[0;36mread\u001b[1;34m(self)\u001b[0m\n\u001b[0;32m    131\u001b[0m     \u001b[1;32mdef\u001b[0m \u001b[0mread\u001b[0m\u001b[1;33m(\u001b[0m\u001b[0mself\u001b[0m\u001b[1;33m)\u001b[0m\u001b[1;33m:\u001b[0m\u001b[1;33m\u001b[0m\u001b[0m\n\u001b[0;32m    132\u001b[0m         \u001b[1;32mtry\u001b[0m\u001b[1;33m:\u001b[0m\u001b[1;33m\u001b[0m\u001b[0m\n\u001b[1;32m--> 133\u001b[1;33m             \u001b[0mready_to_read\u001b[0m \u001b[1;33m=\u001b[0m \u001b[0mselect\u001b[0m\u001b[1;33m.\u001b[0m\u001b[0mselect\u001b[0m\u001b[1;33m(\u001b[0m\u001b[1;33m[\u001b[0m\u001b[0mself\u001b[0m\u001b[1;33m.\u001b[0m\u001b[0msock\u001b[0m\u001b[1;33m]\u001b[0m\u001b[1;33m,\u001b[0m \u001b[1;33m[\u001b[0m\u001b[1;33m]\u001b[0m\u001b[1;33m,\u001b[0m \u001b[1;33m[\u001b[0m\u001b[1;33m]\u001b[0m\u001b[1;33m,\u001b[0m \u001b[0mself\u001b[0m\u001b[1;33m.\u001b[0m\u001b[0msock_timeout\u001b[0m\u001b[1;33m)\u001b[0m\u001b[1;33m[\u001b[0m\u001b[1;36m0\u001b[0m\u001b[1;33m]\u001b[0m\u001b[1;33m\u001b[0m\u001b[0m\n\u001b[0m\u001b[0;32m    134\u001b[0m             \u001b[1;32mif\u001b[0m \u001b[0mready_to_read\u001b[0m\u001b[1;33m:\u001b[0m\u001b[1;33m\u001b[0m\u001b[0m\n\u001b[0;32m    135\u001b[0m                 \u001b[1;32mreturn\u001b[0m \u001b[0mself\u001b[0m\u001b[1;33m.\u001b[0m\u001b[0msock\u001b[0m\u001b[1;33m.\u001b[0m\u001b[0mread\u001b[0m\u001b[1;33m(\u001b[0m\u001b[1;33m)\u001b[0m\u001b[1;33m\u001b[0m\u001b[0m\n",
      "\u001b[1;31mKeyboardInterrupt\u001b[0m: "
     ]
    }
   ],
   "source": [
    "#open a Twitter stream based on text of tweets\n",
    "\n",
    "# Streaming is a different interface\n",
    "ts = twitter.TwitterStream(auth=t.auth)\n",
    "\n",
    "# Oh My!\n",
    "iterator = ts.statuses.filter(track=\"Lions,Tigers,Bears\")\n",
    "\n",
    "for tweet in iterator:\n",
    "  print(tweet['text'])"
   ]
  },
  {
   "cell_type": "code",
   "execution_count": 4,
   "metadata": {},
   "outputs": [
    {
     "name": "stdout",
     "output_type": "stream",
     "text": [
      "Jordananthony__     Situations that remind you how akward you really are lol 🙃🙃\n",
      "soldjiadawg23     @POTUS @SecretsBedard You're an ASS orange man\n",
      "makayla_shae33     @LeviNelson17 boutta hit 500😛 https://t.co/utySKvXwhS\n",
      "matthovey     Because everyone naturally expects volume buttons to change the font size.\n",
      "GunsAndSeeds     @CIA Wow Joe! Thank you for your service to all of us.\n",
      "billyrunaway     @FoolWearsBlack pitiful. smh. pitiful.   #trashtue\n",
      "RileyR850     @DaileyBenjamin1 https://t.co/QJcgkwAPiP\n",
      "TomWalk34952503     @IvankaTrump Love you and your dad and his entire family! Stay strong Ivanka!\n",
      "marissahuebner     ur wcw can control herself around little cute babies or little puppies and definitely has a fever for both..... im ur wcw ... congrats\n",
      "catlillibridge     @SarahConk https://t.co/DZmPjkJqsv\n",
      "stephancarlover     Got to love when your friend says you two are besties but talks shit and backs out of deals... and won't answer their phone what a fake bitc\n",
      "kayy_shmayy     Dylan talked us into watching Deadpool and I have to admit, I'm not mad 😂\n",
      "keller_lind     @BoschFawstin Understandably...but most non-Muslims believe/hope Islam can be reformed...some Muslin reformers soun… https://t.co/56jLyTDucU\n",
      "modymalay     Playin with my heart 😪 https://t.co/1li9b6TTe5\n",
      "LeviNelson17     @makayla_shae33 This is not accurate\n"
     ]
    },
    {
     "ename": "KeyboardInterrupt",
     "evalue": "",
     "output_type": "error",
     "traceback": [
      "\u001b[1;31m---------------------------------------------------------------------------\u001b[0m",
      "\u001b[1;31mKeyboardInterrupt\u001b[0m                         Traceback (most recent call last)",
      "\u001b[1;32m<ipython-input-4-5bbd3b251a97>\u001b[0m in \u001b[0;36m<module>\u001b[1;34m()\u001b[0m\n\u001b[0;32m     12\u001b[0m \u001b[0miterator\u001b[0m \u001b[1;33m=\u001b[0m \u001b[0mts\u001b[0m\u001b[1;33m.\u001b[0m\u001b[0mstatuses\u001b[0m\u001b[1;33m.\u001b[0m\u001b[0mfilter\u001b[0m\u001b[1;33m(\u001b[0m\u001b[0mlocations\u001b[0m\u001b[1;33m=\u001b[0m\u001b[1;34m\"-83.8,42.223,-83.676,42.324\"\u001b[0m\u001b[1;33m)\u001b[0m\u001b[1;33m\u001b[0m\u001b[0m\n\u001b[0;32m     13\u001b[0m \u001b[1;33m\u001b[0m\u001b[0m\n\u001b[1;32m---> 14\u001b[1;33m \u001b[1;32mfor\u001b[0m \u001b[0mtweet\u001b[0m \u001b[1;32min\u001b[0m \u001b[0miterator\u001b[0m \u001b[1;33m:\u001b[0m\u001b[1;33m\u001b[0m\u001b[0m\n\u001b[0m\u001b[0;32m     15\u001b[0m   \u001b[0mprint\u001b[0m\u001b[1;33m(\u001b[0m\u001b[0mtweet\u001b[0m\u001b[1;33m[\u001b[0m\u001b[1;34m'user'\u001b[0m\u001b[1;33m]\u001b[0m\u001b[1;33m[\u001b[0m\u001b[1;34m'screen_name'\u001b[0m\u001b[1;33m]\u001b[0m\u001b[1;33m,\u001b[0m \u001b[1;34m'   '\u001b[0m\u001b[1;33m,\u001b[0m \u001b[0mtweet\u001b[0m\u001b[1;33m[\u001b[0m\u001b[1;34m'text'\u001b[0m\u001b[1;33m]\u001b[0m\u001b[1;33m)\u001b[0m\u001b[1;33m\u001b[0m\u001b[0m\n",
      "\u001b[1;32mc:\\users\\todd\\anaconda\\envs\\py36\\lib\\site-packages\\twitter\\stream.py\u001b[0m in \u001b[0;36m__iter__\u001b[1;34m(self)\u001b[0m\n\u001b[0;32m    174\u001b[0m         \u001b[1;32mwhile\u001b[0m \u001b[1;32mTrue\u001b[0m\u001b[1;33m:\u001b[0m\u001b[1;33m\u001b[0m\u001b[0m\n\u001b[0;32m    175\u001b[0m             \u001b[1;31m# Decode all the things:\u001b[0m\u001b[1;33m\u001b[0m\u001b[1;33m\u001b[0m\u001b[0m\n\u001b[1;32m--> 176\u001b[1;33m             \u001b[0mdata\u001b[0m \u001b[1;33m=\u001b[0m \u001b[0msock_reader\u001b[0m\u001b[1;33m.\u001b[0m\u001b[0mread\u001b[0m\u001b[1;33m(\u001b[0m\u001b[1;33m)\u001b[0m\u001b[1;33m\u001b[0m\u001b[0m\n\u001b[0m\u001b[0;32m    177\u001b[0m             \u001b[0mdechunked_data\u001b[0m\u001b[1;33m,\u001b[0m \u001b[0mend_of_stream\u001b[0m\u001b[1;33m,\u001b[0m \u001b[0mdecode_error\u001b[0m \u001b[1;33m=\u001b[0m \u001b[0mchunk_decoder\u001b[0m\u001b[1;33m.\u001b[0m\u001b[0mdecode\u001b[0m\u001b[1;33m(\u001b[0m\u001b[0mdata\u001b[0m\u001b[1;33m)\u001b[0m\u001b[1;33m\u001b[0m\u001b[0m\n\u001b[0;32m    178\u001b[0m             \u001b[0municode_data\u001b[0m \u001b[1;33m=\u001b[0m \u001b[0mutf8_decoder\u001b[0m\u001b[1;33m.\u001b[0m\u001b[0mdecode\u001b[0m\u001b[1;33m(\u001b[0m\u001b[0mdechunked_data\u001b[0m\u001b[1;33m)\u001b[0m\u001b[1;33m\u001b[0m\u001b[0m\n",
      "\u001b[1;32mc:\\users\\todd\\anaconda\\envs\\py36\\lib\\site-packages\\twitter\\stream.py\u001b[0m in \u001b[0;36mread\u001b[1;34m(self)\u001b[0m\n\u001b[0;32m    131\u001b[0m     \u001b[1;32mdef\u001b[0m \u001b[0mread\u001b[0m\u001b[1;33m(\u001b[0m\u001b[0mself\u001b[0m\u001b[1;33m)\u001b[0m\u001b[1;33m:\u001b[0m\u001b[1;33m\u001b[0m\u001b[0m\n\u001b[0;32m    132\u001b[0m         \u001b[1;32mtry\u001b[0m\u001b[1;33m:\u001b[0m\u001b[1;33m\u001b[0m\u001b[0m\n\u001b[1;32m--> 133\u001b[1;33m             \u001b[0mready_to_read\u001b[0m \u001b[1;33m=\u001b[0m \u001b[0mselect\u001b[0m\u001b[1;33m.\u001b[0m\u001b[0mselect\u001b[0m\u001b[1;33m(\u001b[0m\u001b[1;33m[\u001b[0m\u001b[0mself\u001b[0m\u001b[1;33m.\u001b[0m\u001b[0msock\u001b[0m\u001b[1;33m]\u001b[0m\u001b[1;33m,\u001b[0m \u001b[1;33m[\u001b[0m\u001b[1;33m]\u001b[0m\u001b[1;33m,\u001b[0m \u001b[1;33m[\u001b[0m\u001b[1;33m]\u001b[0m\u001b[1;33m,\u001b[0m \u001b[0mself\u001b[0m\u001b[1;33m.\u001b[0m\u001b[0msock_timeout\u001b[0m\u001b[1;33m)\u001b[0m\u001b[1;33m[\u001b[0m\u001b[1;36m0\u001b[0m\u001b[1;33m]\u001b[0m\u001b[1;33m\u001b[0m\u001b[0m\n\u001b[0m\u001b[0;32m    134\u001b[0m             \u001b[1;32mif\u001b[0m \u001b[0mready_to_read\u001b[0m\u001b[1;33m:\u001b[0m\u001b[1;33m\u001b[0m\u001b[0m\n\u001b[0;32m    135\u001b[0m                 \u001b[1;32mreturn\u001b[0m \u001b[0mself\u001b[0m\u001b[1;33m.\u001b[0m\u001b[0msock\u001b[0m\u001b[1;33m.\u001b[0m\u001b[0mread\u001b[0m\u001b[1;33m(\u001b[0m\u001b[1;33m)\u001b[0m\u001b[1;33m\u001b[0m\u001b[0m\n",
      "\u001b[1;31mKeyboardInterrupt\u001b[0m: "
     ]
    }
   ],
   "source": [
    "#open a Twitter stream based on location\n",
    "\n",
    "# Ann Arbor Bounding Box from places lookup\n",
    "# [-83.799572, 42.222668], [-83.675807, 42.222668], \n",
    "# [-83.675807, 42.323973], [-83.799572, 42.323973]\n",
    "#\n",
    "# For location, we use Longitude then Latitutde.\n",
    "# Southwestern corner first\n",
    "# Northeastern corner second\n",
    "\n",
    "ts = twitter.TwitterStream(auth=t.auth)\n",
    "iterator = ts.statuses.filter(locations=\"-83.8,42.223,-83.676,42.324\")\n",
    "\n",
    "for tweet in iterator :\n",
    "  print(tweet['user']['screen_name'], '   ', tweet['text'])"
   ]
  },
  {
   "cell_type": "code",
   "execution_count": null,
   "metadata": {
    "collapsed": true
   },
   "outputs": [],
   "source": []
  }
 ],
 "metadata": {
  "kernelspec": {
   "display_name": "Python 3",
   "language": "python",
   "name": "python3"
  },
  "language_info": {
   "codemirror_mode": {
    "name": "ipython",
    "version": 3
   },
   "file_extension": ".py",
   "mimetype": "text/x-python",
   "name": "python",
   "nbconvert_exporter": "python",
   "pygments_lexer": "ipython3",
   "version": "3.6.1"
  }
 },
 "nbformat": 4,
 "nbformat_minor": 2
}
