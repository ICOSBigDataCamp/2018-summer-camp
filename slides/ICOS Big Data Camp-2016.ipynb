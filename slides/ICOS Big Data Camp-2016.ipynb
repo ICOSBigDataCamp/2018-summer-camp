{
 "cells": [
  {
   "cell_type": "markdown",
   "metadata": {},
   "source": [
    "# Introduction to Python\n",
    "If you want to learn just enough Python you will want to focus on three things:\n",
    "1) Saving Data\n",
    "2) Manipulating and Comparing Data\n",
    "3) Reusing code\n",
    "\n",
    "In order to this you will be learning about variables, data types, methods, and functions.  But first, lets learn how to mess up and recover.\n",
    "\n",
    "## Indentation\n",
    "The mistake that is most common in Python is having bad indentation. "
   ]
  },
  {
   "cell_type": "code",
   "execution_count": 7,
   "metadata": {
    "collapsed": false
   },
   "outputs": [
    {
     "name": "stdout",
     "output_type": "stream",
     "text": [
      "Hi Everyone.  Nice to meet you, even this early.\n",
      "You can run this code by clicking on the 'play' button above.\n",
      "Ater you run this code, put some spaces before the second line.\n"
     ]
    }
   ],
   "source": [
    "print \"Hi Everyone.  Nice to meet you, even this early.\"\n",
    "print \"You can run this code by clicking on the 'play' button above.\"\n",
    "print \"Ater you run this code, put some spaces before the second line.\""
   ]
  },
  {
   "cell_type": "markdown",
   "metadata": {},
   "source": [
    "## Variables\n",
    "In order to save data for later use you create a variable.  Luckily in Python \"creating\" a variables is as simple as coming up with a name and assigning a value.  So:\n",
    "\n",
    "msg1 = \"Good morning\"\n",
    "msg2 = \"Good afternoon\"\n",
    "msg3 = \"Good evening\"\n",
    "gpa = 3.21\n",
    "xxyyzz = 5.23\n",
    "\n",
    "are all examples of variables."
   ]
  },
  {
   "cell_type": "code",
   "execution_count": 1,
   "metadata": {
    "collapsed": false
   },
   "outputs": [
    {
     "name": "stdout",
     "output_type": "stream",
     "text": [
      "Good morning\n",
      "Good afternoon\n",
      "Good evening\n",
      "3.21\n",
      "5.23\n"
     ]
    }
   ],
   "source": [
    "msg1 = \"Good morning\"\n",
    "msg2 = \"Good afternoon\"\n",
    "msg3 = \"Good evening\"\n",
    "gpa = 3.21\n",
    "xxyyzz = 5.23\n",
    "print msg1\n",
    "print msg2\n",
    "print msg3\n",
    "print gpa\n",
    "print xxyyzz"
   ]
  },
  {
   "cell_type": "markdown",
   "metadata": {},
   "source": [
    "### Data Types\n",
    "We will talk about four different data types that you use in Python:\n",
    "(Single-ish Values)\n",
    "Numbers -- Integers, Floating Point Numbers, Complex Numbers\n",
    "Strings -- Consecutive characters enclosed in quotes\n",
    "\n",
    "(Collections)\n",
    "Lists -- A set of data enclosed in [] where elements are separated by commas.\n",
    "\n",
    "Tuples -- Similar to Lists, but elements are enclosed in () and can not be changed.\n",
    "\n",
    "Dictionary -- Again, similar to Lists but elements are enclosed in {} and accessed using a key/value pair."
   ]
  },
  {
   "cell_type": "markdown",
   "metadata": {},
   "source": [
    "## Numbers\n",
    "Clearly sometimes you will want to manipuate your data. You can do simple things like add, subtract, multipy, divide, or even find the remainder."
   ]
  },
  {
   "cell_type": "code",
   "execution_count": 8,
   "metadata": {
    "collapsed": false
   },
   "outputs": [
    {
     "name": "stdout",
     "output_type": "stream",
     "text": [
      "53\n",
      "55\n",
      "50\n",
      "265\n",
      "8\n",
      "5\n"
     ]
    }
   ],
   "source": [
    "age = 53\n",
    "print age\n",
    "print age + 2 \n",
    "print age - 3\n",
    "print age * 5\n",
    "print age / 6\n",
    "print age % 6"
   ]
  },
  {
   "cell_type": "markdown",
   "metadata": {},
   "source": [
    "This code is very handy for learning about the operators AND experiencing a second common error in new programmers.  Usually if you are bothering to perform an operation, you want to save the value somewhere.  Lets look at that same code again, but this time with an assignment statement."
   ]
  },
  {
   "cell_type": "code",
   "execution_count": 9,
   "metadata": {
    "collapsed": false
   },
   "outputs": [
    {
     "name": "stdout",
     "output_type": "stream",
     "text": [
      "53\n",
      "55\n",
      "52\n",
      "260\n",
      "43\n",
      "1\n"
     ]
    }
   ],
   "source": [
    "age = 53\n",
    "print age\n",
    "age = age + 2    #This is the same as age+=2\n",
    "print age\n",
    "age = age - 3    #This is the same as age-=3\n",
    "print age\n",
    "age = age * 5    #This is the same as age*=5\n",
    "print age\n",
    "age = age / 6    #This is the same as age/=6\n",
    "print age\n",
    "age = age % 6    #This is the same as age%=6\n",
    "print age"
   ]
  },
  {
   "cell_type": "markdown",
   "metadata": {},
   "source": [
    "### Strings\n",
    "Strings are used ALL THE TIME in Python.  Strings are enclosed in quotes.  Python treats single quotes the same as double quotes (but be consistent). \n",
    "\n",
    "Double quotes allow you to enclose single quotes. \n",
    "\n",
    "There are also triple double quotes \"\"\"...\"\"\" They allow you to write strings that span multiple lines.\n",
    "\n",
    "\n",
    "There are many, many built-in functionalities that you will eventually learn. It is impossible to cover (and remember) them all in one sitting.\n",
    "\n",
    "#### Accessing parts of a String\n",
    "You can access an entire string variable, or just parts of it. Square brackets are used to  specify the index of the data you want.  (Indices always start at 0.)"
   ]
  },
  {
   "cell_type": "code",
   "execution_count": 10,
   "metadata": {
    "collapsed": false
   },
   "outputs": [
    {
     "name": "stdout",
     "output_type": "stream",
     "text": [
      "The first letter]:  H\n",
      "The 2nd through 9th letters:  ello Ever\n",
      "The last letter is  e\n"
     ]
    }
   ],
   "source": [
    "message = \"Hello Everyone\"\n",
    "print \"The first letter: \", message[0]\n",
    "print \"The 2nd through 9th letters: \", message[1:10]\n",
    "print \"The last letter is \", message[-1]"
   ]
  },
  {
   "cell_type": "markdown",
   "metadata": {},
   "source": [
    "#### String Operators\n",
    "String operators are special bits of code that ONLY WORK ON STRINGS. So while a \"+\" will add two numbers, it will concatenate Strings instead of adding them.\n",
    "\n",
    "+         Concatenation - Adds values on either side of the operator \n",
    "\n",
    "*         Repetition - Creates new strings, concatenating multiple copies of the same string \n",
    "\n",
    "[]        Slice - Gives the character from the given index\n",
    "\n",
    "[ : ]     Range Slice - Gives the characters from the given range     \n",
    "\n",
    "in        Membership - Returns true if a character exists in the given string    \n",
    "\n",
    "not in    Membership - Returns true if a character does not exist in the given string  "
   ]
  },
  {
   "cell_type": "code",
   "execution_count": 11,
   "metadata": {
    "collapsed": false
   },
   "outputs": [
    {
     "name": "stdout",
     "output_type": "stream",
     "text": [
      "HelloPython\n",
      "HelloHelloHelloHelloHello\n",
      "Is H in Hello? True\n",
      "Is z in Hello? False\n",
      "Is H **NOT** in Hello? False\n",
      "Is z **NOT** in Hello? True\n",
      "n\n",
      "o\n",
      "P\n"
     ]
    }
   ],
   "source": [
    "a = \"Hello\"\n",
    "b = \"Python\"\n",
    "print a + b\n",
    "print a * 5\n",
    "print \"Is H in Hello?\", \"H\" in a\n",
    "print \"Is z in Hello?\", \"z\" in a\n",
    "print \"Is H **NOT** in Hello?\", \"H\" not in a\n",
    "print \"Is z **NOT** in Hello?\", \"z\" not in a\n",
    "\n",
    "print b[-1]\n",
    "print b[-2]\n",
    "print b[-6]"
   ]
  },
  {
   "cell_type": "markdown",
   "metadata": {},
   "source": [
    "#### String Methods\n",
    "String methods are similar to operators in that they manipulate data, but they are used very differently. Methods use the DOT NOTATION. This means that you put the name of the variable, a dot (\".\"), the name of the method, and then parentheses. "
   ]
  },
  {
   "cell_type": "code",
   "execution_count": 14,
   "metadata": {
    "collapsed": false
   },
   "outputs": [
    {
     "data": {
      "text/plain": [
       "True"
      ]
     },
     "execution_count": 14,
     "metadata": {},
     "output_type": "execute_result"
    }
   ],
   "source": [
    "\"123\".isdigit()"
   ]
  },
  {
   "cell_type": "code",
   "execution_count": 15,
   "metadata": {
    "collapsed": false
   },
   "outputs": [
    {
     "data": {
      "text/plain": [
       "False"
      ]
     },
     "execution_count": 15,
     "metadata": {},
     "output_type": "execute_result"
    }
   ],
   "source": [
    "\"one\".isdigit()"
   ]
  },
  {
   "cell_type": "markdown",
   "metadata": {},
   "source": [
    "Sometimes you need to additional information to get a method to work.  This information is called a PARAMETER. Parameters are extra pieces of information that are needed to figure out the desired answer.\n",
    "\n",
    "For instance, one useful method is count, it returns the number of times a substring shows up in a variable. If you want the count method to return something, you better tell it what you are looking for. "
   ]
  },
  {
   "cell_type": "code",
   "execution_count": 16,
   "metadata": {
    "collapsed": false
   },
   "outputs": [
    {
     "name": "stdout",
     "output_type": "stream",
     "text": [
      "3\n",
      "2\n",
      "0\n"
     ]
    }
   ],
   "source": [
    "a = \"Hello Everyone\" \n",
    "print a.count('e')\n",
    "print a.count('o')\n",
    "print a.count('z')"
   ]
  },
  {
   "cell_type": "markdown",
   "metadata": {},
   "source": [
    "Here are some additional String methods: find(), lfind(), rfind(), index(), isalnum(), isalpha(), isdigit(), len(), strip, lstrip(), rstrip(), split()"
   ]
  },
  {
   "cell_type": "code",
   "execution_count": null,
   "metadata": {
    "collapsed": true
   },
   "outputs": [],
   "source": [
    "str = \"Value 1, Value 2, Value 3, Value 4\";\n",
    "print str.split( );\n",
    "print str.split(',');"
   ]
  },
  {
   "cell_type": "markdown",
   "metadata": {},
   "source": [
    "### Lists\n",
    "The value returned by split() is a list. The list is a  versatile data type. It is a sequence of comma-separated values encased by square brackets.  Items in a list do not have to be of the same type."
   ]
  },
  {
   "cell_type": "code",
   "execution_count": 18,
   "metadata": {
    "collapsed": false
   },
   "outputs": [
    {
     "name": "stdout",
     "output_type": "stream",
     "text": [
      "['Colleen', 'van Lent', 40, 'F']\n",
      "['Bob', 'McCarthy', 50, 'M']\n"
     ]
    }
   ],
   "source": [
    "me = [\"Colleen\", \"van Lent\", 40, 'F']\n",
    "you = [\"Bob\", \"McCarthy\", 50, 'M']\n",
    "print me\n",
    "print you"
   ]
  },
  {
   "cell_type": "code",
   "execution_count": 20,
   "metadata": {
    "collapsed": false
   },
   "outputs": [
    {
     "name": "stdout",
     "output_type": "stream",
     "text": [
      "Colleen van Lent 40 F\n"
     ]
    }
   ],
   "source": [
    "for info in me:\n",
    "    print info            #Try putting a comma after the word info"
   ]
  },
  {
   "cell_type": "code",
   "execution_count": 21,
   "metadata": {
    "collapsed": false
   },
   "outputs": [
    {
     "name": "stdout",
     "output_type": "stream",
     "text": [
      "[['Bob', 'McCarthy', 50, 'M'], ['Colleen', 'van Lent', 40, 'F']]\n"
     ]
    }
   ],
   "source": [
    "me = [\"Colleen\", \"van Lent\", 40, 'F']\n",
    "you = [\"Bob\", \"McCarthy\", 50, 'M']\n",
    "people = [you, me]\n",
    "print people"
   ]
  },
  {
   "cell_type": "code",
   "execution_count": 26,
   "metadata": {
    "collapsed": false
   },
   "outputs": [
    {
     "name": "stdout",
     "output_type": "stream",
     "text": [
      "['Colleen', 'van Lent', 40, 'F']\n"
     ]
    }
   ],
   "source": [
    "print people[0]           #Change the 0 to a 1, and then a 2"
   ]
  },
  {
   "cell_type": "markdown",
   "metadata": {},
   "source": [
    "#### Built-in List Functions and Methods\n",
    "Lists have a number of functions and methods associated with them.\n",
    "Some functions include: len(list) max(list) min(list) list(seq)\n",
    "\n",
    "Some of the methods are: count(), index(obj)\n",
    "\n",
    "Some list methods are in-place. This means that the lists are changed, but the methods don't \"return\" anything. These include sort(), reverse(), insert(), append(), and remove."
   ]
  },
  {
   "cell_type": "code",
   "execution_count": 30,
   "metadata": {
    "collapsed": false
   },
   "outputs": [
    {
     "name": "stdout",
     "output_type": "stream",
     "text": [
      "[['Colleen', 'van Lent', 40, 'F'], ['Bob', 'McCarthy', 50, 'M'], ['Sally', 'James', 25, 'Unknown'], ['John', 'Doe', 18, 'M']]\n",
      "\n",
      "List Functions \n",
      "\n",
      "The length of the full list is  4\n",
      "The max of the full list is ['Sally', 'James', 25, 'Unknown']\n",
      "The min of the full list is ['Bob', 'McCarthy', 50, 'M']\n",
      "\n",
      "List Methods\n",
      "\n",
      "How many times does Colleen appear? 0\n",
      "How many times does Colleen list appear? 1\n",
      "\n",
      "The initial list is [['Colleen', 'van Lent', 40, 'F'], ['Bob', 'McCarthy', 50, 'M'], ['Sally', 'James', 25, 'Unknown'], ['John', 'Doe', 18, 'M']]\n",
      "Now it is sorted [['Bob', 'McCarthy', 50, 'M'], ['Colleen', 'van Lent', 40, 'F'], ['John', 'Doe', 18, 'M'], ['Sally', 'James', 25, 'Unknown']]\n",
      "\n",
      "The initial list is [['Bob', 'McCarthy', 50, 'M'], ['Colleen', 'van Lent', 40, 'F'], ['John', 'Doe', 18, 'M'], ['Sally', 'James', 25, 'Unknown']]\n",
      "Now it has been reversed [['Sally', 'James', 25, 'Unknown'], ['John', 'Doe', 18, 'M'], ['Colleen', 'van Lent', 40, 'F'], ['Bob', 'McCarthy', 50, 'M']]\n",
      "\n",
      "The initial list is [['Sally', 'James', 25, 'Unknown'], ['John', 'Doe', 18, 'M'], ['Colleen', 'van Lent', 40, 'F'], ['Bob', 'McCarthy', 50, 'M']]\n",
      "[['Sally', 'James', 25, 'Unknown'], ['John', 'Doe', 18, 'M'], ['Colleen', 'van Lent', 40, 'F'], ['Bob', 'McCarthy', 50, 'M'], ['Becca', 'van Lent', 5, 'F']]\n",
      "\n",
      "The initial list is [['Sally', 'James', 25, 'Unknown'], ['John', 'Doe', 18, 'M'], ['Colleen', 'van Lent', 40, 'F'], ['Bob', 'McCarthy', 50, 'M'], ['Becca', 'van Lent', 5, 'F']]\n",
      "[['Sally', 'James', 25, 'Unknown'], ['John', 'Doe', 18, 'M'], ['Chris', 'van Lent', 7, 'M'], ['Colleen', 'van Lent', 40, 'F'], ['Bob', 'McCarthy', 50, 'M'], ['Becca', 'van Lent', 5, 'F']]\n"
     ]
    }
   ],
   "source": [
    "me = [\"Colleen\", \"van Lent\", 40, 'F']\n",
    "you = [\"Bob\", \"McCarthy\", 50, 'M']\n",
    "her = [\"Sally\", \"James\", 25, 'Unknown']\n",
    "him = [\"John\", \"Doe\", 18, 'M']\n",
    "people = [me, you, her, him]\n",
    "print people\n",
    "\n",
    "\n",
    "\n",
    "print \"\\nList Functions \\n\"\n",
    "print \"The length of the full list is \" ,len(people)\n",
    "print \"The max of the full list is\" ,max(people)\n",
    "print \"The min of the full list is\" ,min(people)\n",
    "\n",
    "\n",
    "\n",
    "print \"\\nList Methods\\n\"\n",
    "print \"How many times does Colleen appear?\", people.count('Colleen')\n",
    "print \"How many times does Colleen list appear?\", people.count(me)\n",
    "\n",
    "\n",
    "print \"\\nThe initial list is\", people\n",
    "people.sort() \n",
    "print \"Now it is sorted\", people\n",
    "\n",
    "print \"\\nThe initial list is\", people\n",
    "people.reverse()\n",
    "print \"Now it has been reversed\", people\n",
    "\n",
    "print \"\\nThe initial list is\", people\n",
    "people.append(['Becca', 'van Lent', 5, 'F'])\n",
    "print people\n",
    "\n",
    "print \"\\nThe initial list is\", people\n",
    "people.insert(2, ['Chris', 'van Lent', 7, 'M'])\n",
    "print people"
   ]
  },
  {
   "cell_type": "markdown",
   "metadata": {},
   "source": [
    "### Now what?\n",
    "Lets do a little input using the raw_input() function."
   ]
  },
  {
   "cell_type": "code",
   "execution_count": null,
   "metadata": {
    "collapsed": true
   },
   "outputs": [],
   "source": [
    "message = raw_input(\"Enter your input: \")\n",
    "\n",
    "print message\n",
    "print message.find(\"Colleen\")\n",
    "print message.count(\"l\")\n",
    "print message.index(\" \")\n",
    "print message.rfind(\" \")"
   ]
  },
  {
   "cell_type": "markdown",
   "metadata": {},
   "source": [
    "Functions and methods are great way to reuse code.  Someone wrote some code and you (awesomely) get to use it over and over again.  But you can write your own code for reuse as well.  One way to do that is to write your own functions.  Another way is to use loops.\n",
    "\n"
   ]
  },
  {
   "cell_type": "markdown",
   "metadata": {},
   "source": [
    "## Flow of Control"
   ]
  },
  {
   "cell_type": "markdown",
   "metadata": {},
   "source": [
    "The real power of computing is selection and repetition. Selection is when you use comparison operators to direct which path the program should take. Repetition is when code is executed multiple times."
   ]
  },
  {
   "cell_type": "code",
   "execution_count": 37,
   "metadata": {
    "collapsed": false
   },
   "outputs": [
    {
     "name": "stdout",
     "output_type": "stream",
     "text": [
      " Yum!!\n",
      "Only 4 left\n",
      "Yum!!\n",
      "Only 3 left\n",
      "Yum!!\n",
      "Only 2 left\n",
      "Yum!!\n",
      "Only 1 left\n",
      "Yum!!\n",
      "Only 0 left\n",
      "I am full now.\n"
     ]
    }
   ],
   "source": [
    "num_cookies = 5\n",
    "while num_cookies > 0:\n",
    "    print \"Yum!!\"\n",
    "    num_cookies -=1                                    #Don't unindent this code!!!\n",
    "    print \"Only \" + str(num_cookies) + \" left\"         #Unindent this code\n",
    "print \"I am full now.\""
   ]
  },
  {
   "cell_type": "markdown",
   "metadata": {},
   "source": [
    "The indentation is VERY, VERY important. You must be consistent, you can't switch back and forth between tabs or individual spaces. \n",
    "\n",
    "The other thing you need to be VERY worried about is the possibility of infinite loops. Go back up and change the code to num_cookies = 0 or add one instead of subtracting one."
   ]
  },
  {
   "cell_type": "markdown",
   "metadata": {},
   "source": [
    "## if statements\n",
    "You can use if statements to control which code is executed."
   ]
  },
  {
   "cell_type": "code",
   "execution_count": 45,
   "metadata": {
    "collapsed": false
   },
   "outputs": [
    {
     "name": "stdout",
     "output_type": "stream",
     "text": [
      "Enter your age: 11\n",
      "Minor\n"
     ]
    }
   ],
   "source": [
    "age = raw_input(\"Enter your age: \")\n",
    "age = int(age)\n",
    "if age < 18:\n",
    "    print \"Minor\""
   ]
  },
  {
   "cell_type": "code",
   "execution_count": 47,
   "metadata": {
    "collapsed": false
   },
   "outputs": [
    {
     "name": "stdout",
     "output_type": "stream",
     "text": [
      "Enter your age: 34\n",
      "Adult\n"
     ]
    }
   ],
   "source": [
    "age = raw_input(\"Enter your age: \")\n",
    "age = int(age)\n",
    "if age < 18:\n",
    "    print \"Minor\"\n",
    "else:\n",
    "    print \"Adult\""
   ]
  },
  {
   "cell_type": "code",
   "execution_count": 49,
   "metadata": {
    "collapsed": false
   },
   "outputs": [
    {
     "name": "stdout",
     "output_type": "stream",
     "text": [
      "Enter your age: 56\n",
      "Adult\n"
     ]
    }
   ],
   "source": [
    "age = raw_input(\"Enter your age: \")\n",
    "age = int(age)\n",
    "if age < 18:                         #Option 1\n",
    "    print \"Minor\"\n",
    "elif age > 100:                      #Option 2\n",
    "    print \"Centenarian\"\n",
    "elif age > 65:                       #Option 3\n",
    "    print \"Senior\"\n",
    "else:                                #Option 4\n",
    "    print \"Adult\""
   ]
  },
  {
   "cell_type": "markdown",
   "metadata": {},
   "source": [
    "## Looping\n",
    "Did you notice the colon : in the if statements?  The colon signifies that a block of code is coming.  That block of code is indented.   You also use the colon when writing loops.\n",
    "\n",
    "### while loop\n",
    "The while loop will execute the block of code over and over until the conditional statement after the word \"while\" is true."
   ]
  },
  {
   "cell_type": "code",
   "execution_count": 50,
   "metadata": {
    "collapsed": false
   },
   "outputs": [
    {
     "name": "stdout",
     "output_type": "stream",
     "text": [
      "0\n",
      "2\n",
      "4\n",
      "6\n",
      "8\n",
      "10\n"
     ]
    }
   ],
   "source": [
    "num = 0\n",
    "while num <=10:\n",
    "    if num % 2 == 0:\n",
    "        print num\n",
    "    num +=1"
   ]
  },
  {
   "cell_type": "markdown",
   "metadata": {},
   "source": [
    "### for loop\n",
    "The for loop is typically used in two situations.  The first is when you know how many time you want to execute a loop.  The second is when you want to loop through a collection."
   ]
  },
  {
   "cell_type": "code",
   "execution_count": 51,
   "metadata": {
    "collapsed": false
   },
   "outputs": [
    {
     "name": "stdout",
     "output_type": "stream",
     "text": [
      "0\n",
      "1\n",
      "2\n"
     ]
    }
   ],
   "source": [
    "for x in range(0, 3):\n",
    "    print x"
   ]
  },
  {
   "cell_type": "code",
   "execution_count": 52,
   "metadata": {
    "collapsed": false
   },
   "outputs": [
    {
     "name": "stdout",
     "output_type": "stream",
     "text": [
      "Colleen\n",
      "van Lent\n",
      "40\n",
      "F\n"
     ]
    }
   ],
   "source": [
    "for info in me:\n",
    "    print info            #Try putting a comma after the word info"
   ]
  },
  {
   "cell_type": "code",
   "execution_count": 58,
   "metadata": {
    "collapsed": false
   },
   "outputs": [
    {
     "name": "stdout",
     "output_type": "stream",
     "text": [
      "1\n",
      "2\n",
      "3\n",
      "4\n",
      "5\n",
      "6\n",
      "7\n",
      "8\n",
      "9\n"
     ]
    }
   ],
   "source": [
    "list_of_lists = [ [1, 2, 3, 4], [5, 6], [7, 8, 9]]\n",
    "for list in list_of_lists:\n",
    "    for x in list:\n",
    "        print x                            #Add another comma here\n",
    "    #print \"\\n\""
   ]
  },
  {
   "cell_type": "markdown",
   "metadata": {},
   "source": [
    "## Loops and lists"
   ]
  },
  {
   "cell_type": "code",
   "execution_count": 59,
   "metadata": {
    "collapsed": false
   },
   "outputs": [
    {
     "name": "stdout",
     "output_type": "stream",
     "text": [
      "0 ['Colleen', 'van Lent', 40, 'F']\n",
      "1 ['Bob', 'McCarthy', 50, 'M']\n",
      "2 ['Sally', 'James', 25, 'Unknown']\n",
      "3 ['John', 'Doe', 18, 'M']\n"
     ]
    }
   ],
   "source": [
    "me = [\"Colleen\", \"van Lent\", 40, 'F']\n",
    "you = [\"Bob\", \"McCarthy\", 50, 'M']\n",
    "her = [\"Sally\", \"James\", 25, 'Unknown']\n",
    "him = [\"John\", \"Doe\", 18, 'M']\n",
    "people = [me, you, her, him]\n",
    "for  i in range(len(people)):\n",
    "    print i, people[i]"
   ]
  },
  {
   "cell_type": "markdown",
   "metadata": {},
   "source": [
    "## Functions\n",
    "We have already used functions in this tutorial. A function is a block of reusable code that is used to perform a single (albeit possibly complex) task. Functions allow for code reuse and also allow you to work better as a team. The process of defining a function is as follows:\n",
    "\n",
    "1) Function blocks begin with the keyword def followed by the function name, parentheses ( ), and colon\n",
    "            def myFunction():\n",
    "\n",
    "2) Any input parameters or arguments should be placed within these parentheses.\n",
    "            def printMeALot(msg, times):\n",
    "\n",
    "3) The code block within every function is indented.\n",
    "            def printMeALot(msg, times): \n",
    "                  for i in range(times): print msg\n",
    "                  \n",
    "4) Any return statements will cause an exit from the a function\n",
    "\n",
    "5) A return statement can pass an expression back to the caller. A return statement with no arguments is the same as return None.\n"
   ]
  },
  {
   "cell_type": "code",
   "execution_count": 60,
   "metadata": {
    "collapsed": false
   },
   "outputs": [
    {
     "name": "stdout",
     "output_type": "stream",
     "text": [
      "I am the greatest\n",
      "I am the greatest\n",
      "I am the greatest\n",
      "I am the greatest\n",
      "I am the greatest\n",
      "I am the greatest\n",
      "I am the greatest\n",
      "I am the greatest\n",
      "I am the greatest\n",
      "I am the greatest\n"
     ]
    }
   ],
   "source": [
    "def printMeALot(msg, times):\n",
    "    for i in range(times):\n",
    "        print msg\n",
    "            \n",
    "printMeALot(\"I am the greatest\", 10)"
   ]
  },
  {
   "cell_type": "markdown",
   "metadata": {},
   "source": [
    "# Using what you have\n",
    "Later you will learn more about using code from others.  Below I have two examples of some Python code that uses the Beautiful Soup package.  Beautiful soup can parse a webpage, letting you parse the information.  \n",
    "\n",
    "Lets just focus on the code I hope you now can make small changes to.  (Start with the for loops.)  Can you identify the variables?  The loops?  Can you find string methods?"
   ]
  },
  {
   "cell_type": "code",
   "execution_count": 67,
   "metadata": {
    "collapsed": false
   },
   "outputs": [
    {
     "name": "stdout",
     "output_type": "stream",
     "text": [
      "Sanders’s West Virginia Victory Prolongs Race With Clinton\n",
      "Clinton, in Shift to Left, Favors Wider Access to Medicare\n",
      "Ryan Revives Lost Washington Art of Intraparty Jousting\n",
      "Both Disliked, Clinton and Trump Accentuate the Negatives\n",
      "In Clinton, U.F.O. Enthusiasts See End of a U.S. Cover-Up\n",
      "Obama’s Plans in Hiroshima Raise Ghosts of History\n",
      "Obama to Be First Sitting President to Visit Hiroshima\n",
      "Global Warming Seen as Lit Match in Northern Fires\n",
      "Your Evening Briefing\n",
      "A Secret Section of Central Park Reopens\n",
      "It’s a Tough Job Market for the Young Without Degrees\n",
      "Government Must Play a Role Again in Job Creation\n",
      "Transgender Fight May Hinge On Reach of a 1964 Law\n",
      "A Filipino ‘Donald Trump’ Inspires Fear, and Praise\n",
      "The Full-Bodied Joy of Students Who Got a Late Start\n",
      "Staples and Office Depot End $6.3 Billion Merger Plan\n",
      "Bangladesh Tense After Opposition Leader Is Executed\n",
      "Seller-Financed Home Sales Get Federal Scrutiny\n",
      "Turkey’s President Fails to Silence German Publisher\n",
      "Uber Agrees to Guild for New York Drivers\n",
      "Stephen Curry’s 17-Point Overtime: Shot by Shot\n",
      "Gay Rights Landmarks, Beyond the Stonewall Inn\n",
      "Spring in Paris, My New Home, After the Siege\n",
      "What Mr. Obama Can Say at Hiroshima\n",
      "Editorial: A Soldier’s Challenge to the President\n",
      "Brooks: Putting Grit in Its Place\n",
      "China's Middle-Class Anxieties\n",
      "Campaign Stops: The Women Who Like Donald Trump\n",
      "Op-Ed: Is This the End of the Religious Right?\n",
      "Chewing the Fat With Obama and Bryan Cranston: Notes From the Oval Office\n",
      "Starry, Starry Night: A Photo Shoot\n",
      "Chewing the Fat With Obama and Bryan Cranston: Notes From the Oval Office\n",
      "Play Today’s Puzzle\n",
      "Play Today’s Puzzle\n",
      "Words From Sinatra\n",
      "Notes on an Obama and Bryan Cranston Sit-Down\n",
      "An Experimental Living Room in New York City\n",
      "Op-Ed: Why Dark Money Is Bad Business\n",
      "Films From Middle East Have Big Year at Cannes\n",
      "Review: Portraits of Vietnam in Love and War\n",
      "Will Regulating E-Cigarettes Mean Fewer Will Quit?\n",
      "Lens: Reclaiming a Photographic Narrative\n",
      "Fixes: Using Tweets to Speed Up Organ Donation\n",
      "A Window Into the Workings of Zika\n",
      "Talks With John Updike, Toni Morrison and More\n",
      "Couch: Of Dating and Diplomacy\n",
      "‘The Good Wife’ Ends With No Easy Answers\n",
      "Obama’s Visit Raises Ghosts of Hiroshima\n",
      "Brazilian Speaker, in About-Face, Won’t Annul Dilma Rousseff’s Impeachment\n",
      "Romania Takes Step Toward Restitution to Holocaust Survivors\n",
      "Senator Demands Answers From Facebook on Claims of ‘Trending’ List Bias\n",
      "Puerto Rico’s Fiscal Fiasco Is a Harbinger of Mainland Woes\n",
      "Clinton Son-in-Law’s Firm Is Said to Close Greece Hedge Fund\n",
      "The Stone: Trump, Truth and the Power of Contradiction\n",
      "Editorial: A Better, Not Fatter, Defense Budget\n",
      "Charles M. Blow: G.O.P. Has Only Itself to Blame\n",
      "Two Fatally Stabbed; Attacker Is Killed at Mall in Massachusetts\n",
      "West Point Won’t Punish Cadets in Raised-Fist Photo\n",
      "USA Today Cuts Ties With Crossword Editor After Plagiarism Scandal\n",
      "Senator Demands Answers From Facebook on Claims of ‘Trending’ List Bias\n",
      "As ‘Sextortion’ Proliferates, Victims Find Precarious Place in Legal System\n",
      "Uber Recognizes New York Drivers’ Group, Short of a Union\n",
      "Michael S. Harper, Poet With a Jazz Pulse, Dies at 78\n",
      "Prince’s Doctor Arrived With Test Results Only to Find Him Dead\n",
      "George Carlin’s Belongings Find New Home at National Comedy Center\n",
      "Bernie Sanders Wins West Virginia, Prolonging Race With Hillary Clinton\n",
      "First Draft: Donald Trump’s Campaign Trail May Take Detour to Scotland\n",
      "First Draft: Hillary Clinton Backs Income Limits on Parents’ Costs for Child Care\n",
      "On Beauty: Skincare Advice From a Budapest-Based Beauty Founder\n",
      "List of Five: Colin Hanks Learns the Importance of Fashion From Tim Gunn\n",
      "The Forgotten Designer Behind Some of Fashion’s Biggest Trends\n",
      "Crowe and Gosling in a Comedy? Seriously\n",
      "Review: Health Care Bureaucracy Runs Amok in ‘A Monster With a Thousand Heads’\n",
      "‘King of Jazz’ Is Back, Burnished for Movie Fans\n",
      "Mistrial Declared in Racketeering Case Against Reputed Mafia Leader\n",
      "Court Vacates Long Island Teacher’s Evaluation Tied to Test Scores\n",
      "Cuomo Distances Himself From Lobbyist at Center of Inquiry\n",
      "On Pro Basketball: Stephen Curry Turns the Amazing Into the Everyday and Raises the Bar, Over and Over\n",
      "Stephen Curry Is M.V.P., and This Time It’s Unanimous\n",
      "Stephen Curry’s 17-Point Overtime: Shot by Shot\n",
      "Rhiannon Giddens to Replace Audra McDonald During ‘Shuffle Along’ Hiatus\n",
      "MCC Theater to Present the Musical ‘Ride the Cyclone’ and a Matthew Perry Play\n",
      "Joe Allen, Broadway’s Quiet Man\n",
      "Global Warming Cited as Wildfires Increase in Fragile Boreal Forest\n",
      "Kepler Finds 1,284 New Planets\n",
      "Study Casts Doubt on Theory That Legal Hunting Reduces Poaching\n",
      "Anne Deborah Atai-Omoruto, Who Helped Lead Ebola Fight in Liberia, Dies at 59\n",
      "Michael S. Harper, Poet With a Jazz Pulse, Dies at 78\n",
      "Ramón Carlín, Casual Sailor Who Won a Round-the-World Race, Dies at 92\n",
      "Chewing the Fat With Obama and Bryan Cranston: Notes From the Oval Office\n",
      "Submit Questions for Ilene Chaiken of ‘Empire’\n",
      "What’s on TV Tuesday\n",
      "Anne Deborah Atai-Omoruto, Who Helped Lead Ebola Fight in Liberia, Dies at 59\n",
      "Addicts Who Can’t Find Painkillers Turn to Anti-Diarrhea Drugs\n",
      "The New Health Care: E-Cigarettes Are Safer, but Not Exactly Safe\n",
      "Essay: Spring in Paris, My Adopted City, After the Siege\n",
      "Update: Where to Go in Europe, and How to Stay Safe\n",
      "In Transit: When ‘Suspicious’ Activity on Flights Really Isn’t\n",
      "Bookends: What’s the Best Book Written About Siblings?\n",
      "Nonfiction: ‘How Women Decide,’ by Therese Huston\n",
      "Nonfiction: ‘You May Also Like’ and ‘Pretentiousness: Why It Matters’\n",
      "It’s a Tough Job Market for the Young Without College Degrees\n",
      "At Cornell, the College Daily Will No Longer Be Daily\n",
      "Editorial: Guess Who’s Taking Remedial Classes\n",
      "Restaurant Review: Looks Aren’t Everything at Café Altro Paradiso\n",
      "Joe Allen, Broadway’s Quiet Man\n",
      "Fried Chicken With a German Accent\n",
      "Opinion: Why You Can’t Lose Weight on a Diet\n",
      "Editorial | Locked Out of Society: Labels Like ‘Felon’ Are an Unfair Life Sentence\n",
      "Frank Bruni: Sex and the Singular Pol\n",
      "Brooklyn on the North Fork\n",
      "Exclusive: Old Meets New in Sag Harbor\n",
      "International Real Estate: House Hunting in ... Wales\n",
      "The 2016 Race: No, the Battleground States Are Not a Terrific Fit for Donald Trump\n",
      "The 2016 Race: Voters’ Fears About Trump May Outweigh Wish for Change\n",
      "The New Health Care: E-Cigarettes Are Safer, but Not Exactly Safe\n",
      "First Words: What Do Our Online Avatars Reveal About Us?\n",
      "On Money: Bubble Indemnity\n",
      "Social Capital: The Blue-Velvet Vapelord: On Perfume Genius’s Twitter\n",
      "Takata Estimates a Loss of $120 Million, Citing Recalls\n",
      "Driven: Video Review: Kia Sportage Gets a Stylish Makeover\n",
      "Head of Fiat Chrysler Sees Self-Driving Cars in Five Years, Not 20\n",
      "On Beauty: Skincare Advice From a Budapest-Based Beauty Founder\n",
      "A Performance Project That Brings Some Mystery to the Glass House\n",
      "A Spring Asparagus Dish From London’s Beloved River Café\n",
      "Chewing the Fat With Obama and Bryan Cranston: Notes From the Oval Office\n",
      "Starry, Starry Night: A Photo Shoot\n",
      "Book Club: Times Insider Book Club: More on College Admissions Mania\n",
      "Christopher Jackson of ‘Hamilton,’ at Home in the Bronx\n",
      "Search for Homes for Sale or Rent\n",
      "Sell Your Home\n",
      "Old Meets New in Sag Harbor\n"
     ]
    }
   ],
   "source": [
    "import requests\n",
    "from bs4 import BeautifulSoup\n",
    " \n",
    "base_url = 'http://www.nytimes.com'\n",
    "r = requests.get(base_url)\n",
    "soup = BeautifulSoup(r.text)\n",
    "\n",
    "\n",
    "for story_heading in soup.find_all(class_=\"story-heading\"): \n",
    "    if story_heading.a: \n",
    "        print(story_heading.a.text.replace(\"\\n\", \" \").strip())\n",
    "    else: \n",
    "        print(story_heading.contents[0].strip())"
   ]
  },
  {
   "cell_type": "code",
   "execution_count": 68,
   "metadata": {
    "collapsed": false
   },
   "outputs": [
    {
     "name": "stdout",
     "output_type": "stream",
     "text": [
      "\n",
      "Romero finally feeling healthy\n",
      "\n",
      "Lawrence leaves her footprints on the basepaths\n",
      "\n",
      "CGI makes ‘The Jungle Book’ compelling\n",
      "\n",
      "Senior class leads Wolverines to ninth straight Big Ten title\n",
      "\n",
      "Wolverines prepare for Big Ten Outdoor Championships\n"
     ]
    }
   ],
   "source": [
    "import requests\n",
    "from bs4 import BeautifulSoup\n",
    " \n",
    "base_url = 'https://www.michigandaily.com/section/opinion'\n",
    "r = requests.get(base_url)\n",
    "\n",
    "soup = BeautifulSoup(r.text)\n",
    "\n",
    "for story_heading in soup.find_all(class_=\"pane-most-read-panel-pane-1\"): \n",
    "    for links in story_heading.find_all(class_=\"field-content\"):\n",
    "        if links.a: \n",
    "            print(\"\\n\"+links.a.text.replace(\"\\n\", \" \").strip())\n",
    "        else: \n",
    "            print(\"\\n\"+links.contents[0].strip())"
   ]
  },
  {
   "cell_type": "code",
   "execution_count": null,
   "metadata": {
    "collapsed": true
   },
   "outputs": [],
   "source": []
  }
 ],
 "metadata": {
  "kernelspec": {
   "display_name": "Python 2",
   "language": "python",
   "name": "python2"
  },
  "language_info": {
   "codemirror_mode": {
    "name": "ipython",
    "version": 2
   },
   "file_extension": ".py",
   "mimetype": "text/x-python",
   "name": "python",
   "nbconvert_exporter": "python",
   "pygments_lexer": "ipython2",
   "version": "2.7.11"
  }
 },
 "nbformat": 4,
 "nbformat_minor": 0
}
